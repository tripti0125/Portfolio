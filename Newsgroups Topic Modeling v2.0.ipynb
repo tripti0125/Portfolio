{
 "cells": [
  {
   "cell_type": "markdown",
   "metadata": {},
   "source": [
    "# Newsgroups Topic Modeling\n",
    "\n",
    "The data set contains about 11,000 newsgroup articles categorized into 20 topics. We'll use Bag-of-Words model and Latent Dirichlet Allocation algorithm (from Python Sci-kit-Learn library) to predict the topic of a given article. LDA is an unsupervised machine learning method."
   ]
  },
  {
   "cell_type": "markdown",
   "metadata": {},
   "source": [
    "## Library Imports"
   ]
  },
  {
   "cell_type": "code",
   "execution_count": 16,
   "metadata": {},
   "outputs": [],
   "source": [
    "import numpy as np\n",
    "import pandas as pd\n",
    "pd.set_option('display.max_columns', 100)\n",
    "\n",
    "import matplotlib.pyplot as plt\n",
    "%matplotlib inline\n",
    "\n",
    "import seaborn as sns\n",
    "sns.set_style('darkgrid')"
   ]
  },
  {
   "cell_type": "code",
   "execution_count": 17,
   "metadata": {},
   "outputs": [],
   "source": [
    "import spacy, re"
   ]
  },
  {
   "cell_type": "code",
   "execution_count": 18,
   "metadata": {},
   "outputs": [],
   "source": [
    "from sklearn.decomposition import LatentDirichletAllocation\n",
    "from sklearn.feature_extraction.text import CountVectorizer\n",
    "\n",
    "from sklearn.model_selection import train_test_split"
   ]
  },
  {
   "cell_type": "code",
   "execution_count": 19,
   "metadata": {},
   "outputs": [],
   "source": [
    "# display tools\n",
    "import pyLDAvis\n",
    "import pyLDAvis.sklearn"
   ]
  },
  {
   "cell_type": "code",
   "execution_count": 20,
   "metadata": {},
   "outputs": [],
   "source": [
    "# seed for the random number generator\n",
    "SEED = 4321"
   ]
  },
  {
   "cell_type": "markdown",
   "metadata": {},
   "source": [
    "### Basic Information"
   ]
  },
  {
   "cell_type": "code",
   "execution_count": 21,
   "metadata": {},
   "outputs": [],
   "source": [
    "from sklearn.datasets import fetch_20newsgroups\n",
    "newsgroups_train = fetch_20newsgroups(subset='train')\n"
   ]
  },
  {
   "cell_type": "code",
   "execution_count": 22,
   "metadata": {},
   "outputs": [
    {
     "data": {
      "text/plain": [
       "['alt.atheism',\n",
       " 'comp.graphics',\n",
       " 'comp.os.ms-windows.misc',\n",
       " 'comp.sys.ibm.pc.hardware',\n",
       " 'comp.sys.mac.hardware',\n",
       " 'comp.windows.x',\n",
       " 'misc.forsale',\n",
       " 'rec.autos',\n",
       " 'rec.motorcycles',\n",
       " 'rec.sport.baseball',\n",
       " 'rec.sport.hockey',\n",
       " 'sci.crypt',\n",
       " 'sci.electronics',\n",
       " 'sci.med',\n",
       " 'sci.space',\n",
       " 'soc.religion.christian',\n",
       " 'talk.politics.guns',\n",
       " 'talk.politics.mideast',\n",
       " 'talk.politics.misc',\n",
       " 'talk.religion.misc']"
      ]
     },
     "execution_count": 22,
     "metadata": {},
     "output_type": "execute_result"
    }
   ],
   "source": [
    "newsgroups_train.target_names"
   ]
  },
  {
   "cell_type": "markdown",
   "metadata": {},
   "source": [
    "The dataset is a list of strings wehre each string is the newsgroup article text. \n",
    "Some topic categories are likely to have many words in common, e.g. talk.politics.mideast and talk.politics.misc. Such articles would be difficult to differenciate using the bag-of-words method."
   ]
  },
  {
   "cell_type": "code",
   "execution_count": 23,
   "metadata": {},
   "outputs": [
    {
     "data": {
      "text/plain": [
       "11314"
      ]
     },
     "execution_count": 23,
     "metadata": {},
     "output_type": "execute_result"
    }
   ],
   "source": [
    "len(newsgroups_train.data)"
   ]
  },
  {
   "cell_type": "markdown",
   "metadata": {},
   "source": [
    "## Text Cleaning"
   ]
  },
  {
   "cell_type": "code",
   "execution_count": 24,
   "metadata": {},
   "outputs": [],
   "source": [
    "# load the SpaCy English language model\n",
    "nlp = spacy.load('en_core_web_sm')"
   ]
  },
  {
   "cell_type": "code",
   "execution_count": 25,
   "metadata": {},
   "outputs": [],
   "source": [
    "my_stopwords = ['get', 'say', 'think', 'go', 'come', 'take', 'well', 'let', 'try', 'first', 'last',\n",
    "                'organization', 'nntp', 'posting', 'host', 'keyword', 'http', 'fwd', 'cc', 'subject', 'not',\n",
    "                'hereupon', 'something', 'mr', 'due', 'latter', 'though', 'their', '’re', 'specially', 'especially', 'probably', \n",
    "                'particularly', 'eventually',\n",
    "                \"'re\", 'together', 'really', 'otherwise', 'then', 'n’t', 'mine', 'afterwards', \"'ve\", 'what', 'whole', \n",
    "                'enough', 'until', 'done', 'these', 'along', 'they', 'around', 'to', 'while', 'anyway', 'onto', \n",
    "                'almost', 'will', 'into', 'you', 'who', 'it', 'more', 'much', 'give', 'everything', \n",
    "                'same', 'hence', 'therefore', 'us', 'seem', 'am', 'the', 'yours', 'about', 'how', 'latterly', 'towards', \n",
    "                'others', 'or', 'part', 'other', \"'m\", 'few', 'beside', 'everyone', 'but', 'she', '‘re', 'myself', \n",
    "                'many', 'wherein', 'whenever', 'here', 'been', 'them', 'yourselves', 'itself', 'beyond', 'are', \n",
    "                'everywhere', 'in', 'may', '’ll', 'however', 'that', '’ve', 'should', 'can', 'elsewhere', 'via', '‘m', \n",
    "                'hereby', '‘ve', 'seeming', 'is', 'mostly', 'whence', 'only', 'least', 'although', 'whereas',\n",
    "                'indeed', 'when', 'n‘t', 'did', 'even', 'those', 'of', 'have', 'always', 'both', 'among', \n",
    "                'had', \"'d\", 'being', 'we', 'your', 'whose', 'see', 'amongst', 'were', 'unless', 'also', 'anyhow', \n",
    "                'please', 'for', 'he', 'from', 'me', 'has', 'himself', 'per', 'yet', 'whither', 'seems', 'moreover', \n",
    "                're', 'anyone', 'ca', 'themselves', 'becoming', 'still', 'serious', 'thus', 'would', 'by', '’d', 'his',\n",
    "                'therefore', 'rather', 'upon', 'somehow', 'thereupon', 'become', 'as', 'somewhere', '‘ll', 'whoever', \n",
    "                \"'ll\", 'five', 'there', 'any', 'toward', 'often', 'whereupon', 'within', '‘s', 'its', 'her',\n",
    "                'a', '’m', 'else', 'several', 'our', 'thru', 'one', 'all', 'wherever', 'every', 'further',\n",
    "                'regarding', 'whether', 'which', 'off', 'just', \"'s\", 'each', 'i', 'must', '’s', 'hereafter', 'be', \n",
    "                'another', 'very', 'doing', 'thereafter', 'yourself', 'herself', 'either', 'whereafter', 'some', 'was', 'do', \n",
    "                'using', 'now', 'ours', 'herein', 'nowhere', 'formerly', 'anywhere', 'does', 'someone', \n",
    "                'became', 'ever', 'various', 'sometimes', 'at', 'thence', 'nevertheless', \n",
    "                'meanwhile', 'my', 'with', '‘d', 'could', 'than', 'therein', 'namely', 'so', 'where', \n",
    "                'seemed', 'whatever', 'becomes', 'such', 'him', 'besides', 'if', 'throughout', 'whereby', \n",
    "                'during', 'already', 'again', 'thereby', 'why', 'most' , 'ourselves', 'on', 'quite', 'this', 'too', \n",
    "                'once', 'perhaps', 'through', 'noone', 'sometime', 'might', 'beforehand', 'nobody', 'and', \n",
    "                'across', 'anything', 'whom', 'hers', 'an', \"n't\"]"
   ]
  },
  {
   "cell_type": "code",
   "execution_count": 26,
   "metadata": {},
   "outputs": [],
   "source": [
    "# tokenize, remove uninformative words, punctualtion, and symbols, and lemmatize a string\n",
    "# return a space-delimited string of clean tokens\n",
    "\n",
    "# digits which part of a proper noun are retained. \n",
    "# e.g. \"G8\", \"run4cure\"\n",
    "\n",
    "def clean_text(string):\n",
    "    document = nlp(string)\n",
    "    \n",
    "    clean_tokens = []\n",
    "    for token in document:\n",
    "        \n",
    "        # remove tokens - numbers/numerals, punctuation, symbols, emojis, \n",
    "        # pronouns, auxilliary verbs, and most stop-words using part-of-speech (POS) tags\n",
    "        \n",
    "        if (len(token.text) > 1) and (token.pos_ in ['NOUN', 'PROPN', 'VERB', 'ADJ', 'ADV', 'PART']):\n",
    "                \n",
    "                # convert token's lemma to lowercase\n",
    "                lower_lemma = token.lemma_.lower()\n",
    "                \n",
    "                # remove stopwords\n",
    "                if lower_lemma not in my_stopwords:\n",
    "                    \n",
    "                    # replace non-ascii characters, remaining punctuation and symbols from the lemma\n",
    "                    clean_token = re.sub(r\"[^a-zA-Z0-9]\", \"\", lower_lemma)\n",
    "                    \n",
    "                    # remove remaining numeric tokens\n",
    "                    if (not clean_token.isnumeric()):\n",
    "                        clean_tokens.append(clean_token)\n",
    "\n",
    "    return \" \".join(clean_tokens)"
   ]
  },
  {
   "cell_type": "code",
   "execution_count": 27,
   "metadata": {},
   "outputs": [],
   "source": [
    "# remove documents containing uuencoded text (a binary-to-text encoding scheme) which produce junk tokens\n",
    "\n",
    "\n",
    "corpus = []\n",
    "for i, doc in enumerate(newsgroups_train.data):\n",
    "    if doc.find(\"bmp\") == -1:\n",
    "        # keep the not uuencoded document\n",
    "    \n",
    "        corpus.append(doc)                                                           "
   ]
  },
  {
   "cell_type": "code",
   "execution_count": 28,
   "metadata": {},
   "outputs": [
    {
     "data": {
      "text/plain": [
       "11269"
      ]
     },
     "execution_count": 28,
     "metadata": {},
     "output_type": "execute_result"
    }
   ],
   "source": [
    "len(corpus)"
   ]
  },
  {
   "cell_type": "code",
   "execution_count": 29,
   "metadata": {},
   "outputs": [],
   "source": [
    "# remove emails\n",
    "# create a corpus which is a list of documents. Each document is a string.\n",
    "\n",
    "corpus = [re.sub(r\"([\\w.-]+)@([\\w.-]+)\", '', doc) for doc in corpus] "
   ]
  },
  {
   "cell_type": "code",
   "execution_count": 30,
   "metadata": {},
   "outputs": [],
   "source": [
    "# clean, tokenize, and lemmatize each document in the corpus\n",
    "# create a list of strings where each string consists of space-delimited clean tokens of the document\n",
    "\n",
    "clean_corpus = [clean_text(doc) for doc in corpus]"
   ]
  },
  {
   "cell_type": "markdown",
   "metadata": {},
   "source": [
    "## Prepare Data"
   ]
  },
  {
   "cell_type": "code",
   "execution_count": 33,
   "metadata": {},
   "outputs": [],
   "source": [
    "X_train, X_test = train_test_split(clean_corpus, test_size=0.25, random_state=SEED)"
   ]
  },
  {
   "cell_type": "code",
   "execution_count": 34,
   "metadata": {},
   "outputs": [
    {
     "name": "stdout",
     "output_type": "stream",
     "text": [
      "8451\n"
     ]
    }
   ],
   "source": [
    "print(len(X_train))"
   ]
  },
  {
   "cell_type": "code",
   "execution_count": 35,
   "metadata": {},
   "outputs": [
    {
     "name": "stdout",
     "output_type": "stream",
     "text": [
      "2818\n"
     ]
    }
   ],
   "source": [
    "print(len(X_test))"
   ]
  },
  {
   "cell_type": "markdown",
   "metadata": {},
   "source": [
    "## Feature Extraction"
   ]
  },
  {
   "cell_type": "code",
   "execution_count": 36,
   "metadata": {},
   "outputs": [],
   "source": [
    "# generate Bag-of-words model for the data\n",
    "# each document is transformed into a word vector\n",
    "# each word vector represents the word's frequency (count of occurrences) in the document\n",
    "\n",
    "vectorizer = CountVectorizer(max_df=0.95, min_df=2, lowercase=False)\n",
    "X_train_vectorized = vectorizer.fit_transform(X_train)"
   ]
  },
  {
   "cell_type": "code",
   "execution_count": 37,
   "metadata": {},
   "outputs": [
    {
     "data": {
      "text/plain": [
       "(8451, 30604)"
      ]
     },
     "execution_count": 37,
     "metadata": {},
     "output_type": "execute_result"
    }
   ],
   "source": [
    "X_train_vectorized.shape"
   ]
  },
  {
   "cell_type": "code",
   "execution_count": 38,
   "metadata": {},
   "outputs": [],
   "source": [
    "X_test_vectorized = vectorizer.transform(X_test)"
   ]
  },
  {
   "cell_type": "code",
   "execution_count": 39,
   "metadata": {},
   "outputs": [
    {
     "data": {
      "text/plain": [
       "(2818, 30604)"
      ]
     },
     "execution_count": 39,
     "metadata": {},
     "output_type": "execute_result"
    }
   ],
   "source": [
    "X_test_vectorized.shape"
   ]
  },
  {
   "cell_type": "markdown",
   "metadata": {},
   "source": [
    "## Model Selection"
   ]
  },
  {
   "cell_type": "code",
   "execution_count": 40,
   "metadata": {},
   "outputs": [],
   "source": [
    "lda = LatentDirichletAllocation(n_components=10, learning_decay=0.7, learning_method='online', random_state=SEED)"
   ]
  },
  {
   "cell_type": "code",
   "execution_count": 41,
   "metadata": {},
   "outputs": [
    {
     "data": {
      "text/plain": [
       "LatentDirichletAllocation(learning_method='online', random_state=4321)"
      ]
     },
     "execution_count": 41,
     "metadata": {},
     "output_type": "execute_result"
    }
   ],
   "source": [
    "lda.fit(X_train_vectorized)"
   ]
  },
  {
   "cell_type": "code",
   "execution_count": 42,
   "metadata": {},
   "outputs": [
    {
     "name": "stdout",
     "output_type": "stream",
     "text": [
      "-8656405.948\n"
     ]
    }
   ],
   "source": [
    "log_likelihood_train = lda.score(X_train_vectorized)\n",
    "print(log_likelihood_train.round(3))"
   ]
  },
  {
   "cell_type": "code",
   "execution_count": 43,
   "metadata": {},
   "outputs": [
    {
     "name": "stdout",
     "output_type": "stream",
     "text": [
      "-2727827.91\n"
     ]
    }
   ],
   "source": [
    "log_likelihood_test = lda.score(X_test_vectorized)\n",
    "print(log_likelihood_test.round(3))"
   ]
  },
  {
   "cell_type": "markdown",
   "metadata": {},
   "source": [
    "Higher the log likelihood, better the model. "
   ]
  },
  {
   "cell_type": "code",
   "execution_count": 44,
   "metadata": {},
   "outputs": [],
   "source": [
    "def print_top_words(model, feature_names, n_top_words):\n",
    "    for topic_idx, topic in enumerate(model.components_):\n",
    "        message = \"Topic #%d: \" % topic_idx\n",
    "        message += \" \".join([feature_names[i]\n",
    "                             for i in topic.argsort()[:-n_top_words - 1:-1]])\n",
    "        print(message)\n",
    "    print()\n"
   ]
  },
  {
   "cell_type": "code",
   "execution_count": 45,
   "metadata": {},
   "outputs": [
    {
     "name": "stdout",
     "output_type": "stream",
     "text": [
      "Topic #0: people write gun law make right article use believe mean know thing question point state way own good fact reason\n",
      "Topic #1: ground wire msg homosexual gay man helmet article clayton outlet wiring neutral de sexual cramer research duo california write male\n",
      "Topic #2: god jesus christian bible church christ christians write sin know faith man life word love believe day die hell book\n",
      "Topic #3: game team year player play win big good write hockey season article league university nhl division goal score oilers time\n",
      "Topic #4: file use window program windows version information dos image server run available mail internet email include write university user thank\n",
      "Topic #5: people israel government turkish president armenian war armenians jews know israeli kill clinton right world state write year attack country\n",
      "Topic #6: car article write bike distribution drive new university good look buy ride road sale usa engine price oil mile driver\n",
      "Topic #7: write time make know use article work need good year want university space thing problem look new people way find\n",
      "Topic #8: use key drive system chip card write computer university need work know encryption disk new clipper problem driver article pc\n",
      "Topic #9: article write health fbi fire child disease food medical day doctor cause gordon tank patient report reply batf eat april\n",
      "\n"
     ]
    }
   ],
   "source": [
    "# get each topic's keywords\n",
    "\n",
    "feature_names = vectorizer.get_feature_names()\n",
    "print_top_words(lda, feature_names, 20)"
   ]
  },
  {
   "cell_type": "code",
   "execution_count": 46,
   "metadata": {},
   "outputs": [
    {
     "data": {
      "text/plain": [
       "(2818, 10)"
      ]
     },
     "execution_count": 46,
     "metadata": {},
     "output_type": "execute_result"
    }
   ],
   "source": [
    "# Create Document-Topic matrix\n",
    "doc_topic_matrix = lda.transform(X_test_vectorized)\n",
    "doc_topic_matrix.shape"
   ]
  },
  {
   "cell_type": "code",
   "execution_count": 47,
   "metadata": {},
   "outputs": [],
   "source": [
    "# column names\n",
    "topicnames = [\"Topic\" + str(i) for i in range(lda.n_components)]\n",
    "\n",
    "# index names\n",
    "docnames = [\"Doc\" + str(i) for i in range(len(X_test))]"
   ]
  },
  {
   "cell_type": "code",
   "execution_count": 48,
   "metadata": {},
   "outputs": [],
   "source": [
    "# create the document-topic dataframe\n",
    "df_document_topic = pd.DataFrame(np.round(doc_topic_matrix, 2), columns=topicnames, index=docnames)\n",
    "\n",
    "# get dominant topic (with highest weight) for each document\n",
    "dominant_topic = np.argmax(df_document_topic.values, axis=1)\n",
    "df_document_topic['dominant_topic'] = dominant_topic"
   ]
  },
  {
   "cell_type": "code",
   "execution_count": 49,
   "metadata": {},
   "outputs": [
    {
     "data": {
      "text/html": [
       "<style  type=\"text/css\" >\n",
       "    #T_b010c8ee_d8d1_11ea_9e68_4c348896b620row0_col0 {\n",
       "            color:  green;\n",
       "            font-weight:  700;\n",
       "        }    #T_b010c8ee_d8d1_11ea_9e68_4c348896b620row0_col1 {\n",
       "            color:  black;\n",
       "            font-weight:  400;\n",
       "        }    #T_b010c8ee_d8d1_11ea_9e68_4c348896b620row0_col2 {\n",
       "            color:  green;\n",
       "            font-weight:  700;\n",
       "        }    #T_b010c8ee_d8d1_11ea_9e68_4c348896b620row0_col3 {\n",
       "            color:  black;\n",
       "            font-weight:  400;\n",
       "        }    #T_b010c8ee_d8d1_11ea_9e68_4c348896b620row0_col4 {\n",
       "            color:  black;\n",
       "            font-weight:  400;\n",
       "        }    #T_b010c8ee_d8d1_11ea_9e68_4c348896b620row0_col5 {\n",
       "            color:  black;\n",
       "            font-weight:  400;\n",
       "        }    #T_b010c8ee_d8d1_11ea_9e68_4c348896b620row0_col6 {\n",
       "            color:  black;\n",
       "            font-weight:  400;\n",
       "        }    #T_b010c8ee_d8d1_11ea_9e68_4c348896b620row0_col7 {\n",
       "            color:  green;\n",
       "            font-weight:  700;\n",
       "        }    #T_b010c8ee_d8d1_11ea_9e68_4c348896b620row0_col8 {\n",
       "            color:  black;\n",
       "            font-weight:  400;\n",
       "        }    #T_b010c8ee_d8d1_11ea_9e68_4c348896b620row0_col9 {\n",
       "            color:  black;\n",
       "            font-weight:  400;\n",
       "        }    #T_b010c8ee_d8d1_11ea_9e68_4c348896b620row0_col10 {\n",
       "            color:  green;\n",
       "            font-weight:  700;\n",
       "        }    #T_b010c8ee_d8d1_11ea_9e68_4c348896b620row1_col0 {\n",
       "            color:  black;\n",
       "            font-weight:  400;\n",
       "        }    #T_b010c8ee_d8d1_11ea_9e68_4c348896b620row1_col1 {\n",
       "            color:  black;\n",
       "            font-weight:  400;\n",
       "        }    #T_b010c8ee_d8d1_11ea_9e68_4c348896b620row1_col2 {\n",
       "            color:  black;\n",
       "            font-weight:  400;\n",
       "        }    #T_b010c8ee_d8d1_11ea_9e68_4c348896b620row1_col3 {\n",
       "            color:  black;\n",
       "            font-weight:  400;\n",
       "        }    #T_b010c8ee_d8d1_11ea_9e68_4c348896b620row1_col4 {\n",
       "            color:  black;\n",
       "            font-weight:  400;\n",
       "        }    #T_b010c8ee_d8d1_11ea_9e68_4c348896b620row1_col5 {\n",
       "            color:  black;\n",
       "            font-weight:  400;\n",
       "        }    #T_b010c8ee_d8d1_11ea_9e68_4c348896b620row1_col6 {\n",
       "            color:  black;\n",
       "            font-weight:  400;\n",
       "        }    #T_b010c8ee_d8d1_11ea_9e68_4c348896b620row1_col7 {\n",
       "            color:  green;\n",
       "            font-weight:  700;\n",
       "        }    #T_b010c8ee_d8d1_11ea_9e68_4c348896b620row1_col8 {\n",
       "            color:  green;\n",
       "            font-weight:  700;\n",
       "        }    #T_b010c8ee_d8d1_11ea_9e68_4c348896b620row1_col9 {\n",
       "            color:  black;\n",
       "            font-weight:  400;\n",
       "        }    #T_b010c8ee_d8d1_11ea_9e68_4c348896b620row1_col10 {\n",
       "            color:  green;\n",
       "            font-weight:  700;\n",
       "        }    #T_b010c8ee_d8d1_11ea_9e68_4c348896b620row2_col0 {\n",
       "            color:  black;\n",
       "            font-weight:  400;\n",
       "        }    #T_b010c8ee_d8d1_11ea_9e68_4c348896b620row2_col1 {\n",
       "            color:  black;\n",
       "            font-weight:  400;\n",
       "        }    #T_b010c8ee_d8d1_11ea_9e68_4c348896b620row2_col2 {\n",
       "            color:  black;\n",
       "            font-weight:  400;\n",
       "        }    #T_b010c8ee_d8d1_11ea_9e68_4c348896b620row2_col3 {\n",
       "            color:  black;\n",
       "            font-weight:  400;\n",
       "        }    #T_b010c8ee_d8d1_11ea_9e68_4c348896b620row2_col4 {\n",
       "            color:  black;\n",
       "            font-weight:  400;\n",
       "        }    #T_b010c8ee_d8d1_11ea_9e68_4c348896b620row2_col5 {\n",
       "            color:  black;\n",
       "            font-weight:  400;\n",
       "        }    #T_b010c8ee_d8d1_11ea_9e68_4c348896b620row2_col6 {\n",
       "            color:  green;\n",
       "            font-weight:  700;\n",
       "        }    #T_b010c8ee_d8d1_11ea_9e68_4c348896b620row2_col7 {\n",
       "            color:  green;\n",
       "            font-weight:  700;\n",
       "        }    #T_b010c8ee_d8d1_11ea_9e68_4c348896b620row2_col8 {\n",
       "            color:  black;\n",
       "            font-weight:  400;\n",
       "        }    #T_b010c8ee_d8d1_11ea_9e68_4c348896b620row2_col9 {\n",
       "            color:  black;\n",
       "            font-weight:  400;\n",
       "        }    #T_b010c8ee_d8d1_11ea_9e68_4c348896b620row2_col10 {\n",
       "            color:  green;\n",
       "            font-weight:  700;\n",
       "        }    #T_b010c8ee_d8d1_11ea_9e68_4c348896b620row3_col0 {\n",
       "            color:  green;\n",
       "            font-weight:  700;\n",
       "        }    #T_b010c8ee_d8d1_11ea_9e68_4c348896b620row3_col1 {\n",
       "            color:  black;\n",
       "            font-weight:  400;\n",
       "        }    #T_b010c8ee_d8d1_11ea_9e68_4c348896b620row3_col2 {\n",
       "            color:  black;\n",
       "            font-weight:  400;\n",
       "        }    #T_b010c8ee_d8d1_11ea_9e68_4c348896b620row3_col3 {\n",
       "            color:  green;\n",
       "            font-weight:  700;\n",
       "        }    #T_b010c8ee_d8d1_11ea_9e68_4c348896b620row3_col4 {\n",
       "            color:  black;\n",
       "            font-weight:  400;\n",
       "        }    #T_b010c8ee_d8d1_11ea_9e68_4c348896b620row3_col5 {\n",
       "            color:  black;\n",
       "            font-weight:  400;\n",
       "        }    #T_b010c8ee_d8d1_11ea_9e68_4c348896b620row3_col6 {\n",
       "            color:  black;\n",
       "            font-weight:  400;\n",
       "        }    #T_b010c8ee_d8d1_11ea_9e68_4c348896b620row3_col7 {\n",
       "            color:  black;\n",
       "            font-weight:  400;\n",
       "        }    #T_b010c8ee_d8d1_11ea_9e68_4c348896b620row3_col8 {\n",
       "            color:  black;\n",
       "            font-weight:  400;\n",
       "        }    #T_b010c8ee_d8d1_11ea_9e68_4c348896b620row3_col9 {\n",
       "            color:  black;\n",
       "            font-weight:  400;\n",
       "        }    #T_b010c8ee_d8d1_11ea_9e68_4c348896b620row3_col10 {\n",
       "            color:  green;\n",
       "            font-weight:  700;\n",
       "        }    #T_b010c8ee_d8d1_11ea_9e68_4c348896b620row4_col0 {\n",
       "            color:  green;\n",
       "            font-weight:  700;\n",
       "        }    #T_b010c8ee_d8d1_11ea_9e68_4c348896b620row4_col1 {\n",
       "            color:  black;\n",
       "            font-weight:  400;\n",
       "        }    #T_b010c8ee_d8d1_11ea_9e68_4c348896b620row4_col2 {\n",
       "            color:  black;\n",
       "            font-weight:  400;\n",
       "        }    #T_b010c8ee_d8d1_11ea_9e68_4c348896b620row4_col3 {\n",
       "            color:  black;\n",
       "            font-weight:  400;\n",
       "        }    #T_b010c8ee_d8d1_11ea_9e68_4c348896b620row4_col4 {\n",
       "            color:  black;\n",
       "            font-weight:  400;\n",
       "        }    #T_b010c8ee_d8d1_11ea_9e68_4c348896b620row4_col5 {\n",
       "            color:  black;\n",
       "            font-weight:  400;\n",
       "        }    #T_b010c8ee_d8d1_11ea_9e68_4c348896b620row4_col6 {\n",
       "            color:  black;\n",
       "            font-weight:  400;\n",
       "        }    #T_b010c8ee_d8d1_11ea_9e68_4c348896b620row4_col7 {\n",
       "            color:  green;\n",
       "            font-weight:  700;\n",
       "        }    #T_b010c8ee_d8d1_11ea_9e68_4c348896b620row4_col8 {\n",
       "            color:  black;\n",
       "            font-weight:  400;\n",
       "        }    #T_b010c8ee_d8d1_11ea_9e68_4c348896b620row4_col9 {\n",
       "            color:  black;\n",
       "            font-weight:  400;\n",
       "        }    #T_b010c8ee_d8d1_11ea_9e68_4c348896b620row4_col10 {\n",
       "            color:  green;\n",
       "            font-weight:  700;\n",
       "        }    #T_b010c8ee_d8d1_11ea_9e68_4c348896b620row5_col0 {\n",
       "            color:  black;\n",
       "            font-weight:  400;\n",
       "        }    #T_b010c8ee_d8d1_11ea_9e68_4c348896b620row5_col1 {\n",
       "            color:  black;\n",
       "            font-weight:  400;\n",
       "        }    #T_b010c8ee_d8d1_11ea_9e68_4c348896b620row5_col2 {\n",
       "            color:  black;\n",
       "            font-weight:  400;\n",
       "        }    #T_b010c8ee_d8d1_11ea_9e68_4c348896b620row5_col3 {\n",
       "            color:  black;\n",
       "            font-weight:  400;\n",
       "        }    #T_b010c8ee_d8d1_11ea_9e68_4c348896b620row5_col4 {\n",
       "            color:  black;\n",
       "            font-weight:  400;\n",
       "        }    #T_b010c8ee_d8d1_11ea_9e68_4c348896b620row5_col5 {\n",
       "            color:  black;\n",
       "            font-weight:  400;\n",
       "        }    #T_b010c8ee_d8d1_11ea_9e68_4c348896b620row5_col6 {\n",
       "            color:  black;\n",
       "            font-weight:  400;\n",
       "        }    #T_b010c8ee_d8d1_11ea_9e68_4c348896b620row5_col7 {\n",
       "            color:  green;\n",
       "            font-weight:  700;\n",
       "        }    #T_b010c8ee_d8d1_11ea_9e68_4c348896b620row5_col8 {\n",
       "            color:  green;\n",
       "            font-weight:  700;\n",
       "        }    #T_b010c8ee_d8d1_11ea_9e68_4c348896b620row5_col9 {\n",
       "            color:  black;\n",
       "            font-weight:  400;\n",
       "        }    #T_b010c8ee_d8d1_11ea_9e68_4c348896b620row5_col10 {\n",
       "            color:  green;\n",
       "            font-weight:  700;\n",
       "        }    #T_b010c8ee_d8d1_11ea_9e68_4c348896b620row6_col0 {\n",
       "            color:  black;\n",
       "            font-weight:  400;\n",
       "        }    #T_b010c8ee_d8d1_11ea_9e68_4c348896b620row6_col1 {\n",
       "            color:  black;\n",
       "            font-weight:  400;\n",
       "        }    #T_b010c8ee_d8d1_11ea_9e68_4c348896b620row6_col2 {\n",
       "            color:  black;\n",
       "            font-weight:  400;\n",
       "        }    #T_b010c8ee_d8d1_11ea_9e68_4c348896b620row6_col3 {\n",
       "            color:  green;\n",
       "            font-weight:  700;\n",
       "        }    #T_b010c8ee_d8d1_11ea_9e68_4c348896b620row6_col4 {\n",
       "            color:  black;\n",
       "            font-weight:  400;\n",
       "        }    #T_b010c8ee_d8d1_11ea_9e68_4c348896b620row6_col5 {\n",
       "            color:  black;\n",
       "            font-weight:  400;\n",
       "        }    #T_b010c8ee_d8d1_11ea_9e68_4c348896b620row6_col6 {\n",
       "            color:  green;\n",
       "            font-weight:  700;\n",
       "        }    #T_b010c8ee_d8d1_11ea_9e68_4c348896b620row6_col7 {\n",
       "            color:  green;\n",
       "            font-weight:  700;\n",
       "        }    #T_b010c8ee_d8d1_11ea_9e68_4c348896b620row6_col8 {\n",
       "            color:  black;\n",
       "            font-weight:  400;\n",
       "        }    #T_b010c8ee_d8d1_11ea_9e68_4c348896b620row6_col9 {\n",
       "            color:  black;\n",
       "            font-weight:  400;\n",
       "        }    #T_b010c8ee_d8d1_11ea_9e68_4c348896b620row6_col10 {\n",
       "            color:  green;\n",
       "            font-weight:  700;\n",
       "        }    #T_b010c8ee_d8d1_11ea_9e68_4c348896b620row7_col0 {\n",
       "            color:  green;\n",
       "            font-weight:  700;\n",
       "        }    #T_b010c8ee_d8d1_11ea_9e68_4c348896b620row7_col1 {\n",
       "            color:  black;\n",
       "            font-weight:  400;\n",
       "        }    #T_b010c8ee_d8d1_11ea_9e68_4c348896b620row7_col2 {\n",
       "            color:  black;\n",
       "            font-weight:  400;\n",
       "        }    #T_b010c8ee_d8d1_11ea_9e68_4c348896b620row7_col3 {\n",
       "            color:  green;\n",
       "            font-weight:  700;\n",
       "        }    #T_b010c8ee_d8d1_11ea_9e68_4c348896b620row7_col4 {\n",
       "            color:  black;\n",
       "            font-weight:  400;\n",
       "        }    #T_b010c8ee_d8d1_11ea_9e68_4c348896b620row7_col5 {\n",
       "            color:  black;\n",
       "            font-weight:  400;\n",
       "        }    #T_b010c8ee_d8d1_11ea_9e68_4c348896b620row7_col6 {\n",
       "            color:  green;\n",
       "            font-weight:  700;\n",
       "        }    #T_b010c8ee_d8d1_11ea_9e68_4c348896b620row7_col7 {\n",
       "            color:  green;\n",
       "            font-weight:  700;\n",
       "        }    #T_b010c8ee_d8d1_11ea_9e68_4c348896b620row7_col8 {\n",
       "            color:  black;\n",
       "            font-weight:  400;\n",
       "        }    #T_b010c8ee_d8d1_11ea_9e68_4c348896b620row7_col9 {\n",
       "            color:  black;\n",
       "            font-weight:  400;\n",
       "        }    #T_b010c8ee_d8d1_11ea_9e68_4c348896b620row7_col10 {\n",
       "            color:  green;\n",
       "            font-weight:  700;\n",
       "        }    #T_b010c8ee_d8d1_11ea_9e68_4c348896b620row8_col0 {\n",
       "            color:  green;\n",
       "            font-weight:  700;\n",
       "        }    #T_b010c8ee_d8d1_11ea_9e68_4c348896b620row8_col1 {\n",
       "            color:  black;\n",
       "            font-weight:  400;\n",
       "        }    #T_b010c8ee_d8d1_11ea_9e68_4c348896b620row8_col2 {\n",
       "            color:  black;\n",
       "            font-weight:  400;\n",
       "        }    #T_b010c8ee_d8d1_11ea_9e68_4c348896b620row8_col3 {\n",
       "            color:  black;\n",
       "            font-weight:  400;\n",
       "        }    #T_b010c8ee_d8d1_11ea_9e68_4c348896b620row8_col4 {\n",
       "            color:  black;\n",
       "            font-weight:  400;\n",
       "        }    #T_b010c8ee_d8d1_11ea_9e68_4c348896b620row8_col5 {\n",
       "            color:  black;\n",
       "            font-weight:  400;\n",
       "        }    #T_b010c8ee_d8d1_11ea_9e68_4c348896b620row8_col6 {\n",
       "            color:  black;\n",
       "            font-weight:  400;\n",
       "        }    #T_b010c8ee_d8d1_11ea_9e68_4c348896b620row8_col7 {\n",
       "            color:  green;\n",
       "            font-weight:  700;\n",
       "        }    #T_b010c8ee_d8d1_11ea_9e68_4c348896b620row8_col8 {\n",
       "            color:  black;\n",
       "            font-weight:  400;\n",
       "        }    #T_b010c8ee_d8d1_11ea_9e68_4c348896b620row8_col9 {\n",
       "            color:  black;\n",
       "            font-weight:  400;\n",
       "        }    #T_b010c8ee_d8d1_11ea_9e68_4c348896b620row8_col10 {\n",
       "            color:  green;\n",
       "            font-weight:  700;\n",
       "        }    #T_b010c8ee_d8d1_11ea_9e68_4c348896b620row9_col0 {\n",
       "            color:  green;\n",
       "            font-weight:  700;\n",
       "        }    #T_b010c8ee_d8d1_11ea_9e68_4c348896b620row9_col1 {\n",
       "            color:  black;\n",
       "            font-weight:  400;\n",
       "        }    #T_b010c8ee_d8d1_11ea_9e68_4c348896b620row9_col2 {\n",
       "            color:  black;\n",
       "            font-weight:  400;\n",
       "        }    #T_b010c8ee_d8d1_11ea_9e68_4c348896b620row9_col3 {\n",
       "            color:  black;\n",
       "            font-weight:  400;\n",
       "        }    #T_b010c8ee_d8d1_11ea_9e68_4c348896b620row9_col4 {\n",
       "            color:  black;\n",
       "            font-weight:  400;\n",
       "        }    #T_b010c8ee_d8d1_11ea_9e68_4c348896b620row9_col5 {\n",
       "            color:  black;\n",
       "            font-weight:  400;\n",
       "        }    #T_b010c8ee_d8d1_11ea_9e68_4c348896b620row9_col6 {\n",
       "            color:  black;\n",
       "            font-weight:  400;\n",
       "        }    #T_b010c8ee_d8d1_11ea_9e68_4c348896b620row9_col7 {\n",
       "            color:  green;\n",
       "            font-weight:  700;\n",
       "        }    #T_b010c8ee_d8d1_11ea_9e68_4c348896b620row9_col8 {\n",
       "            color:  black;\n",
       "            font-weight:  400;\n",
       "        }    #T_b010c8ee_d8d1_11ea_9e68_4c348896b620row9_col9 {\n",
       "            color:  black;\n",
       "            font-weight:  400;\n",
       "        }    #T_b010c8ee_d8d1_11ea_9e68_4c348896b620row9_col10 {\n",
       "            color:  black;\n",
       "            font-weight:  400;\n",
       "        }</style><table id=\"T_b010c8ee_d8d1_11ea_9e68_4c348896b620\" ><thead>    <tr>        <th class=\"blank level0\" ></th>        <th class=\"col_heading level0 col0\" >Topic0</th>        <th class=\"col_heading level0 col1\" >Topic1</th>        <th class=\"col_heading level0 col2\" >Topic2</th>        <th class=\"col_heading level0 col3\" >Topic3</th>        <th class=\"col_heading level0 col4\" >Topic4</th>        <th class=\"col_heading level0 col5\" >Topic5</th>        <th class=\"col_heading level0 col6\" >Topic6</th>        <th class=\"col_heading level0 col7\" >Topic7</th>        <th class=\"col_heading level0 col8\" >Topic8</th>        <th class=\"col_heading level0 col9\" >Topic9</th>        <th class=\"col_heading level0 col10\" >dominant_topic</th>    </tr></thead><tbody>\n",
       "                <tr>\n",
       "                        <th id=\"T_b010c8ee_d8d1_11ea_9e68_4c348896b620level0_row0\" class=\"row_heading level0 row0\" >Doc0</th>\n",
       "                        <td id=\"T_b010c8ee_d8d1_11ea_9e68_4c348896b620row0_col0\" class=\"data row0 col0\" >0.270000</td>\n",
       "                        <td id=\"T_b010c8ee_d8d1_11ea_9e68_4c348896b620row0_col1\" class=\"data row0 col1\" >0.000000</td>\n",
       "                        <td id=\"T_b010c8ee_d8d1_11ea_9e68_4c348896b620row0_col2\" class=\"data row0 col2\" >0.480000</td>\n",
       "                        <td id=\"T_b010c8ee_d8d1_11ea_9e68_4c348896b620row0_col3\" class=\"data row0 col3\" >0.000000</td>\n",
       "                        <td id=\"T_b010c8ee_d8d1_11ea_9e68_4c348896b620row0_col4\" class=\"data row0 col4\" >0.010000</td>\n",
       "                        <td id=\"T_b010c8ee_d8d1_11ea_9e68_4c348896b620row0_col5\" class=\"data row0 col5\" >0.030000</td>\n",
       "                        <td id=\"T_b010c8ee_d8d1_11ea_9e68_4c348896b620row0_col6\" class=\"data row0 col6\" >0.000000</td>\n",
       "                        <td id=\"T_b010c8ee_d8d1_11ea_9e68_4c348896b620row0_col7\" class=\"data row0 col7\" >0.130000</td>\n",
       "                        <td id=\"T_b010c8ee_d8d1_11ea_9e68_4c348896b620row0_col8\" class=\"data row0 col8\" >0.030000</td>\n",
       "                        <td id=\"T_b010c8ee_d8d1_11ea_9e68_4c348896b620row0_col9\" class=\"data row0 col9\" >0.040000</td>\n",
       "                        <td id=\"T_b010c8ee_d8d1_11ea_9e68_4c348896b620row0_col10\" class=\"data row0 col10\" >2</td>\n",
       "            </tr>\n",
       "            <tr>\n",
       "                        <th id=\"T_b010c8ee_d8d1_11ea_9e68_4c348896b620level0_row1\" class=\"row_heading level0 row1\" >Doc1</th>\n",
       "                        <td id=\"T_b010c8ee_d8d1_11ea_9e68_4c348896b620row1_col0\" class=\"data row1 col0\" >0.000000</td>\n",
       "                        <td id=\"T_b010c8ee_d8d1_11ea_9e68_4c348896b620row1_col1\" class=\"data row1 col1\" >0.000000</td>\n",
       "                        <td id=\"T_b010c8ee_d8d1_11ea_9e68_4c348896b620row1_col2\" class=\"data row1 col2\" >0.000000</td>\n",
       "                        <td id=\"T_b010c8ee_d8d1_11ea_9e68_4c348896b620row1_col3\" class=\"data row1 col3\" >0.000000</td>\n",
       "                        <td id=\"T_b010c8ee_d8d1_11ea_9e68_4c348896b620row1_col4\" class=\"data row1 col4\" >0.000000</td>\n",
       "                        <td id=\"T_b010c8ee_d8d1_11ea_9e68_4c348896b620row1_col5\" class=\"data row1 col5\" >0.000000</td>\n",
       "                        <td id=\"T_b010c8ee_d8d1_11ea_9e68_4c348896b620row1_col6\" class=\"data row1 col6\" >0.000000</td>\n",
       "                        <td id=\"T_b010c8ee_d8d1_11ea_9e68_4c348896b620row1_col7\" class=\"data row1 col7\" >0.550000</td>\n",
       "                        <td id=\"T_b010c8ee_d8d1_11ea_9e68_4c348896b620row1_col8\" class=\"data row1 col8\" >0.380000</td>\n",
       "                        <td id=\"T_b010c8ee_d8d1_11ea_9e68_4c348896b620row1_col9\" class=\"data row1 col9\" >0.060000</td>\n",
       "                        <td id=\"T_b010c8ee_d8d1_11ea_9e68_4c348896b620row1_col10\" class=\"data row1 col10\" >7</td>\n",
       "            </tr>\n",
       "            <tr>\n",
       "                        <th id=\"T_b010c8ee_d8d1_11ea_9e68_4c348896b620level0_row2\" class=\"row_heading level0 row2\" >Doc2</th>\n",
       "                        <td id=\"T_b010c8ee_d8d1_11ea_9e68_4c348896b620row2_col0\" class=\"data row2 col0\" >0.030000</td>\n",
       "                        <td id=\"T_b010c8ee_d8d1_11ea_9e68_4c348896b620row2_col1\" class=\"data row2 col1\" >0.040000</td>\n",
       "                        <td id=\"T_b010c8ee_d8d1_11ea_9e68_4c348896b620row2_col2\" class=\"data row2 col2\" >0.000000</td>\n",
       "                        <td id=\"T_b010c8ee_d8d1_11ea_9e68_4c348896b620row2_col3\" class=\"data row2 col3\" >0.030000</td>\n",
       "                        <td id=\"T_b010c8ee_d8d1_11ea_9e68_4c348896b620row2_col4\" class=\"data row2 col4\" >0.010000</td>\n",
       "                        <td id=\"T_b010c8ee_d8d1_11ea_9e68_4c348896b620row2_col5\" class=\"data row2 col5\" >0.060000</td>\n",
       "                        <td id=\"T_b010c8ee_d8d1_11ea_9e68_4c348896b620row2_col6\" class=\"data row2 col6\" >0.430000</td>\n",
       "                        <td id=\"T_b010c8ee_d8d1_11ea_9e68_4c348896b620row2_col7\" class=\"data row2 col7\" >0.340000</td>\n",
       "                        <td id=\"T_b010c8ee_d8d1_11ea_9e68_4c348896b620row2_col8\" class=\"data row2 col8\" >0.000000</td>\n",
       "                        <td id=\"T_b010c8ee_d8d1_11ea_9e68_4c348896b620row2_col9\" class=\"data row2 col9\" >0.050000</td>\n",
       "                        <td id=\"T_b010c8ee_d8d1_11ea_9e68_4c348896b620row2_col10\" class=\"data row2 col10\" >6</td>\n",
       "            </tr>\n",
       "            <tr>\n",
       "                        <th id=\"T_b010c8ee_d8d1_11ea_9e68_4c348896b620level0_row3\" class=\"row_heading level0 row3\" >Doc3</th>\n",
       "                        <td id=\"T_b010c8ee_d8d1_11ea_9e68_4c348896b620row3_col0\" class=\"data row3 col0\" >0.210000</td>\n",
       "                        <td id=\"T_b010c8ee_d8d1_11ea_9e68_4c348896b620row3_col1\" class=\"data row3 col1\" >0.000000</td>\n",
       "                        <td id=\"T_b010c8ee_d8d1_11ea_9e68_4c348896b620row3_col2\" class=\"data row3 col2\" >0.000000</td>\n",
       "                        <td id=\"T_b010c8ee_d8d1_11ea_9e68_4c348896b620row3_col3\" class=\"data row3 col3\" >0.770000</td>\n",
       "                        <td id=\"T_b010c8ee_d8d1_11ea_9e68_4c348896b620row3_col4\" class=\"data row3 col4\" >0.000000</td>\n",
       "                        <td id=\"T_b010c8ee_d8d1_11ea_9e68_4c348896b620row3_col5\" class=\"data row3 col5\" >0.000000</td>\n",
       "                        <td id=\"T_b010c8ee_d8d1_11ea_9e68_4c348896b620row3_col6\" class=\"data row3 col6\" >0.000000</td>\n",
       "                        <td id=\"T_b010c8ee_d8d1_11ea_9e68_4c348896b620row3_col7\" class=\"data row3 col7\" >0.000000</td>\n",
       "                        <td id=\"T_b010c8ee_d8d1_11ea_9e68_4c348896b620row3_col8\" class=\"data row3 col8\" >0.000000</td>\n",
       "                        <td id=\"T_b010c8ee_d8d1_11ea_9e68_4c348896b620row3_col9\" class=\"data row3 col9\" >0.000000</td>\n",
       "                        <td id=\"T_b010c8ee_d8d1_11ea_9e68_4c348896b620row3_col10\" class=\"data row3 col10\" >3</td>\n",
       "            </tr>\n",
       "            <tr>\n",
       "                        <th id=\"T_b010c8ee_d8d1_11ea_9e68_4c348896b620level0_row4\" class=\"row_heading level0 row4\" >Doc4</th>\n",
       "                        <td id=\"T_b010c8ee_d8d1_11ea_9e68_4c348896b620row4_col0\" class=\"data row4 col0\" >0.310000</td>\n",
       "                        <td id=\"T_b010c8ee_d8d1_11ea_9e68_4c348896b620row4_col1\" class=\"data row4 col1\" >0.000000</td>\n",
       "                        <td id=\"T_b010c8ee_d8d1_11ea_9e68_4c348896b620row4_col2\" class=\"data row4 col2\" >0.050000</td>\n",
       "                        <td id=\"T_b010c8ee_d8d1_11ea_9e68_4c348896b620row4_col3\" class=\"data row4 col3\" >0.020000</td>\n",
       "                        <td id=\"T_b010c8ee_d8d1_11ea_9e68_4c348896b620row4_col4\" class=\"data row4 col4\" >0.000000</td>\n",
       "                        <td id=\"T_b010c8ee_d8d1_11ea_9e68_4c348896b620row4_col5\" class=\"data row4 col5\" >0.060000</td>\n",
       "                        <td id=\"T_b010c8ee_d8d1_11ea_9e68_4c348896b620row4_col6\" class=\"data row4 col6\" >0.000000</td>\n",
       "                        <td id=\"T_b010c8ee_d8d1_11ea_9e68_4c348896b620row4_col7\" class=\"data row4 col7\" >0.550000</td>\n",
       "                        <td id=\"T_b010c8ee_d8d1_11ea_9e68_4c348896b620row4_col8\" class=\"data row4 col8\" >0.000000</td>\n",
       "                        <td id=\"T_b010c8ee_d8d1_11ea_9e68_4c348896b620row4_col9\" class=\"data row4 col9\" >0.010000</td>\n",
       "                        <td id=\"T_b010c8ee_d8d1_11ea_9e68_4c348896b620row4_col10\" class=\"data row4 col10\" >7</td>\n",
       "            </tr>\n",
       "            <tr>\n",
       "                        <th id=\"T_b010c8ee_d8d1_11ea_9e68_4c348896b620level0_row5\" class=\"row_heading level0 row5\" >Doc5</th>\n",
       "                        <td id=\"T_b010c8ee_d8d1_11ea_9e68_4c348896b620row5_col0\" class=\"data row5 col0\" >0.000000</td>\n",
       "                        <td id=\"T_b010c8ee_d8d1_11ea_9e68_4c348896b620row5_col1\" class=\"data row5 col1\" >0.040000</td>\n",
       "                        <td id=\"T_b010c8ee_d8d1_11ea_9e68_4c348896b620row5_col2\" class=\"data row5 col2\" >0.000000</td>\n",
       "                        <td id=\"T_b010c8ee_d8d1_11ea_9e68_4c348896b620row5_col3\" class=\"data row5 col3\" >0.000000</td>\n",
       "                        <td id=\"T_b010c8ee_d8d1_11ea_9e68_4c348896b620row5_col4\" class=\"data row5 col4\" >0.000000</td>\n",
       "                        <td id=\"T_b010c8ee_d8d1_11ea_9e68_4c348896b620row5_col5\" class=\"data row5 col5\" >0.000000</td>\n",
       "                        <td id=\"T_b010c8ee_d8d1_11ea_9e68_4c348896b620row5_col6\" class=\"data row5 col6\" >0.000000</td>\n",
       "                        <td id=\"T_b010c8ee_d8d1_11ea_9e68_4c348896b620row5_col7\" class=\"data row5 col7\" >0.170000</td>\n",
       "                        <td id=\"T_b010c8ee_d8d1_11ea_9e68_4c348896b620row5_col8\" class=\"data row5 col8\" >0.760000</td>\n",
       "                        <td id=\"T_b010c8ee_d8d1_11ea_9e68_4c348896b620row5_col9\" class=\"data row5 col9\" >0.000000</td>\n",
       "                        <td id=\"T_b010c8ee_d8d1_11ea_9e68_4c348896b620row5_col10\" class=\"data row5 col10\" >8</td>\n",
       "            </tr>\n",
       "            <tr>\n",
       "                        <th id=\"T_b010c8ee_d8d1_11ea_9e68_4c348896b620level0_row6\" class=\"row_heading level0 row6\" >Doc6</th>\n",
       "                        <td id=\"T_b010c8ee_d8d1_11ea_9e68_4c348896b620row6_col0\" class=\"data row6 col0\" >0.010000</td>\n",
       "                        <td id=\"T_b010c8ee_d8d1_11ea_9e68_4c348896b620row6_col1\" class=\"data row6 col1\" >0.010000</td>\n",
       "                        <td id=\"T_b010c8ee_d8d1_11ea_9e68_4c348896b620row6_col2\" class=\"data row6 col2\" >0.010000</td>\n",
       "                        <td id=\"T_b010c8ee_d8d1_11ea_9e68_4c348896b620row6_col3\" class=\"data row6 col3\" >0.280000</td>\n",
       "                        <td id=\"T_b010c8ee_d8d1_11ea_9e68_4c348896b620row6_col4\" class=\"data row6 col4\" >0.010000</td>\n",
       "                        <td id=\"T_b010c8ee_d8d1_11ea_9e68_4c348896b620row6_col5\" class=\"data row6 col5\" >0.010000</td>\n",
       "                        <td id=\"T_b010c8ee_d8d1_11ea_9e68_4c348896b620row6_col6\" class=\"data row6 col6\" >0.280000</td>\n",
       "                        <td id=\"T_b010c8ee_d8d1_11ea_9e68_4c348896b620row6_col7\" class=\"data row6 col7\" >0.390000</td>\n",
       "                        <td id=\"T_b010c8ee_d8d1_11ea_9e68_4c348896b620row6_col8\" class=\"data row6 col8\" >0.010000</td>\n",
       "                        <td id=\"T_b010c8ee_d8d1_11ea_9e68_4c348896b620row6_col9\" class=\"data row6 col9\" >0.010000</td>\n",
       "                        <td id=\"T_b010c8ee_d8d1_11ea_9e68_4c348896b620row6_col10\" class=\"data row6 col10\" >7</td>\n",
       "            </tr>\n",
       "            <tr>\n",
       "                        <th id=\"T_b010c8ee_d8d1_11ea_9e68_4c348896b620level0_row7\" class=\"row_heading level0 row7\" >Doc7</th>\n",
       "                        <td id=\"T_b010c8ee_d8d1_11ea_9e68_4c348896b620row7_col0\" class=\"data row7 col0\" >0.240000</td>\n",
       "                        <td id=\"T_b010c8ee_d8d1_11ea_9e68_4c348896b620row7_col1\" class=\"data row7 col1\" >0.000000</td>\n",
       "                        <td id=\"T_b010c8ee_d8d1_11ea_9e68_4c348896b620row7_col2\" class=\"data row7 col2\" >0.090000</td>\n",
       "                        <td id=\"T_b010c8ee_d8d1_11ea_9e68_4c348896b620row7_col3\" class=\"data row7 col3\" >0.260000</td>\n",
       "                        <td id=\"T_b010c8ee_d8d1_11ea_9e68_4c348896b620row7_col4\" class=\"data row7 col4\" >0.000000</td>\n",
       "                        <td id=\"T_b010c8ee_d8d1_11ea_9e68_4c348896b620row7_col5\" class=\"data row7 col5\" >0.000000</td>\n",
       "                        <td id=\"T_b010c8ee_d8d1_11ea_9e68_4c348896b620row7_col6\" class=\"data row7 col6\" >0.180000</td>\n",
       "                        <td id=\"T_b010c8ee_d8d1_11ea_9e68_4c348896b620row7_col7\" class=\"data row7 col7\" >0.200000</td>\n",
       "                        <td id=\"T_b010c8ee_d8d1_11ea_9e68_4c348896b620row7_col8\" class=\"data row7 col8\" >0.000000</td>\n",
       "                        <td id=\"T_b010c8ee_d8d1_11ea_9e68_4c348896b620row7_col9\" class=\"data row7 col9\" >0.000000</td>\n",
       "                        <td id=\"T_b010c8ee_d8d1_11ea_9e68_4c348896b620row7_col10\" class=\"data row7 col10\" >3</td>\n",
       "            </tr>\n",
       "            <tr>\n",
       "                        <th id=\"T_b010c8ee_d8d1_11ea_9e68_4c348896b620level0_row8\" class=\"row_heading level0 row8\" >Doc8</th>\n",
       "                        <td id=\"T_b010c8ee_d8d1_11ea_9e68_4c348896b620row8_col0\" class=\"data row8 col0\" >0.340000</td>\n",
       "                        <td id=\"T_b010c8ee_d8d1_11ea_9e68_4c348896b620row8_col1\" class=\"data row8 col1\" >0.000000</td>\n",
       "                        <td id=\"T_b010c8ee_d8d1_11ea_9e68_4c348896b620row8_col2\" class=\"data row8 col2\" >0.100000</td>\n",
       "                        <td id=\"T_b010c8ee_d8d1_11ea_9e68_4c348896b620row8_col3\" class=\"data row8 col3\" >0.020000</td>\n",
       "                        <td id=\"T_b010c8ee_d8d1_11ea_9e68_4c348896b620row8_col4\" class=\"data row8 col4\" >0.020000</td>\n",
       "                        <td id=\"T_b010c8ee_d8d1_11ea_9e68_4c348896b620row8_col5\" class=\"data row8 col5\" >0.000000</td>\n",
       "                        <td id=\"T_b010c8ee_d8d1_11ea_9e68_4c348896b620row8_col6\" class=\"data row8 col6\" >0.050000</td>\n",
       "                        <td id=\"T_b010c8ee_d8d1_11ea_9e68_4c348896b620row8_col7\" class=\"data row8 col7\" >0.400000</td>\n",
       "                        <td id=\"T_b010c8ee_d8d1_11ea_9e68_4c348896b620row8_col8\" class=\"data row8 col8\" >0.010000</td>\n",
       "                        <td id=\"T_b010c8ee_d8d1_11ea_9e68_4c348896b620row8_col9\" class=\"data row8 col9\" >0.060000</td>\n",
       "                        <td id=\"T_b010c8ee_d8d1_11ea_9e68_4c348896b620row8_col10\" class=\"data row8 col10\" >7</td>\n",
       "            </tr>\n",
       "            <tr>\n",
       "                        <th id=\"T_b010c8ee_d8d1_11ea_9e68_4c348896b620level0_row9\" class=\"row_heading level0 row9\" >Doc9</th>\n",
       "                        <td id=\"T_b010c8ee_d8d1_11ea_9e68_4c348896b620row9_col0\" class=\"data row9 col0\" >0.640000</td>\n",
       "                        <td id=\"T_b010c8ee_d8d1_11ea_9e68_4c348896b620row9_col1\" class=\"data row9 col1\" >0.000000</td>\n",
       "                        <td id=\"T_b010c8ee_d8d1_11ea_9e68_4c348896b620row9_col2\" class=\"data row9 col2\" >0.070000</td>\n",
       "                        <td id=\"T_b010c8ee_d8d1_11ea_9e68_4c348896b620row9_col3\" class=\"data row9 col3\" >0.060000</td>\n",
       "                        <td id=\"T_b010c8ee_d8d1_11ea_9e68_4c348896b620row9_col4\" class=\"data row9 col4\" >0.000000</td>\n",
       "                        <td id=\"T_b010c8ee_d8d1_11ea_9e68_4c348896b620row9_col5\" class=\"data row9 col5\" >0.050000</td>\n",
       "                        <td id=\"T_b010c8ee_d8d1_11ea_9e68_4c348896b620row9_col6\" class=\"data row9 col6\" >0.000000</td>\n",
       "                        <td id=\"T_b010c8ee_d8d1_11ea_9e68_4c348896b620row9_col7\" class=\"data row9 col7\" >0.160000</td>\n",
       "                        <td id=\"T_b010c8ee_d8d1_11ea_9e68_4c348896b620row9_col8\" class=\"data row9 col8\" >0.000000</td>\n",
       "                        <td id=\"T_b010c8ee_d8d1_11ea_9e68_4c348896b620row9_col9\" class=\"data row9 col9\" >0.000000</td>\n",
       "                        <td id=\"T_b010c8ee_d8d1_11ea_9e68_4c348896b620row9_col10\" class=\"data row9 col10\" >0</td>\n",
       "            </tr>\n",
       "    </tbody></table>"
      ],
      "text/plain": [
       "<pandas.io.formats.style.Styler at 0x1675c198948>"
      ]
     },
     "execution_count": 49,
     "metadata": {},
     "output_type": "execute_result"
    }
   ],
   "source": [
    "# styling\n",
    "def color_green(val):\n",
    "    color = 'green' if val > .1 else 'black'\n",
    "    return 'color: {col}'.format(col=color)\n",
    "\n",
    "def make_bold(val):\n",
    "    weight = 700 if val > .1 else 400\n",
    "    return 'font-weight: {weight}'.format(weight=weight)\n",
    "\n",
    "# apply style\n",
    "df_document_topics = df_document_topic.head(10).style.applymap(color_green).applymap(make_bold)\n",
    "df_document_topics"
   ]
  },
  {
   "cell_type": "code",
   "execution_count": 50,
   "metadata": {},
   "outputs": [
    {
     "data": {
      "text/html": [
       "<div>\n",
       "<style scoped>\n",
       "    .dataframe tbody tr th:only-of-type {\n",
       "        vertical-align: middle;\n",
       "    }\n",
       "\n",
       "    .dataframe tbody tr th {\n",
       "        vertical-align: top;\n",
       "    }\n",
       "\n",
       "    .dataframe thead th {\n",
       "        text-align: right;\n",
       "    }\n",
       "</style>\n",
       "<table border=\"1\" class=\"dataframe\">\n",
       "  <thead>\n",
       "    <tr style=\"text-align: right;\">\n",
       "      <th></th>\n",
       "      <th>topic_id</th>\n",
       "      <th>num_documents</th>\n",
       "    </tr>\n",
       "  </thead>\n",
       "  <tbody>\n",
       "    <tr>\n",
       "      <th>0</th>\n",
       "      <td>7</td>\n",
       "      <td>820</td>\n",
       "    </tr>\n",
       "    <tr>\n",
       "      <th>1</th>\n",
       "      <td>8</td>\n",
       "      <td>604</td>\n",
       "    </tr>\n",
       "    <tr>\n",
       "      <th>2</th>\n",
       "      <td>0</td>\n",
       "      <td>325</td>\n",
       "    </tr>\n",
       "    <tr>\n",
       "      <th>3</th>\n",
       "      <td>4</td>\n",
       "      <td>283</td>\n",
       "    </tr>\n",
       "    <tr>\n",
       "      <th>4</th>\n",
       "      <td>3</td>\n",
       "      <td>262</td>\n",
       "    </tr>\n",
       "    <tr>\n",
       "      <th>5</th>\n",
       "      <td>6</td>\n",
       "      <td>193</td>\n",
       "    </tr>\n",
       "    <tr>\n",
       "      <th>6</th>\n",
       "      <td>5</td>\n",
       "      <td>133</td>\n",
       "    </tr>\n",
       "    <tr>\n",
       "      <th>7</th>\n",
       "      <td>9</td>\n",
       "      <td>107</td>\n",
       "    </tr>\n",
       "    <tr>\n",
       "      <th>8</th>\n",
       "      <td>2</td>\n",
       "      <td>75</td>\n",
       "    </tr>\n",
       "    <tr>\n",
       "      <th>9</th>\n",
       "      <td>1</td>\n",
       "      <td>16</td>\n",
       "    </tr>\n",
       "  </tbody>\n",
       "</table>\n",
       "</div>"
      ],
      "text/plain": [
       "   topic_id  num_documents\n",
       "0         7            820\n",
       "1         8            604\n",
       "2         0            325\n",
       "3         4            283\n",
       "4         3            262\n",
       "5         6            193\n",
       "6         5            133\n",
       "7         9            107\n",
       "8         2             75\n",
       "9         1             16"
      ]
     },
     "execution_count": 50,
     "metadata": {},
     "output_type": "execute_result"
    }
   ],
   "source": [
    "# review topic distribution\n",
    "\n",
    "df_topic_distribution = df_document_topic['dominant_topic'].value_counts().reset_index(name=\"num_documents\")\n",
    "df_topic_distribution.columns = ['topic_id', 'num_documents']\n",
    "df_topic_distribution"
   ]
  },
  {
   "cell_type": "code",
   "execution_count": 51,
   "metadata": {},
   "outputs": [
    {
     "data": {
      "text/html": [
       "\n",
       "<link rel=\"stylesheet\" type=\"text/css\" href=\"https://cdn.rawgit.com/bmabey/pyLDAvis/files/ldavis.v1.0.0.css\">\n",
       "\n",
       "\n",
       "<div id=\"ldavis_el948015432955603924431456078\"></div>\n",
       "<script type=\"text/javascript\">\n",
       "\n",
       "var ldavis_el948015432955603924431456078_data = {\"mdsDat\": {\"x\": [32.42095184326172, 0.648955225944519, 71.01968383789062, 3.7859814167022705, -42.666500091552734, -3.6216893196105957, -3.632401704788208, -36.58440017700195, 44.391380310058594, 40.235809326171875], \"y\": [8.115229606628418, 71.70709991455078, 9.971006393432617, 33.18513488769531, -9.22206974029541, -43.52651596069336, -4.171707630157471, 35.804412841796875, 50.61538314819336, -31.591665267944336], \"topics\": [1, 2, 3, 4, 5, 6, 7, 8, 9, 10], \"cluster\": [1, 1, 1, 1, 1, 1, 1, 1, 1, 1], \"Freq\": [28.380255966769646, 15.026726367703114, 14.847011685070493, 9.679054033131973, 7.860716892032994, 7.518432004861995, 6.045204533058268, 4.686595767511513, 4.092500866048234, 1.8635018838117752]}, \"tinfo\": {\"Term\": [\"god\", \"file\", \"game\", \"car\", \"team\", \"use\", \"people\", \"year\", \"key\", \"program\", \"jesus\", \"article\", \"window\", \"drive\", \"gun\", \"chip\", \"windows\", \"player\", \"law\", \"write\", \"play\", \"christian\", \"card\", \"man\", \"win\", \"ground\", \"believe\", \"system\", \"bible\", \"image\", \"nasa\", \"launch\", \"moon\", \"orbit\", \"satellite\", \"mission\", \"henry\", \"lunar\", \"flight\", \"rid\", \"hang\", \"vms\", \"vax\", \"cool\", \"3d\", \"pork\", \"fred\", \"shuttle\", \"b2\", \"spacecraft\", \"mueller\", \"c5s\", \"spencer\", \"mars\", \"roll\", \"estimate\", \"fee\", \"vnews\", \"cancer\", \"transport\", \"space\", \"money\", \"solar\", \"basically\", \"energy\", \"job\", \"date\", \"level\", \"cost\", \"class\", \"project\", \"school\", \"ohio\", \"service\", \"rate\", \"earth\", \"low\", \"large\", \"time\", \"spend\", \"work\", \"small\", \"long\", \"need\", \"lot\", \"make\", \"thing\", \"want\", \"year\", \"look\", \"know\", \"problem\", \"write\", \"good\", \"find\", \"way\", \"article\", \"new\", \"university\", \"use\", \"back\", \"question\", \"high\", \"little\", \"people\", \"call\", \"post\", \"read\", \"chip\", \"encryption\", \"clipper\", \"scsi\", \"mb\", \"algorithm\", \"keyboard\", \"modem\", \"ram\", \"controller\", \"ide\", \"printer\", \"escrow\", \"floppy\", \"upgrade\", \"crypto\", \"cpu\", \"motherboard\", \"meg\", \"encrypt\", \"isa\", \"hd\", \"simm\", \"cache\", \"processor\", \"digital\", \"mhz\", \"wiretap\", \"amp\", \"connector\", \"device\", \"privacy\", \"key\", \"serial\", \"card\", \"disk\", \"monitor\", \"des\", \"apple\", \"video\", \"drive\", \"mac\", \"bus\", \"cd\", \"pc\", \"board\", \"use\", \"driver\", \"system\", \"mode\", \"phone\", \"computer\", \"need\", \"work\", \"university\", \"access\", \"write\", \"know\", \"new\", \"mail\", \"problem\", \"distribution\", \"article\", \"good\", \"run\", \"thank\", \"atheist\", \"firearm\", \"morality\", \"amendment\", \"gun\", \"handgun\", \"atheism\", \"existence\", \"aids\", \"homicide\", \"militia\", \"nra\", \"pope\", \"revolver\", \"perspective\", \"assertion\", \"allan\", \"theist\", \"arrogance\", \"livesey\", \"rkba\", \"fallacy\", \"assert\", \"conviction\", \"moral\", \"premise\", \"conceal\", \"arrogant\", \"larson\", \"orthodox\", \"absolute\", \"intent\", \"argument\", \"conclusion\", \"consequence\", \"law\", \"crime\", \"ban\", \"criminal\", \"assault\", \"liberal\", \"weapon\", \"evidence\", \"truth\", \"objective\", \"imply\", \"argue\", \"constitution\", \"definition\", \"statement\", \"human\", \"act\", \"people\", \"drug\", \"believe\", \"exist\", \"self\", \"claim\", \"right\", \"reason\", \"person\", \"mean\", \"fact\", \"own\", \"make\", \"point\", \"example\", \"write\", \"state\", \"question\", \"thing\", \"article\", \"true\", \"use\", \"government\", \"know\", \"way\", \"good\", \"case\", \"motif\", \"widget\", \"font\", \"pub\", \"server\", \"jpeg\", \"xterm\", \"x11r5\", \"int\", \"client\", \"pasadena\", \"anonymity\", \"xlib\", \"binary\", \"x11\", \"icon\", \"contrib\", \"tiff\", \"toolkit\", \"viewer\", \"colormap\", \"covington\", \"lib\", \"x11r4\", \"tercel\", \"allocation\", \"gl\", \"shareware\", \"programs\", \"tutorial\", \"file\", \"gif\", \"directory\", \"window\", \"ftp\", \"entry\", \"windows\", \"anonymous\", \"image\", \"dos\", \"format\", \"mit\", \"georgia\", \"compile\", \"program\", \"application\", \"graphic\", \"display\", \"manager\", \"version\", \"user\", \"internet\", \"site\", \"email\", \"available\", \"color\", \"information\", \"use\", \"code\", \"mail\", \"run\", \"include\", \"thank\", \"help\", \"software\", \"university\", \"write\", \"address\", \"problem\", \"turkish\", \"armenian\", \"armenians\", \"israeli\", \"armenia\", \"turkey\", \"stephanopoulos\", \"turks\", \"soviet\", \"army\", \"arab\", \"argic\", \"village\", \"serdar\", \"soldier\", \"civilian\", \"azerbaijan\", \"massacre\", \"bush\", \"territory\", \"arabs\", \"lebanese\", \"greece\", \"palestinian\", \"axe\", \"greeks\", \"nazis\", \"bosnia\", \"lebanon\", \"holocaust\", \"seawolf\", \"israel\", \"president\", \"navy\", \"nazi\", \"war\", \"russia\", \"genocide\", \"russian\", \"jews\", \"abolish\", \"clinton\", \"states\", \"military\", \"congress\", \"united\", \"government\", \"kill\", \"people\", \"attack\", \"woman\", \"country\", \"house\", \"land\", \"policy\", \"know\", \"world\", \"right\", \"state\", \"year\", \"tell\", \"write\", \"call\", \"leave\", \"start\", \"article\", \"team\", \"player\", \"hockey\", \"season\", \"nhl\", \"oilers\", \"baseball\", \"playoff\", \"mvp\", \"roger\", \"disappointment\", \"detroit\", \"buchberger\", \"montreal\", \"leafs\", \"ottawa\", \"calgary\", \"edmonton\", \"manson\", \"flyers\", \"winnipeg\", \"puck\", \"idacom\", \"mellanby\", \"wings\", \"braves\", \"coach\", \"det\", \"espn\", \"gerald\", \"score\", \"league\", \"game\", \"louis\", \"philadelphia\", \"play\", \"win\", \"fan\", \"la\", \"surprise\", \"goal\", \"year\", \"division\", \"big\", \"toronto\", \"pick\", \"period\", \"good\", \"university\", \"write\", \"article\", \"san\", \"time\", \"run\", \"make\", \"point\", \"new\", \"car\", \"bike\", \"gm\", \"motorcycle\", \"bmw\", \"radar\", \"tire\", \"rider\", \"brake\", \"wheel\", \"honda\", \"mechanical\", \"kon\", \"doom\", \"mph\", \"automobile\", \"toyota\", \"gasket\", \"gt\", \"sunroof\", \"parking\", \"sunroofs\", \"wagon\", \"acceleration\", \"automotive\", \"cage\", \"obo\", \"drain\", \"leather\", \"behanna\", \"ride\", \"leak\", \"rear\", \"detector\", \"oil\", \"hewlett\", \"engine\", \"exhaust\", \"ford\", \"mile\", \"packard\", \"dog\", \"truck\", \"road\", \"dealer\", \"auto\", \"front\", \"buy\", \"article\", \"distribution\", \"drive\", \"sale\", \"write\", \"new\", \"price\", \"good\", \"look\", \"university\", \"usa\", \"speed\", \"driver\", \"sell\", \"state\", \"back\", \"reply\", \"fbi\", \"tank\", \"gordon\", \"batf\", \"banks\", \"waco\", \"compound\", \"atf\", \"hiv\", \"diet\", \"km\", \"infection\", \"physician\", \"syndrome\", \"candida\", \"bd\", \"yeast\", \"seizure\", \"tue\", \"harvey\", \"vitamin\", \"josh\", \"antenna\", \"skepticism\", \"intellect\", \"illness\", \"patient\", \"dyer\", \"ga\", \"cdc\", \"disease\", \"tobacco\", \"health\", \"doctor\", \"newsletter\", \"medical\", \"surrender\", \"dare\", \"treatment\", \"food\", \"koresh\", \"fire\", \"eat\", \"pain\", \"trial\", \"gas\", \"child\", \"gary\", \"univ\", \"cause\", \"article\", \"report\", \"write\", \"april\", \"water\", \"day\", \"study\", \"reply\", \"never\", \"david\", \"know\", \"use\", \"jesus\", \"sin\", \"catholic\", \"scripture\", \"sabbath\", \"verse\", \"prophet\", \"ra\", \"resurrection\", \"prophecy\", \"testament\", \"christ\", \"gaza\", \"judas\", \"mormon\", \"salvation\", \"luke\", \"gregg\", \"temple\", \"disciple\", \"adl\", \"messiah\", \"sandvik\", \"weiss\", \"negotiation\", \"apostle\", \"prayer\", \"commandment\", \"theology\", \"coming\", \"church\", \"heaven\", \"oname\", \"lord\", \"holy\", \"eternal\", \"bible\", \"god\", \"christians\", \"christian\", \"worship\", \"spirit\", \"biblical\", \"doctrine\", \"matthew\", \"faith\", \"christianity\", \"hell\", \"father\", \"kent\", \"love\", \"die\", \"paul\", \"man\", \"word\", \"life\", \"book\", \"religion\", \"john\", \"believe\", \"day\", \"write\", \"know\", \"name\", \"msg\", \"helmet\", \"clayton\", \"wiring\", \"cramer\", \"duo\", \"den\", \"breaker\", \"conductor\", \"gfci\", \"mg\", \"duke\", \"stockholm\", \"convex\", \"needle\", \"abort\", \"kt\", \"proton\", \"centaur\", \"durham\", \"heterosexual\", \"meme\", \"aluminum\", \"promiscuous\", \"glutamate\", \"uv\", \"myers\", \"cec\", \"bulb\", \"optilink\", \"homosexual\", \"outlet\", \"chinese\", \"gay\", \"neutral\", \"wire\", \"sensitivity\", \"kg\", \"sexual\", \"molecular\", \"ground\", \"homosexuality\", \"de\", \"superstition\", \"male\", \"partner\", \"man\", \"wave\", \"california\", \"food\", \"research\", \"article\", \"corporation\", \"box\", \"write\", \"child\", \"center\"], \"Freq\": [617.0, 735.0, 449.0, 371.0, 364.0, 2032.0, 1265.0, 954.0, 499.0, 563.0, 254.0, 1657.0, 395.0, 559.0, 391.0, 330.0, 311.0, 233.0, 431.0, 2182.0, 294.0, 200.0, 345.0, 319.0, 267.0, 150.0, 494.0, 772.0, 160.0, 233.0, 144.6875178141153, 138.4592443645073, 92.2802785100704, 90.98012775491493, 87.87867899335987, 76.16624880372011, 72.96146882399691, 66.8221445919773, 65.25379033329037, 63.41098017389982, 51.47954284769802, 49.99474412113838, 49.52971949253235, 49.48246151800282, 48.151137274004164, 44.74584121928979, 48.30701340991496, 43.66317098078926, 41.98940095618501, 40.48175343009474, 40.40340210175307, 37.49463919360849, 36.117191098209524, 36.61270208119247, 35.22282001986394, 35.134195422304295, 34.98473271789948, 33.560169978739545, 33.37313242558936, 33.068062553726485, 394.59131903678355, 224.4397458817232, 43.43821850259658, 55.63420425516692, 55.05276824149964, 158.91281026857712, 119.49480471477024, 152.73460476115417, 222.99164378293347, 108.2820401456019, 128.15028554938203, 150.29001349426545, 59.76156109926048, 180.54649073337393, 168.0379663386957, 121.20287432387113, 167.27859439723244, 178.3902320770652, 596.8642758101554, 96.14484534978413, 495.3866927721463, 162.03274791481317, 276.9528127933468, 462.5607024917097, 234.64919656610394, 587.4258786046738, 378.2145847748428, 409.20230251011986, 432.6548543013466, 365.52419008070245, 567.0198473282792, 370.6616981631893, 682.4556393669324, 438.189627048847, 320.482853865043, 330.81487125650045, 501.5480214396577, 362.10008260389316, 406.66695813322946, 517.3987379677762, 239.7913282620778, 277.63651759251826, 227.72170508390113, 205.35908191177197, 340.40826013703304, 232.10436496249906, 210.7957761963136, 207.5107174474899, 330.4427327893627, 217.18685856472908, 190.48561738274316, 156.7656529436969, 142.24322193031372, 109.21245144866518, 104.22130777697477, 103.04917178003599, 102.23521774302213, 95.63379920861132, 94.55094849478166, 86.04891593842136, 85.03558207900564, 81.5965683536322, 69.3178999713053, 62.49956379216835, 61.67775683293363, 61.472894015344295, 61.433299836946176, 55.168085270280244, 53.89783817597276, 53.70237706627269, 53.57903813920065, 51.17835903147559, 51.02508449471639, 86.95062957241836, 47.80072661605995, 45.33702081347074, 44.929974238396426, 44.050038553799695, 163.1908557514491, 127.96687303325135, 487.98142609918204, 96.6102383259734, 321.0855199761529, 215.8927096312785, 146.1740713534225, 76.48247688743349, 134.36297585796905, 141.0664840958793, 399.43493861161625, 161.27470438267912, 114.16291515886286, 101.37691199843971, 173.1634836457736, 130.6455298888523, 749.6775873955384, 177.0558224052399, 368.2629553550217, 128.95034640893465, 162.8655469847162, 238.22135506857612, 230.03806791342768, 226.7859183005645, 233.31222402339645, 135.3026834645217, 252.30289578882554, 221.50153066381236, 193.73389450700415, 159.77146811297604, 179.35401795867278, 166.84068838235368, 174.01292821131773, 157.89913651597996, 148.4838257596384, 143.64524295488636, 107.72968588376327, 99.6794578996321, 74.09174247465324, 66.99223038419099, 390.1719063209352, 60.15989366943829, 54.077718875738434, 80.28061014252735, 35.37308481222883, 34.62983603829138, 52.34796782938011, 30.591852181498172, 30.631078445742055, 28.820847431485305, 24.811674383558714, 23.186028175023498, 25.661646025469192, 21.794599244465637, 21.430574236827194, 21.336706823836337, 21.326708005083493, 20.395232324086084, 20.376395334643487, 20.138555195666324, 101.57273748061829, 19.332604194339172, 21.196769563883848, 18.03414677011341, 18.087188343115095, 21.034711481519675, 56.95183966535933, 23.65836300844679, 162.17252749876258, 64.73500536503104, 26.660034850495954, 386.20043202436295, 125.20426516867249, 47.06391972669504, 91.79661229370727, 37.99726941956886, 30.52768321393503, 127.22501701609963, 146.76363868533986, 117.8852865341106, 70.52061817610904, 51.63197959230806, 66.30284515662865, 46.73522167459686, 60.098841724481744, 99.49182283524652, 141.3645122997404, 109.01310613660213, 599.823408421281, 102.98054727807691, 277.11787404804454, 158.26739568835495, 89.86957024559757, 155.1889658442073, 304.99399164844755, 170.5480502873549, 151.52069859601687, 231.6227087873188, 180.5501444248896, 183.38245751795208, 355.67761795775294, 211.49824162158174, 139.19943877445385, 421.5238943038827, 199.71948839938446, 214.06693044909298, 219.50662119233047, 301.5981164531769, 142.702730266872, 294.65955274259636, 157.7656089030627, 229.8153448223963, 185.45356418365628, 180.71426324177926, 149.87450646140096, 121.51105743096169, 94.03898992331762, 99.44274480643149, 75.83784893868236, 189.96507806921798, 65.06884238299136, 60.668987073771476, 51.7500809216986, 48.07609597506745, 71.97114308244288, 41.842543620038406, 40.1118866168272, 37.89148129750472, 37.978411806450424, 36.588053831414776, 36.89883907454805, 31.46747901823007, 30.949746123767458, 29.923935031718276, 29.116105496753175, 27.832839952994654, 26.458106218308284, 26.38488510564104, 24.480149639679627, 24.21460653216028, 23.646788094451267, 23.61340932822153, 23.06004737659469, 22.941518540841702, 20.718920781306956, 710.5452765490288, 59.70301335867177, 106.35339266441257, 365.32911167902796, 131.90530153873263, 128.33593509809455, 268.6052190913656, 113.25149222956914, 198.36579574552235, 203.28892102209488, 113.45457175143603, 57.69898357887528, 71.92643029439739, 48.330698203253945, 338.57035061184695, 134.8886377268233, 97.48859930013174, 121.71439573127203, 91.63319941452076, 219.20541087277013, 151.8568620381683, 164.33518395708603, 109.98689593971494, 161.26478007497104, 186.7611858758635, 121.17867899434066, 208.279994912733, 394.3626712553254, 126.3685775984736, 175.6558527332948, 189.34759152479083, 157.3850602381638, 150.1671493721841, 146.2665071445559, 132.8975792762381, 153.79772303048733, 157.36076189985027, 119.01288006209292, 123.58893140489762, 141.50158258297554, 135.22797947171145, 117.09225167539263, 109.34251113946719, 72.3938665731409, 69.74043244194871, 68.74017074466302, 61.87397839354718, 57.53791891956017, 57.471631005143905, 53.89371345270776, 49.092874174669916, 48.674753129125726, 47.82815573023933, 46.529615853177155, 43.27074734790659, 34.19190454665999, 31.257094882140326, 29.773839678246958, 28.51265067466699, 33.42570559885662, 26.54133299405633, 25.891224304490564, 25.307485320434576, 23.297620144956255, 22.927339427347352, 22.820139721871282, 22.296495435362335, 22.08540342985898, 21.963267720666725, 38.725604455017425, 152.4524427132037, 135.9432485921058, 60.54444887946838, 40.60752639385889, 134.41802793520964, 36.29208692923443, 51.31223137195273, 54.72522241489473, 111.7322491270743, 44.37422601692301, 99.59757816526853, 57.91138726242517, 70.20851075625806, 62.64122439160617, 59.58384785966398, 143.83908836224296, 106.54176479639682, 241.7249945829889, 80.52064172544053, 74.69951860181354, 78.5366992720749, 73.24620552857226, 62.92831517021112, 63.522201003904684, 111.10058808118708, 85.4300930074196, 87.21398548489569, 83.91817205780539, 81.017351834358, 74.68127257675029, 83.01816463118956, 72.31928836968844, 67.17955360713601, 67.7638545906221, 70.44744053247004, 364.6438355875043, 233.264296965932, 133.7834648041184, 131.38458759721271, 108.66271198756493, 87.77911400184891, 85.0499560060927, 63.66772488595863, 61.138709474088685, 58.59048533851384, 51.04844988265055, 48.6218400605111, 48.067922899101205, 46.413069064463826, 41.347082204094576, 38.559681078065545, 36.628704616376574, 35.54228898172394, 35.48217677186746, 33.962157336040704, 33.46611665974256, 33.0789565500004, 33.365756463823686, 31.93076304070658, 28.992230981276304, 28.899731669151485, 28.890856515070247, 28.576477904543786, 28.173890067703226, 27.981617732900755, 91.46631997169786, 125.32039533634, 417.81816992922535, 41.838891519051465, 37.93853207998171, 228.87396331694157, 198.33835857715545, 84.03780681984145, 78.18991627686648, 60.99953181958797, 92.62629029518082, 334.75279309091246, 102.16482180276813, 141.46732942805735, 64.30705156128198, 68.62554407494979, 64.75081346969445, 137.99958847271233, 125.18112850594756, 137.4435392842079, 125.77372694121831, 61.877549829819344, 85.12334879812563, 75.86099263362222, 80.50183884313772, 68.87161820917328, 68.53797747673953, 371.0298713585143, 144.1290944387538, 59.0327595545367, 56.896167322501064, 46.35502643710223, 42.99032306307992, 42.767930102671535, 42.251366773862394, 37.46862921509765, 37.35809862912415, 33.27971268219708, 32.93934868225709, 32.83132755649013, 29.763280759344266, 28.693497199505543, 21.600572735020837, 20.905313319038054, 19.477227965668938, 19.45640321066589, 19.3412062380484, 16.865020193114432, 16.84061198956219, 15.885997623134445, 15.9117515871384, 15.65218681636962, 15.433078816739533, 14.986636029880502, 14.910661824829042, 14.613306058125344, 14.274895489737519, 96.70140477927217, 43.853804930893105, 29.16237895196654, 35.54148170105126, 65.50766253921395, 41.468054379579385, 73.07966144672713, 19.567720326907093, 29.698734073364044, 62.51353650609698, 40.83508489084886, 52.514962966277594, 30.53202538410796, 78.71252201247499, 51.56206221178281, 49.77399294555336, 56.03005628329016, 96.99175074747394, 227.29393848013734, 132.34277383448247, 122.92618081322865, 75.11783573247635, 199.12096235663338, 120.92235009135476, 68.88940009386731, 114.23170562435536, 99.0444094042114, 115.6305630768495, 73.32307257283911, 59.1277342842877, 59.89606810358903, 54.223975645966256, 57.61845108465772, 56.36591710153801, 57.54228295694605, 91.63702011426591, 63.99532959706982, 64.26029152931845, 54.66349333686884, 47.57211478599887, 44.2628512801383, 40.389825116293686, 36.563910644069644, 30.738208625873416, 27.4567434584331, 26.354152869628578, 22.297249689609135, 21.929232709624458, 21.436542757880133, 19.99270732990191, 19.940265954018507, 18.893931103057145, 17.632521983700673, 17.486700411601408, 17.05321503533979, 17.038013733947643, 16.944184248885104, 16.628670042088093, 16.536213899606587, 15.098239927171178, 15.055806773655371, 61.799101825813935, 14.935112296307087, 14.898107892807792, 14.846301957519898, 79.49198268101719, 20.076492230158095, 103.65720259480366, 67.65324116746824, 27.478088430153093, 69.98315080990001, 24.170711674790518, 29.186355862082642, 41.39822214200917, 71.95818395989703, 46.64996058910892, 85.95761373129518, 53.16737255396239, 40.173973907000864, 39.886263284312264, 43.86539695323229, 81.9461312967912, 37.06009639805868, 40.6999004722564, 67.0940706998117, 145.45580949698538, 59.021616482371634, 141.30873716658257, 51.98913826401854, 43.79532876250028, 68.96684938684122, 48.55254662412767, 57.93222680757832, 44.59476498003298, 43.86608785894699, 44.45989518727599, 44.68922230257658, 254.59145522111808, 81.94349632860768, 40.94624419223504, 52.79002200316979, 31.573164101453738, 31.211490575216093, 29.326586911941657, 28.643364500016567, 28.82946969237997, 27.084111318149485, 26.603807338563463, 120.82009267944737, 25.019337497359263, 22.926493535454735, 22.665623159994226, 21.712789121432476, 21.23497629449403, 20.89056515669828, 20.24520805920063, 19.547836953483397, 18.729813016282, 17.10521644547473, 16.289383805236128, 15.9943921238855, 15.792955806241611, 15.499478382529981, 28.493946642713382, 14.01726512163183, 13.806901766647696, 13.47848050026682, 143.68359209939024, 51.000948357808475, 27.903040140618685, 61.1265560631449, 45.88244531233167, 41.06178579803847, 144.02017485535626, 491.2446278975323, 108.71419811563904, 155.25423218782294, 36.67926684386315, 41.763353805051366, 35.6514175891861, 30.55752207652103, 49.38573672351487, 76.57261525733718, 53.73821888496253, 62.769047290486654, 47.378599935595325, 33.764520139169214, 68.1740299949708, 64.44149043055046, 61.879886668209394, 75.60857986452288, 70.4597353466367, 70.50380579990858, 62.260986406215295, 50.66675991761731, 60.365522003297436, 66.48397620972878, 64.61866256181995, 85.99537556136941, 76.5971088544896, 47.83423885962622, 57.65132972868174, 34.1389752862241, 29.75929653589881, 29.10215894859854, 24.48855258436334, 23.05028174158177, 18.158128329270443, 17.996994322375944, 15.450925779802409, 15.229469904591186, 14.801407118385553, 12.978905798417404, 12.976750267297863, 12.002619185540043, 10.85486181482388, 10.497436901059784, 10.483607326043991, 10.242837584759068, 9.676185531378838, 9.27526819993955, 9.240245200040167, 9.12492664282236, 12.175471383198825, 8.86588227584769, 8.699413938765517, 8.658080507864467, 8.657059349671151, 8.327231742691714, 8.311880617944684, 8.119137275875131, 47.24623010298905, 29.519774292597166, 19.373271055579117, 41.308249009048204, 28.79814615785623, 57.65669392445537, 16.706755643159223, 12.813646416044813, 27.012512528824637, 10.82726223375941, 63.798537309066155, 19.80085555821762, 28.597350156206048, 11.446993206219176, 21.282898551750026, 13.277284912683502, 39.22815807400476, 16.439567554142656, 22.098739729946406, 20.01739907183943, 24.042610201727165, 33.489902717481854, 19.03964317637408, 20.091062003250382, 21.992667596320842, 18.42939244322272, 18.17806903839149], \"Total\": [617.0, 735.0, 449.0, 371.0, 364.0, 2032.0, 1265.0, 954.0, 499.0, 563.0, 254.0, 1657.0, 395.0, 559.0, 391.0, 330.0, 311.0, 233.0, 431.0, 2182.0, 294.0, 200.0, 345.0, 319.0, 267.0, 150.0, 494.0, 772.0, 160.0, 233.0, 144.93819614217642, 138.70959983683167, 92.53668906650742, 91.23898930205182, 88.13936314526622, 76.41734067522222, 73.21199603089406, 67.07482017824775, 65.50423061638301, 63.661489637426136, 51.730008580500844, 50.24531718193688, 49.780111602359256, 49.73298269251299, 48.40155275264114, 44.9962350215592, 48.57891479114824, 43.91355462447828, 42.24029520203491, 40.73210206159513, 40.653929165702635, 37.74498576225939, 36.36755824239521, 36.86971736206279, 35.47347940172233, 35.38464084792108, 35.2352588904787, 33.81055746510557, 33.62353027087722, 33.3187891783976, 397.7091726319095, 230.09966534428398, 43.91293847534642, 56.640599184137216, 56.74725698662398, 173.45349161548035, 129.86566394873051, 169.51422762967533, 259.4958648499155, 120.311551446097, 145.14692664645247, 176.39241515450192, 62.59718910760469, 222.96383561320667, 211.10131260993597, 146.50949361729164, 220.51979071219375, 243.101028443264, 1102.4410125170184, 113.55670996091452, 889.8599830218782, 220.97306243530363, 446.4952320681976, 872.5297973282497, 373.00284055717003, 1301.8392673809199, 723.6096480289315, 831.7550131617672, 954.6398060337996, 748.9867069884709, 1429.0792979845085, 774.7348702876087, 2182.5226379557944, 1083.1286995547362, 699.8668795929431, 748.4687307705666, 1657.1366090865117, 933.0744083595324, 1244.831144868541, 2032.223545763522, 445.14860495580905, 628.5494499327648, 413.90622296117147, 344.6136690602596, 1265.2209405159228, 593.9874909698806, 487.7331379808357, 474.87314051594905, 330.69197578792665, 217.43606712442545, 190.73484613355478, 157.01487840675094, 142.49244198111097, 109.4617329170152, 104.47087658059112, 103.2987569209532, 102.48450139514544, 95.88323396546055, 94.80018013642028, 86.29813340962377, 85.2847820314454, 81.84609200854686, 69.58990367184282, 62.748771234224925, 61.92705397026506, 61.722105715999014, 61.68251475647979, 55.41730211652906, 54.14708074874377, 53.95161708929772, 53.828246156395046, 51.42757890894846, 51.277341866830504, 87.39196546547572, 48.049961165279456, 45.586226657521586, 45.1799381698172, 44.299241895551624, 164.53775021707102, 129.11777307585194, 499.26258688752745, 97.45309666035558, 345.03731587082257, 231.543733602148, 154.28892785804106, 78.20255679218897, 145.90847787888626, 158.73913027574574, 559.8123031322734, 197.19916297888565, 130.69482748888532, 113.17912945374509, 218.37298036303332, 164.07021241031302, 2032.223545763522, 257.28596553822416, 772.8104881173765, 162.1653839467091, 248.80683481485264, 551.0564105119586, 872.5297973282497, 889.8599830218782, 1244.831144868541, 255.03545209858027, 2182.5226379557944, 1429.0792979845085, 933.0744083595324, 465.63196216531117, 774.7348702876087, 633.3302668255645, 1657.1366090865117, 1083.1286995547362, 576.0993000593494, 492.8610475702777, 107.98418606606177, 99.93473180013731, 74.34623155346337, 67.24674538359935, 391.6574993781133, 60.414400415948975, 54.332213127062715, 80.71400848474867, 35.6276861812514, 34.88432825236073, 52.740587130250645, 30.846360728422873, 30.88594412048401, 29.075346016896066, 25.066217576992756, 23.44052692129589, 25.952812846269303, 22.049088732118214, 21.68506858147288, 21.591241897383817, 21.581201506919427, 20.64971544433251, 20.63091470927966, 20.393777235136188, 102.86151962071665, 19.58710603632838, 21.492832036652054, 18.288658681145016, 18.342657559201633, 21.334016430285573, 57.99048452963821, 23.9967406903468, 169.05617959196442, 66.83860461002386, 27.1826167970402, 431.6770379733768, 137.43150394328902, 49.43208065658282, 101.63788747982952, 39.8076971882723, 31.59195463300537, 146.43458800300772, 171.0308089985431, 138.5123636633816, 79.09241220819546, 56.179704284297785, 75.26573347588088, 51.1004518903125, 69.2349395011964, 128.51297650969542, 201.98519855228295, 147.31222339433967, 1265.2209405159228, 138.12157231985384, 494.62147927106923, 242.85225264852798, 117.60076141500569, 254.7097601161146, 654.8343337014177, 292.23047584844767, 249.65201150926913, 478.2519018113619, 337.796842125233, 409.02872677394777, 1301.8392673809199, 556.1391803722512, 263.2717632835107, 2182.5226379557944, 545.5359538316677, 628.5494499327648, 723.6096480289315, 1657.1366090865117, 296.2724453620532, 2032.223545763522, 401.74610545008045, 1429.0792979845085, 748.4687307705666, 1083.1286995547362, 462.3977460808295, 121.7878548038291, 94.28580767423405, 99.72597576174437, 76.08489014532574, 190.6169305512958, 65.31564740560435, 60.915825112539245, 51.99708203442815, 48.32297620453935, 72.34282927868745, 42.08951037620413, 40.36038030554357, 38.13828204530721, 38.23346451407359, 36.834856951267334, 37.149985630787704, 31.714294362945584, 31.197579390362268, 30.170739487686603, 29.364302388131165, 28.07963712126432, 26.704976647418707, 26.631719797484546, 24.72699279644206, 24.46164220786746, 23.893607484331614, 23.860214516660974, 23.306847520259897, 23.188327492325417, 20.966785615600273, 735.5562643821884, 60.822514760345534, 110.0182012743283, 395.70069834047985, 139.88550786585282, 138.24308514256123, 311.10915381324713, 127.32851758674099, 233.99484085966648, 247.22039739179618, 132.75543742561226, 63.12751078707627, 82.73168517778629, 52.15444806186637, 563.893509372631, 188.92723336369343, 127.86413896193557, 171.08948208270104, 120.3015255043106, 380.7450967738886, 243.5029624974882, 282.4887016355438, 159.42453515579214, 284.9088236319015, 360.564493672101, 194.7386756057144, 483.27391110115843, 2032.223545763522, 230.94527195314996, 465.63196216531117, 576.0993000593494, 478.27230418946374, 492.8610475702777, 518.4428638750067, 373.5075730049245, 1244.831144868541, 2182.5226379557944, 255.7272853910883, 774.7348702876087, 141.76100422418813, 135.48740099273326, 117.35167154324344, 109.60883221725523, 72.65328396557032, 69.99985640079069, 69.0012947458353, 62.1333970621685, 57.79746442208678, 57.73110561408107, 54.15688852399019, 49.35230392176772, 48.934201021033154, 48.08758673483075, 46.789075747260114, 43.530604002176126, 34.45132079164947, 31.516525529816587, 30.03334017572096, 28.772084564953243, 33.74763430537305, 26.80079124874544, 26.150650679939137, 25.566948131089056, 23.557492735094723, 23.186805423843314, 23.07963087802846, 22.555933275582525, 22.34483339572406, 22.222750764773863, 39.35444785461908, 159.96311762318064, 154.00956530452768, 65.6286798705544, 42.84323344331217, 156.3176510286784, 38.20116573390818, 56.85648462406471, 64.34173391245635, 153.8824443625006, 50.37440400459778, 154.48741798716418, 77.14222669129121, 105.0057671846874, 88.36777609606061, 83.3431487170733, 401.74610545008045, 238.33553824313665, 1265.2209405159228, 159.166201842628, 139.5008676121537, 164.49995127775773, 158.77613664331113, 103.75304190247732, 114.78405612027545, 1429.0792979845085, 576.7759837474694, 654.8343337014177, 545.5359538316677, 954.6398060337996, 504.6217326763176, 2182.5226379557944, 593.9874909698806, 248.1215296604022, 444.0006879712065, 1657.1366090865117, 364.8993206119337, 233.51928726584143, 134.03844083305884, 131.6396421500746, 108.91768325019531, 88.03408453167306, 85.30551229817526, 63.92269650703048, 61.393684792181496, 58.845491878018315, 51.30399124242912, 48.87683605670503, 48.32289334122228, 46.66805959206505, 41.60205337546521, 38.81488961104655, 36.88370109534124, 35.79726497431134, 35.73716164474745, 34.21712832221709, 33.72126895145245, 33.33392770080795, 33.625465236576886, 32.18573338204429, 29.247212705162788, 29.154704585864014, 29.145830916512704, 28.831464955988316, 28.428862920260748, 28.23670490443376, 92.58420643970331, 128.5198065112522, 449.0177267560917, 43.45206886899907, 39.188667266677925, 294.0698437027071, 267.3728664180996, 104.47744042933401, 96.56053000101875, 74.70005298599536, 140.8334789067326, 954.6398060337996, 170.20870326177345, 351.2064143413763, 101.63448204044134, 125.95690560616957, 125.25168932237595, 1083.1286995547362, 1244.831144868541, 2182.5226379557944, 1657.1366090865117, 127.94818298974565, 1102.4410125170184, 576.0993000593494, 1301.8392673809199, 556.1391803722512, 933.0744083595324, 371.2906033575678, 144.3825688364874, 59.28636603254516, 57.14965926504094, 46.608496659392344, 43.24476553604783, 43.02143357161731, 42.50524029785487, 37.72211536080004, 37.61442439351559, 33.53318004330524, 33.19286938861394, 33.08494089478767, 30.016933126511766, 28.947011863925074, 21.854080327899126, 21.158783546516183, 19.73072886218952, 19.709897963486412, 19.594672754240122, 17.11854822104346, 17.09407815237514, 16.13948684566191, 16.16742080162469, 15.905665216670597, 15.686571114830707, 15.240126710329486, 15.164151349092144, 14.868753855938046, 14.52838165641054, 99.855996368135, 45.15769921748021, 30.126490144604894, 37.31513950750142, 74.10807026145972, 45.90749893628237, 88.15847675634743, 20.37626274181324, 32.5883903211152, 76.77549526622376, 47.27108541417375, 65.87363852955043, 34.684069387477145, 119.67605007752334, 72.06411235087592, 69.94844066576584, 98.01826717458296, 307.9612784782925, 1657.1366090865117, 633.3302668255645, 559.8123031322734, 210.19249029358906, 2182.5226379557944, 933.0744083595324, 226.38685555467717, 1083.1286995547362, 748.9867069884709, 1244.831144868541, 417.3309539536735, 198.28035257936605, 257.28596553822416, 219.03489988560736, 545.5359538316677, 445.14860495580905, 577.9101404307772, 91.89184277541425, 64.25037461398364, 64.51761465865934, 54.91826500540827, 47.82687685388172, 44.517660400869815, 40.64466873070333, 36.81867561319825, 30.992995653585268, 27.71150594735175, 26.60900681729945, 22.552018768545373, 22.184096041619046, 21.693182559535455, 20.24746547361499, 20.195041547359832, 19.148687780400262, 17.88758689537893, 17.741602115829867, 17.30814343061374, 17.29277138441826, 17.199029993981405, 16.883611113478757, 16.79101473519475, 15.353019082763932, 15.310622416703934, 62.85271993430565, 15.189870933629233, 15.15299094562846, 15.101087224108893, 81.18237002975496, 20.46473321858971, 110.18622780151145, 74.7591342953777, 29.031086366934016, 84.47354538611236, 25.868985895191706, 33.46260008419828, 52.25990704802926, 108.64746597237354, 64.34031932121523, 147.18311325269, 79.53523645510869, 61.12632572298429, 61.1206717221241, 76.04037976862983, 227.45548675567358, 64.0960992494058, 80.28956719095129, 243.73069837319642, 1657.1366090865117, 205.80821988241053, 2182.5226379557944, 161.33631384699183, 106.65269474947115, 455.72495326930056, 164.64849511023863, 577.9101404307772, 366.5440739247665, 328.63853823423716, 1429.0792979845085, 2032.223545763522, 254.84690265279352, 82.20522349490348, 41.20181667382042, 53.13798356012442, 31.827657534349594, 31.46609702269993, 29.583741540631955, 28.897930644753842, 29.09468917219095, 27.34007372085601, 26.858371654338317, 121.98985642182159, 25.27387943049994, 23.180973912686746, 22.92012960836503, 21.967304029000523, 21.493414913323832, 21.145060422332566, 20.500030121390193, 19.802347923018615, 18.984310774638722, 17.35971622154443, 16.543864632877764, 16.248911732771116, 16.047999176998122, 15.75395027037116, 28.984573597556253, 14.271741367112085, 14.066021728791597, 13.733109815683095, 147.81245413813122, 52.41225083383943, 28.64615153283472, 64.23553444965462, 47.94610753781586, 43.06243386904568, 160.2093110083223, 617.431084713804, 129.27231342223132, 200.2031026801759, 39.95480209599166, 46.49499934835587, 39.345038782265924, 32.99337338946368, 62.36347340692978, 119.5905811483771, 76.51905032130202, 118.16689511025734, 72.6715454903572, 40.87660266304696, 173.63168938069094, 159.29423660705126, 152.71063672182433, 319.8926489054091, 283.2742560086543, 317.5770381380816, 286.3238785387922, 149.6709457766138, 305.8335665569207, 494.62147927106923, 455.72495326930056, 2182.5226379557944, 1429.0792979845085, 427.76004412405416, 57.90745909487028, 34.39532472111092, 30.015483702934908, 29.36111387842057, 24.74465138031943, 23.30640971662086, 18.414426987096007, 18.255916669886627, 15.707572317642484, 15.485636768307288, 15.057558888394768, 13.235042755283521, 13.232966910241323, 12.258826634296463, 11.111002179392344, 10.753628171800404, 10.739816339135839, 10.498936690103116, 9.93231129594604, 9.531389624011247, 9.496339977965372, 9.381063684951826, 12.524323543347682, 9.12198308620955, 8.955515279738998, 8.914188238148554, 8.913239349860433, 8.583738265444264, 8.568484254918273, 8.375230825757985, 50.23844454446484, 31.541005664061444, 20.484937814885875, 46.90588730775029, 33.41533132640592, 81.265679452585, 19.377708033252045, 14.16611624778635, 35.32180228217604, 11.579640446802658, 150.53724628486836, 28.629081986359232, 54.588573050742454, 12.630304285020237, 48.762501743906725, 18.08365437694565, 319.8926489054091, 41.600770648804016, 149.55706045401146, 108.64746597237354, 272.1246692866899, 1657.1366090865117, 111.82091487374626, 189.60069514856542, 2182.5226379557944, 227.45548675567358, 246.60832922514558], \"Category\": [\"Default\", \"Default\", \"Default\", \"Default\", \"Default\", \"Default\", \"Default\", \"Default\", \"Default\", \"Default\", \"Default\", \"Default\", \"Default\", \"Default\", \"Default\", \"Default\", \"Default\", \"Default\", \"Default\", \"Default\", \"Default\", \"Default\", \"Default\", \"Default\", \"Default\", \"Default\", \"Default\", \"Default\", \"Default\", \"Default\", \"Topic1\", \"Topic1\", \"Topic1\", \"Topic1\", \"Topic1\", \"Topic1\", \"Topic1\", \"Topic1\", \"Topic1\", \"Topic1\", \"Topic1\", \"Topic1\", \"Topic1\", \"Topic1\", \"Topic1\", \"Topic1\", \"Topic1\", \"Topic1\", \"Topic1\", \"Topic1\", \"Topic1\", \"Topic1\", \"Topic1\", \"Topic1\", \"Topic1\", \"Topic1\", \"Topic1\", \"Topic1\", \"Topic1\", \"Topic1\", \"Topic1\", \"Topic1\", \"Topic1\", \"Topic1\", \"Topic1\", \"Topic1\", \"Topic1\", \"Topic1\", \"Topic1\", \"Topic1\", \"Topic1\", \"Topic1\", \"Topic1\", \"Topic1\", \"Topic1\", \"Topic1\", \"Topic1\", \"Topic1\", \"Topic1\", \"Topic1\", \"Topic1\", \"Topic1\", \"Topic1\", \"Topic1\", \"Topic1\", \"Topic1\", \"Topic1\", \"Topic1\", \"Topic1\", \"Topic1\", \"Topic1\", \"Topic1\", \"Topic1\", \"Topic1\", \"Topic1\", \"Topic1\", \"Topic1\", \"Topic1\", \"Topic1\", \"Topic1\", \"Topic1\", \"Topic1\", \"Topic1\", \"Topic1\", \"Topic1\", \"Topic1\", \"Topic1\", \"Topic1\", \"Topic2\", \"Topic2\", \"Topic2\", \"Topic2\", \"Topic2\", \"Topic2\", \"Topic2\", \"Topic2\", \"Topic2\", \"Topic2\", \"Topic2\", \"Topic2\", \"Topic2\", \"Topic2\", \"Topic2\", \"Topic2\", \"Topic2\", \"Topic2\", \"Topic2\", \"Topic2\", \"Topic2\", \"Topic2\", \"Topic2\", \"Topic2\", \"Topic2\", \"Topic2\", \"Topic2\", \"Topic2\", \"Topic2\", \"Topic2\", \"Topic2\", \"Topic2\", \"Topic2\", \"Topic2\", \"Topic2\", \"Topic2\", \"Topic2\", \"Topic2\", \"Topic2\", \"Topic2\", \"Topic2\", \"Topic2\", \"Topic2\", \"Topic2\", \"Topic2\", \"Topic2\", \"Topic2\", \"Topic2\", \"Topic2\", \"Topic2\", \"Topic2\", \"Topic2\", \"Topic2\", \"Topic2\", \"Topic2\", \"Topic2\", \"Topic2\", \"Topic2\", \"Topic2\", \"Topic2\", \"Topic2\", \"Topic2\", \"Topic2\", \"Topic2\", \"Topic2\", \"Topic2\", \"Topic3\", \"Topic3\", \"Topic3\", \"Topic3\", \"Topic3\", \"Topic3\", \"Topic3\", \"Topic3\", \"Topic3\", \"Topic3\", \"Topic3\", \"Topic3\", \"Topic3\", \"Topic3\", \"Topic3\", \"Topic3\", \"Topic3\", \"Topic3\", \"Topic3\", \"Topic3\", \"Topic3\", \"Topic3\", \"Topic3\", \"Topic3\", \"Topic3\", \"Topic3\", \"Topic3\", \"Topic3\", \"Topic3\", \"Topic3\", \"Topic3\", \"Topic3\", \"Topic3\", \"Topic3\", \"Topic3\", \"Topic3\", \"Topic3\", \"Topic3\", \"Topic3\", \"Topic3\", \"Topic3\", \"Topic3\", \"Topic3\", \"Topic3\", \"Topic3\", \"Topic3\", \"Topic3\", \"Topic3\", \"Topic3\", \"Topic3\", \"Topic3\", \"Topic3\", \"Topic3\", \"Topic3\", \"Topic3\", \"Topic3\", \"Topic3\", \"Topic3\", \"Topic3\", \"Topic3\", \"Topic3\", \"Topic3\", \"Topic3\", \"Topic3\", \"Topic3\", \"Topic3\", \"Topic3\", \"Topic3\", \"Topic3\", \"Topic3\", \"Topic3\", \"Topic3\", \"Topic3\", \"Topic3\", \"Topic3\", \"Topic3\", \"Topic3\", \"Topic3\", \"Topic3\", \"Topic4\", \"Topic4\", \"Topic4\", \"Topic4\", \"Topic4\", \"Topic4\", \"Topic4\", \"Topic4\", \"Topic4\", \"Topic4\", \"Topic4\", \"Topic4\", \"Topic4\", \"Topic4\", \"Topic4\", \"Topic4\", \"Topic4\", \"Topic4\", \"Topic4\", \"Topic4\", \"Topic4\", \"Topic4\", \"Topic4\", \"Topic4\", \"Topic4\", \"Topic4\", \"Topic4\", \"Topic4\", \"Topic4\", \"Topic4\", \"Topic4\", \"Topic4\", \"Topic4\", \"Topic4\", \"Topic4\", \"Topic4\", \"Topic4\", \"Topic4\", \"Topic4\", \"Topic4\", \"Topic4\", \"Topic4\", \"Topic4\", \"Topic4\", \"Topic4\", \"Topic4\", \"Topic4\", \"Topic4\", \"Topic4\", \"Topic4\", \"Topic4\", \"Topic4\", \"Topic4\", \"Topic4\", \"Topic4\", \"Topic4\", \"Topic4\", \"Topic4\", \"Topic4\", \"Topic4\", \"Topic4\", \"Topic4\", \"Topic4\", \"Topic4\", \"Topic4\", \"Topic4\", \"Topic4\", \"Topic4\", \"Topic4\", \"Topic5\", \"Topic5\", \"Topic5\", \"Topic5\", \"Topic5\", \"Topic5\", \"Topic5\", \"Topic5\", \"Topic5\", \"Topic5\", \"Topic5\", \"Topic5\", \"Topic5\", \"Topic5\", \"Topic5\", \"Topic5\", \"Topic5\", \"Topic5\", \"Topic5\", \"Topic5\", \"Topic5\", \"Topic5\", \"Topic5\", \"Topic5\", \"Topic5\", \"Topic5\", \"Topic5\", \"Topic5\", \"Topic5\", \"Topic5\", \"Topic5\", \"Topic5\", \"Topic5\", \"Topic5\", \"Topic5\", \"Topic5\", \"Topic5\", \"Topic5\", \"Topic5\", \"Topic5\", \"Topic5\", \"Topic5\", \"Topic5\", \"Topic5\", \"Topic5\", \"Topic5\", \"Topic5\", \"Topic5\", \"Topic5\", \"Topic5\", \"Topic5\", \"Topic5\", \"Topic5\", \"Topic5\", \"Topic5\", \"Topic5\", \"Topic5\", \"Topic5\", \"Topic5\", \"Topic5\", \"Topic5\", \"Topic5\", \"Topic5\", \"Topic5\", \"Topic5\", \"Topic5\", \"Topic6\", \"Topic6\", \"Topic6\", \"Topic6\", \"Topic6\", \"Topic6\", \"Topic6\", \"Topic6\", \"Topic6\", \"Topic6\", \"Topic6\", \"Topic6\", \"Topic6\", \"Topic6\", \"Topic6\", \"Topic6\", \"Topic6\", \"Topic6\", \"Topic6\", \"Topic6\", \"Topic6\", \"Topic6\", \"Topic6\", \"Topic6\", \"Topic6\", \"Topic6\", \"Topic6\", \"Topic6\", \"Topic6\", \"Topic6\", \"Topic6\", \"Topic6\", \"Topic6\", \"Topic6\", \"Topic6\", \"Topic6\", \"Topic6\", \"Topic6\", \"Topic6\", \"Topic6\", \"Topic6\", \"Topic6\", \"Topic6\", \"Topic6\", \"Topic6\", \"Topic6\", \"Topic6\", \"Topic6\", \"Topic6\", \"Topic6\", \"Topic6\", \"Topic6\", \"Topic6\", \"Topic6\", \"Topic6\", \"Topic6\", \"Topic6\", \"Topic7\", \"Topic7\", \"Topic7\", \"Topic7\", \"Topic7\", \"Topic7\", \"Topic7\", \"Topic7\", \"Topic7\", \"Topic7\", \"Topic7\", \"Topic7\", \"Topic7\", \"Topic7\", \"Topic7\", \"Topic7\", \"Topic7\", \"Topic7\", \"Topic7\", \"Topic7\", \"Topic7\", \"Topic7\", \"Topic7\", \"Topic7\", \"Topic7\", \"Topic7\", \"Topic7\", \"Topic7\", \"Topic7\", \"Topic7\", \"Topic7\", \"Topic7\", \"Topic7\", \"Topic7\", \"Topic7\", \"Topic7\", \"Topic7\", \"Topic7\", \"Topic7\", \"Topic7\", \"Topic7\", \"Topic7\", \"Topic7\", \"Topic7\", \"Topic7\", \"Topic7\", \"Topic7\", \"Topic7\", \"Topic7\", \"Topic7\", \"Topic7\", \"Topic7\", \"Topic7\", \"Topic7\", \"Topic7\", \"Topic7\", \"Topic7\", \"Topic7\", \"Topic7\", \"Topic7\", \"Topic7\", \"Topic7\", \"Topic7\", \"Topic7\", \"Topic7\", \"Topic8\", \"Topic8\", \"Topic8\", \"Topic8\", \"Topic8\", \"Topic8\", \"Topic8\", \"Topic8\", \"Topic8\", \"Topic8\", \"Topic8\", \"Topic8\", \"Topic8\", \"Topic8\", \"Topic8\", \"Topic8\", \"Topic8\", \"Topic8\", \"Topic8\", \"Topic8\", \"Topic8\", \"Topic8\", \"Topic8\", \"Topic8\", \"Topic8\", \"Topic8\", \"Topic8\", \"Topic8\", \"Topic8\", \"Topic8\", \"Topic8\", \"Topic8\", \"Topic8\", \"Topic8\", \"Topic8\", \"Topic8\", \"Topic8\", \"Topic8\", \"Topic8\", \"Topic8\", \"Topic8\", \"Topic8\", \"Topic8\", \"Topic8\", \"Topic8\", \"Topic8\", \"Topic8\", \"Topic8\", \"Topic8\", \"Topic8\", \"Topic8\", \"Topic8\", \"Topic8\", \"Topic8\", \"Topic8\", \"Topic8\", \"Topic8\", \"Topic8\", \"Topic8\", \"Topic8\", \"Topic8\", \"Topic8\", \"Topic9\", \"Topic9\", \"Topic9\", \"Topic9\", \"Topic9\", \"Topic9\", \"Topic9\", \"Topic9\", \"Topic9\", \"Topic9\", \"Topic9\", \"Topic9\", \"Topic9\", \"Topic9\", \"Topic9\", \"Topic9\", \"Topic9\", \"Topic9\", \"Topic9\", \"Topic9\", \"Topic9\", \"Topic9\", \"Topic9\", \"Topic9\", \"Topic9\", \"Topic9\", \"Topic9\", \"Topic9\", \"Topic9\", \"Topic9\", \"Topic9\", \"Topic9\", \"Topic9\", \"Topic9\", \"Topic9\", \"Topic9\", \"Topic9\", \"Topic9\", \"Topic9\", \"Topic9\", \"Topic9\", \"Topic9\", \"Topic9\", \"Topic9\", \"Topic9\", \"Topic9\", \"Topic9\", \"Topic9\", \"Topic9\", \"Topic9\", \"Topic9\", \"Topic9\", \"Topic9\", \"Topic9\", \"Topic9\", \"Topic9\", \"Topic9\", \"Topic9\", \"Topic9\", \"Topic9\", \"Topic9\", \"Topic9\", \"Topic9\", \"Topic9\", \"Topic10\", \"Topic10\", \"Topic10\", \"Topic10\", \"Topic10\", \"Topic10\", \"Topic10\", \"Topic10\", \"Topic10\", \"Topic10\", \"Topic10\", \"Topic10\", \"Topic10\", \"Topic10\", \"Topic10\", \"Topic10\", \"Topic10\", \"Topic10\", \"Topic10\", \"Topic10\", \"Topic10\", \"Topic10\", \"Topic10\", \"Topic10\", \"Topic10\", \"Topic10\", \"Topic10\", \"Topic10\", \"Topic10\", \"Topic10\", \"Topic10\", \"Topic10\", \"Topic10\", \"Topic10\", \"Topic10\", \"Topic10\", \"Topic10\", \"Topic10\", \"Topic10\", \"Topic10\", \"Topic10\", \"Topic10\", \"Topic10\", \"Topic10\", \"Topic10\", \"Topic10\", \"Topic10\", \"Topic10\", \"Topic10\", \"Topic10\", \"Topic10\", \"Topic10\", \"Topic10\", \"Topic10\", \"Topic10\", \"Topic10\", \"Topic10\"], \"logprob\": [30.0, 29.0, 28.0, 27.0, 26.0, 25.0, 24.0, 23.0, 22.0, 21.0, 20.0, 19.0, 18.0, 17.0, 16.0, 15.0, 14.0, 13.0, 12.0, 11.0, 10.0, 9.0, 8.0, 7.0, 6.0, 5.0, 4.0, 3.0, 2.0, 1.0, -6.4136, -6.4576, -6.8633, -6.8775, -6.9122, -7.0552, -7.0982, -7.1861, -7.2099, -7.2385, -7.447, -7.4762, -7.4856, -7.4865, -7.5138, -7.5872, -7.5106, -7.6117, -7.6507, -7.6873, -7.6892, -7.764, -7.8014, -7.7878, -7.8265, -7.829, -7.8332, -7.8748, -7.8804, -7.8896, -5.4103, -5.9745, -7.6168, -7.3694, -7.3799, -6.3198, -6.6049, -6.3595, -5.981, -6.7034, -6.535, -6.3756, -7.2978, -6.1922, -6.264, -6.5907, -6.2685, -6.2042, -4.9965, -6.8223, -5.1828, -6.3004, -5.7643, -5.2514, -5.9301, -5.0124, -5.4527, -5.3739, -5.3182, -5.4868, -5.0478, -5.4729, -4.8625, -5.3055, -5.6183, -5.5866, -5.1705, -5.4962, -5.3802, -5.1393, -5.9084, -5.7618, -5.96, -6.0634, -5.558, -5.941, -6.0373, -6.053, -4.9519, -5.3715, -5.5027, -5.6975, -5.7948, -6.059, -6.1058, -6.1171, -6.125, -6.1918, -6.2032, -6.2974, -6.3092, -6.3505, -6.5136, -6.6171, -6.6304, -6.6337, -6.6343, -6.7419, -6.7652, -6.7688, -6.7711, -6.817, -6.82, -6.287, -6.8853, -6.9382, -6.9472, -6.967, -5.6574, -5.9005, -4.562, -6.1816, -4.9806, -5.3775, -5.7675, -6.4152, -5.8517, -5.8031, -4.7622, -5.6692, -6.0147, -6.1334, -5.5981, -5.8798, -4.1326, -5.5758, -4.8435, -5.8929, -5.6594, -5.2791, -5.314, -5.3283, -5.2999, -5.8448, -5.2217, -5.3519, -5.4858, -5.6785, -5.5629, -5.6353, -5.5932, -5.6903, -5.7518, -5.7849, -6.0606, -6.1383, -6.435, -6.5357, -4.7737, -6.6433, -6.7498, -6.3547, -7.1743, -7.1955, -6.7823, -7.3195, -7.3182, -7.3792, -7.5289, -7.5967, -7.4953, -7.6586, -7.6754, -7.6798, -7.6803, -7.725, -7.7259, -7.7376, -6.1195, -7.7785, -7.6864, -7.848, -7.8451, -7.6941, -6.6981, -7.5765, -5.6516, -6.57, -7.4571, -4.7839, -5.9103, -6.8888, -6.2207, -7.1027, -7.3216, -5.8943, -5.7514, -5.9705, -6.4844, -6.7961, -6.546, -6.8958, -6.6443, -6.1402, -5.7889, -6.0488, -4.3436, -6.1057, -5.1158, -5.676, -6.2419, -5.6956, -5.02, -5.6012, -5.7195, -5.2952, -5.5443, -5.5287, -4.8662, -5.386, -5.8044, -4.6964, -5.4433, -5.374, -5.3489, -5.0312, -5.7795, -5.0544, -5.6791, -5.303, -5.5175, -5.5433, -5.7305, -5.5124, -5.7687, -5.7128, -5.9838, -5.0656, -6.137, -6.207, -6.366, -6.4396, -6.0362, -6.5785, -6.6208, -6.6777, -6.6754, -6.7127, -6.7042, -6.8635, -6.8801, -6.9138, -6.9411, -6.9862, -7.0369, -7.0396, -7.1146, -7.1255, -7.1492, -7.1506, -7.1743, -7.1795, -7.2814, -3.7464, -6.223, -5.6457, -4.4116, -5.4303, -5.4578, -4.7192, -5.5828, -5.0223, -4.9978, -5.581, -6.2572, -6.0368, -6.4344, -4.4877, -5.408, -5.7327, -5.5107, -5.7946, -4.9224, -5.2895, -5.2105, -5.6121, -5.2294, -5.0826, -5.5152, -4.9735, -4.3352, -5.4732, -5.1439, -5.0688, -5.2537, -5.3007, -5.327, -5.4228, -5.2768, -5.2539, -5.5332, -5.4955, -5.152, -5.1974, -5.3414, -5.4099, -5.8222, -5.8596, -5.874, -5.9792, -6.0519, -6.053, -6.1173, -6.2106, -6.2192, -6.2367, -6.2643, -6.3369, -6.5724, -6.6621, -6.7107, -6.754, -6.595, -6.8256, -6.8504, -6.8732, -6.956, -6.972, -6.9767, -6.9999, -7.0094, -7.015, -6.4478, -5.0775, -5.1921, -6.001, -6.4004, -5.2034, -6.5127, -6.1664, -6.102, -5.3882, -6.3117, -5.5032, -6.0454, -5.8529, -5.9669, -6.017, -5.1356, -5.4358, -4.6165, -5.7158, -5.7909, -5.7408, -5.8105, -5.9623, -5.9529, -5.3939, -5.6566, -5.636, -5.6745, -5.7097, -5.7911, -5.6853, -5.8232, -5.897, -5.8883, -5.8495, -4.1609, -4.6076, -5.1636, -5.1817, -5.3716, -5.585, -5.6166, -5.9061, -5.9467, -5.9892, -6.127, -6.1757, -6.1872, -6.2222, -6.3378, -6.4076, -6.459, -6.4891, -6.4908, -6.5346, -6.5493, -6.5609, -6.5523, -6.5962, -6.6928, -6.696, -6.6963, -6.7072, -6.7214, -6.7283, -5.5438, -5.2289, -4.0248, -6.326, -6.4239, -4.6266, -4.7698, -5.6286, -5.7007, -5.949, -5.5312, -4.2464, -5.4332, -5.1078, -5.8961, -5.8312, -5.8893, -5.1326, -5.2301, -5.1366, -5.2253, -5.9347, -5.6157, -5.7309, -5.6715, -5.8276, -5.8324, -3.9254, -4.871, -5.7636, -5.8005, -6.0054, -6.0808, -6.0859, -6.0981, -6.2182, -6.2212, -6.3368, -6.3471, -6.3503, -6.4485, -6.4851, -6.769, -6.8017, -6.8725, -6.8736, -6.8795, -7.0165, -7.0179, -7.0763, -7.0747, -7.0911, -7.1052, -7.1346, -7.1397, -7.1598, -7.1832, -5.2701, -6.0609, -6.4688, -6.271, -5.6596, -6.1168, -5.5502, -6.8678, -6.4506, -5.7063, -6.1322, -5.8806, -6.423, -5.4759, -5.8989, -5.9342, -5.8158, -5.2671, -4.4155, -4.9563, -5.0301, -5.5227, -4.5478, -5.0466, -5.6092, -5.1035, -5.2462, -5.0913, -5.5469, -5.762, -5.7491, -5.8486, -5.7879, -5.8099, -5.7892, -5.0693, -5.4284, -5.4242, -5.586, -5.7249, -5.797, -5.8886, -5.9881, -6.1617, -6.2746, -6.3155, -6.4827, -6.4993, -6.5221, -6.5918, -6.5944, -6.6483, -6.7174, -6.7257, -6.7508, -6.7517, -6.7572, -6.776, -6.7816, -6.8726, -6.8754, -5.4633, -6.8835, -6.8859, -6.8894, -5.2115, -6.5876, -4.9461, -5.3728, -6.2738, -5.3389, -6.402, -6.2135, -5.8639, -5.3111, -5.7445, -5.1333, -5.6137, -5.8939, -5.9011, -5.806, -5.1811, -5.9746, -5.8809, -5.3811, -4.6073, -5.5093, -4.6362, -5.6361, -5.8076, -5.3535, -5.7045, -5.5279, -5.7896, -5.806, -5.7926, -5.7874, -3.912, -5.0456, -5.7394, -5.4853, -5.9993, -6.0108, -6.0731, -6.0967, -6.0902, -6.1527, -6.1706, -4.6573, -6.232, -6.3193, -6.3308, -6.3737, -6.396, -6.4123, -6.4437, -6.4788, -6.5215, -6.6122, -6.6611, -6.6794, -6.6921, -6.7108, -6.1019, -6.8113, -6.8264, -6.8505, -4.484, -5.5198, -6.1229, -5.3387, -5.6255, -5.7365, -4.4817, -3.2547, -4.7629, -4.4066, -5.8494, -5.7196, -5.8778, -6.032, -5.552, -5.1134, -5.4675, -5.3122, -5.5934, -5.9322, -5.2296, -5.2859, -5.3264, -5.126, -5.1966, -5.196, -5.3203, -5.5263, -5.3512, -5.2547, -5.2831, -4.9973, -5.1131, -5.5839, -4.6105, -5.1345, -5.2718, -5.2941, -5.4667, -5.5272, -5.7658, -5.7747, -5.9273, -5.9417, -5.9702, -6.1016, -6.1018, -6.1798, -6.2803, -6.3138, -6.3151, -6.3383, -6.3953, -6.4376, -6.4414, -6.4539, -6.1655, -6.4827, -6.5017, -6.5064, -6.5065, -6.5454, -6.5472, -6.5707, -4.8095, -5.2799, -5.701, -4.9439, -5.3046, -4.6104, -5.8491, -6.1144, -5.3686, -6.2829, -4.5092, -5.6792, -5.3116, -6.2272, -5.607, -6.0789, -4.9955, -5.8652, -5.5694, -5.6683, -5.4851, -5.1537, -5.7184, -5.6646, -5.5742, -5.751, -5.7647], \"loglift\": [30.0, 29.0, 28.0, 27.0, 26.0, 25.0, 24.0, 23.0, 22.0, 21.0, 20.0, 19.0, 18.0, 17.0, 16.0, 15.0, 14.0, 13.0, 12.0, 11.0, 10.0, 9.0, 8.0, 7.0, 6.0, 5.0, 4.0, 3.0, 2.0, 1.0, 1.2577, 1.2577, 1.2567, 1.2566, 1.2565, 1.2562, 1.256, 1.2557, 1.2556, 1.2555, 1.2546, 1.2545, 1.2544, 1.2544, 1.2543, 1.2539, 1.2539, 1.2538, 1.2535, 1.2533, 1.2533, 1.2528, 1.2526, 1.2525, 1.2524, 1.2524, 1.2523, 1.252, 1.252, 1.2519, 1.2516, 1.2346, 1.2486, 1.2415, 1.2292, 1.1719, 1.1762, 1.1552, 1.1079, 1.1541, 1.1349, 1.0993, 1.2131, 1.0485, 1.0313, 1.0699, 0.9831, 0.95, 0.6459, 1.093, 0.6738, 0.9492, 0.7819, 0.6249, 0.796, 0.4637, 0.6107, 0.5501, 0.4681, 0.5421, 0.3351, 0.5222, 0.0969, 0.3545, 0.4784, 0.443, 0.0643, 0.3129, 0.1407, -0.1086, 0.6408, 0.4424, 0.662, 0.7418, -0.0534, 0.3198, 0.4206, 0.4316, 1.8946, 1.8942, 1.894, 1.8938, 1.8936, 1.8931, 1.8929, 1.8929, 1.8929, 1.8927, 1.8927, 1.8924, 1.8924, 1.8923, 1.8914, 1.8914, 1.8913, 1.8913, 1.8913, 1.8908, 1.8907, 1.8907, 1.8907, 1.8905, 1.8904, 1.8903, 1.8901, 1.8899, 1.8898, 1.8897, 1.8871, 1.8864, 1.8725, 1.8867, 1.8234, 1.8254, 1.8413, 1.8731, 1.8129, 1.7773, 1.5578, 1.6942, 1.7601, 1.7852, 1.6634, 1.6675, 0.8981, 1.5216, 1.1541, 1.6662, 1.4716, 1.0567, 0.5622, 0.5283, 0.221, 1.2615, -0.2623, 0.031, 0.3233, 0.8257, 0.4322, 0.5614, -0.3584, -0.0303, 0.5395, 0.6625, 1.905, 1.9048, 1.9039, 1.9036, 1.9036, 1.9031, 1.9027, 1.902, 1.9002, 1.9, 1.8999, 1.8991, 1.8991, 1.8986, 1.8972, 1.8965, 1.8961, 1.8958, 1.8956, 1.8955, 1.8955, 1.895, 1.895, 1.8948, 1.8948, 1.8943, 1.8935, 1.8934, 1.8933, 1.8932, 1.8893, 1.8932, 1.8658, 1.8754, 1.888, 1.7961, 1.8142, 1.8583, 1.8055, 1.8608, 1.8731, 1.7668, 1.7544, 1.7461, 1.7927, 1.823, 1.7806, 1.8181, 1.7659, 1.6514, 1.5505, 1.6063, 1.161, 1.6138, 1.328, 1.4792, 1.6384, 1.4119, 1.1433, 1.3688, 1.408, 1.1823, 1.2809, 1.1052, 0.6099, 0.9406, 1.2701, 0.263, 0.9025, 0.8302, 0.7145, 0.2036, 1.1769, -0.0237, 0.9727, 0.0799, 0.5121, 0.1167, 0.7807, 2.3329, 2.3326, 2.3324, 2.332, 2.3318, 2.3314, 2.3311, 2.3304, 2.3301, 2.3301, 2.3293, 2.329, 2.3287, 2.3285, 2.3285, 2.3284, 2.3274, 2.3272, 2.327, 2.3267, 2.3264, 2.3259, 2.3259, 2.3252, 2.3251, 2.3248, 2.3248, 2.3246, 2.3245, 2.3233, 2.3006, 2.3166, 2.3013, 2.2553, 2.2765, 2.2608, 2.1883, 2.218, 2.17, 2.1396, 2.1781, 2.2453, 2.1952, 2.2591, 1.8251, 1.9983, 2.064, 1.9947, 2.063, 1.7831, 1.863, 1.7935, 1.964, 1.7661, 1.6774, 1.8608, 1.4935, 0.6956, 1.7322, 1.3603, 1.2225, 1.2237, 1.1467, 1.0698, 1.3018, 0.2441, -0.2945, 1.5703, 0.4996, 2.5415, 2.5414, 2.5411, 2.5409, 2.5397, 2.5396, 2.5395, 2.5391, 2.5388, 2.5388, 2.5384, 2.538, 2.538, 2.5379, 2.5377, 2.5373, 2.5357, 2.535, 2.5346, 2.5342, 2.5337, 2.5336, 2.5333, 2.5331, 2.5322, 2.532, 2.532, 2.5317, 2.5316, 2.5315, 2.5272, 2.4952, 2.4185, 2.4627, 2.4897, 2.3924, 2.492, 2.4407, 2.3814, 2.2232, 2.4165, 2.1043, 2.2566, 2.1407, 2.1992, 2.2077, 1.5162, 1.7381, 0.8881, 1.8619, 1.9187, 1.8039, 1.7696, 2.0433, 1.9516, -0.0111, 0.6335, 0.5273, 0.6714, 0.0766, 0.6327, -0.7259, 0.4375, 1.2367, 0.6635, -0.6147, 2.5871, 2.5867, 2.5859, 2.5859, 2.5855, 2.5849, 2.5848, 2.5838, 2.5837, 2.5835, 2.5828, 2.5826, 2.5825, 2.5823, 2.5817, 2.5812, 2.5809, 2.5807, 2.5807, 2.5803, 2.5802, 2.5801, 2.5801, 2.5799, 2.5791, 2.579, 2.579, 2.5789, 2.5788, 2.5787, 2.5757, 2.5626, 2.5158, 2.55, 2.5554, 2.3372, 2.2891, 2.3701, 2.3768, 2.3852, 2.1688, 1.5399, 2.0774, 1.6785, 2.1301, 1.9805, 1.928, 0.5275, 0.2908, -0.1772, 0.0095, 1.8613, 0.0266, 0.5604, -0.1954, 0.499, -0.0233, 2.8052, 2.8041, 2.8016, 2.8015, 2.8005, 2.8, 2.8, 2.7999, 2.7992, 2.7991, 2.7983, 2.7982, 2.7982, 2.7974, 2.7971, 2.7942, 2.7939, 2.793, 2.793, 2.7929, 2.791, 2.791, 2.7901, 2.79, 2.7898, 2.7896, 2.7891, 2.789, 2.7886, 2.7883, 2.7738, 2.7766, 2.7734, 2.7572, 2.6825, 2.7042, 2.6183, 2.7654, 2.7131, 2.6004, 2.6595, 2.5793, 2.6784, 2.3869, 2.4711, 2.4656, 2.2466, 1.6506, 0.8193, 1.2403, 1.2899, 1.7769, 0.4116, 0.7626, 1.6162, 0.5565, 0.7828, 0.4296, 1.0669, 1.5959, 1.3483, 1.4098, 0.558, 0.7394, 0.499, 3.0577, 3.0565, 3.0565, 3.0558, 3.0551, 3.0547, 3.0542, 3.0535, 3.0522, 3.0512, 3.0508, 3.0491, 3.0489, 3.0486, 3.0478, 3.0478, 3.0471, 3.0461, 3.046, 3.0456, 3.0456, 3.0455, 3.0452, 3.0452, 3.0437, 3.0437, 3.0436, 3.0435, 3.0435, 3.0434, 3.0394, 3.0413, 2.9994, 2.9606, 3.0055, 2.8723, 2.9926, 2.9237, 2.8275, 2.6484, 2.7389, 2.5226, 2.6577, 2.6407, 2.6336, 2.5103, 2.0396, 2.5126, 2.381, 1.7705, 0.6275, 1.8114, 0.3232, 1.928, 2.1704, 1.1722, 1.8393, 0.7603, 0.954, 1.0466, -0.4097, -0.7567, 3.195, 3.1928, 3.1898, 3.1894, 3.188, 3.1879, 3.1873, 3.1872, 3.1869, 3.1866, 3.1865, 3.1864, 3.1859, 3.185, 3.1848, 3.1844, 3.1839, 3.1839, 3.1835, 3.1831, 3.1825, 3.1812, 3.1805, 3.1802, 3.18, 3.1797, 3.1789, 3.178, 3.1774, 3.1773, 3.1677, 3.1687, 3.1697, 3.1464, 3.152, 3.1484, 3.0895, 2.9674, 3.0228, 2.9417, 3.1105, 3.0887, 3.0974, 3.1193, 2.9627, 2.7502, 2.8426, 2.5634, 2.7682, 3.0049, 2.2611, 2.291, 2.2927, 1.7536, 1.8046, 1.691, 1.6702, 2.1128, 1.5734, 1.1892, 1.2426, -0.0379, 0.2698, 1.0052, 3.9783, 3.9752, 3.9741, 3.9739, 3.9723, 3.9717, 3.9687, 3.9684, 3.9662, 3.966, 3.9656, 3.9632, 3.9632, 3.9616, 3.9594, 3.9586, 3.9586, 3.958, 3.9566, 3.9555, 3.9554, 3.955, 3.9545, 3.9542, 3.9537, 3.9536, 3.9536, 3.9524, 3.9523, 3.9517, 3.9213, 3.9165, 3.9269, 3.8556, 3.834, 3.6395, 3.8344, 3.8824, 3.7145, 3.9155, 3.1242, 3.614, 3.3362, 3.8843, 3.1537, 3.6738, 1.8841, 3.0543, 2.0706, 2.2912, 1.5563, 0.0811, 2.2123, 1.7381, -0.6148, 1.4697, 1.3751]}, \"token.table\": {\"Topic\": [1, 1, 3, 5, 10, 3, 4, 7, 1, 2, 4, 8, 1, 2, 3, 5, 1, 2, 3, 4, 5, 9, 10, 9, 3, 2, 3, 4, 10, 3, 2, 4, 1, 2, 4, 8, 9, 2, 3, 4, 1, 2, 4, 1, 2, 5, 6, 8, 10, 5, 5, 5, 1, 2, 3, 6, 7, 3, 4, 5, 5, 5, 5, 3, 3, 1, 2, 3, 4, 5, 6, 7, 8, 9, 10, 3, 5, 3, 3, 8, 3, 3, 1, 2, 3, 5, 8, 1, 3, 7, 7, 7, 1, 2, 3, 4, 8, 9, 5, 5, 1, 1, 2, 3, 5, 6, 7, 8, 9, 1, 3, 8, 6, 1, 6, 8, 8, 7, 1, 2, 3, 5, 6, 7, 8, 9, 3, 9, 3, 8, 9, 1, 2, 3, 5, 6, 7, 7, 4, 7, 1, 2, 6, 1, 2, 3, 4, 5, 7, 9, 5, 1, 2, 3, 4, 6, 10, 7, 6, 10, 6, 10, 1, 2, 5, 1, 2, 3, 7, 1, 2, 7, 6, 1, 2, 3, 4, 5, 6, 10, 1, 2, 3, 4, 5, 6, 7, 8, 9, 10, 1, 8, 7, 2, 3, 6, 1, 2, 3, 4, 5, 6, 7, 8, 9, 10, 9, 1, 2, 3, 4, 5, 7, 8, 10, 2, 4, 6, 7, 8, 10, 10, 1, 2, 3, 4, 5, 6, 7, 8, 10, 1, 3, 5, 8, 9, 10, 4, 10, 2, 8, 9, 3, 5, 9, 3, 9, 3, 5, 9, 3, 9, 5, 1, 2, 3, 5, 8, 9, 1, 2, 3, 5, 7, 10, 4, 1, 2, 3, 5, 8, 2, 6, 1, 2, 3, 4, 10, 1, 2, 4, 4, 9, 9, 1, 4, 6, 8, 1, 2, 3, 4, 6, 7, 8, 3, 3, 5, 10, 10, 1, 2, 3, 5, 8, 2, 3, 3, 5, 4, 2, 10, 3, 1, 1, 2, 5, 7, 10, 1, 2, 7, 1, 3, 5, 7, 8, 4, 2, 10, 3, 5, 2, 3, 5, 2, 5, 8, 1, 6, 8, 1, 2, 3, 4, 5, 6, 7, 8, 9, 10, 1, 2, 3, 4, 5, 6, 7, 8, 9, 1, 3, 8, 10, 2, 7, 2, 3, 4, 10, 2, 6, 6, 2, 7, 6, 2, 3, 1, 3, 5, 7, 8, 9, 10, 8, 2, 2, 4, 6, 9, 3, 8, 2, 4, 1, 2, 4, 1, 2, 3, 4, 5, 6, 7, 8, 10, 1, 2, 4, 5, 6, 7, 8, 10, 1, 3, 8, 3, 9, 1, 3, 5, 6, 7, 7, 2, 4, 7, 1, 2, 3, 5, 7, 2, 4, 6, 7, 3, 8, 10, 10, 10, 8, 1, 3, 9, 1, 4, 7, 8, 10, 6, 1, 2, 4, 7, 9, 2, 2, 1, 8, 1, 7, 1, 4, 6, 9, 2, 6, 1, 3, 9, 3, 5, 8, 10, 1, 2, 3, 4, 5, 9, 5, 7, 1, 2, 3, 4, 5, 8, 3, 1, 2, 3, 5, 6, 8, 9, 3, 6, 9, 3, 1, 2, 6, 7, 5, 9, 8, 1, 2, 4, 1, 2, 3, 4, 5, 6, 7, 8, 9, 10, 1, 3, 5, 6, 7, 8, 3, 1, 2, 6, 4, 1, 3, 5, 8, 10, 2, 7, 2, 4, 1, 1, 3, 5, 6, 7, 2, 4, 8, 2, 3, 6, 6, 7, 8, 1, 5, 7, 8, 7, 1, 10, 9, 3, 5, 4, 8, 6, 10, 2, 4, 4, 10, 7, 1, 3, 6, 3, 9, 1, 2, 3, 4, 5, 6, 7, 8, 9, 8, 1, 2, 3, 5, 8, 1, 2, 4, 5, 5, 9, 1, 3, 5, 10, 7, 3, 5, 3, 1, 8, 2, 5, 8, 5, 9, 1, 3, 6, 7, 9, 10, 1, 2, 3, 4, 5, 6, 8, 1, 10, 2, 4, 7, 1, 2, 3, 6, 7, 8, 8, 6, 5, 5, 9, 3, 3, 10, 3, 10, 7, 1, 2, 3, 5, 8, 1, 3, 5, 8, 9, 10, 4, 6, 2, 8, 1, 2, 4, 2, 3, 1, 2, 3, 4, 5, 6, 7, 8, 9, 10, 8, 1, 2, 3, 4, 5, 6, 7, 8, 4, 8, 3, 1, 2, 4, 6, 7, 10, 2, 5, 9, 5, 9, 5, 9, 1, 5, 6, 1, 2, 3, 4, 6, 7, 8, 9, 8, 4, 9, 2, 8, 9, 2, 3, 6, 2, 8, 10, 1, 3, 5, 6, 7, 8, 8, 1, 2, 3, 4, 5, 6, 7, 8, 9, 7, 8, 9, 10, 1, 3, 6, 8, 1, 5, 8, 9, 1, 2, 3, 4, 5, 7, 8, 10, 3, 1, 1, 2, 3, 5, 9, 10, 6, 5, 6, 2, 7, 7, 1, 2, 3, 5, 6, 7, 8, 9, 5, 5, 1, 3, 6, 4, 3, 5, 1, 3, 5, 7, 9, 1, 2, 3, 5, 6, 7, 9, 3, 1, 2, 3, 5, 6, 7, 8, 9, 1, 2, 3, 4, 5, 6, 7, 8, 9, 10, 5, 9, 1, 2, 3, 4, 5, 6, 7, 8, 9, 6, 7, 1, 3, 5, 6, 7, 9, 1, 2, 6, 7, 9, 1, 2, 4, 1, 2, 3, 4, 6, 7, 8, 10, 1, 2, 3, 4, 5, 6, 7, 8, 9, 10, 1, 3, 5, 9, 10, 1, 3, 5, 6, 7, 8, 9, 10, 1, 2, 4, 6, 7, 6, 1, 5, 1, 7, 9, 2, 1, 2, 3, 4, 5, 6, 7, 8, 9, 10, 7, 1, 3, 4, 8, 2, 6, 10, 9, 10, 2, 5, 7, 8, 1, 3, 5, 8, 3, 1, 1, 4, 1, 2, 3, 4, 2, 1, 10, 1, 2, 5, 1, 2, 6, 1, 3, 5, 3, 9, 2, 4, 7, 7, 10, 1, 6, 10, 1, 2, 3, 4, 5, 6, 7, 8, 9, 1, 5, 10, 3, 5, 5, 1, 2, 3, 4, 5, 6, 7, 9, 10, 9, 5, 6, 10, 1, 2, 3, 5, 6, 7, 8, 9, 10, 1, 2, 3, 4, 5, 6, 7, 8, 9, 10, 4, 8, 6, 3, 1, 3, 7, 1, 3, 5, 7, 6, 4, 9, 10, 1, 3, 6, 2, 10, 1, 2, 3, 4, 5, 6, 7, 8, 9, 2, 4, 7, 1, 8, 5, 7, 1, 5, 10, 4, 3, 8, 1, 2, 3, 4, 5, 6, 7, 8, 9, 2, 4, 1, 2, 3, 5, 6, 8, 9, 10, 1, 3, 5, 6, 1, 2, 3, 5, 8, 3, 6, 7, 1, 2, 3, 4, 8, 1, 2, 6, 7, 8, 1, 2, 3, 5, 6, 6, 6, 1, 2, 3, 4, 5, 6, 7, 8, 9, 10, 1, 2, 3, 5, 8, 10, 3, 1, 1, 2, 3, 4, 5, 6, 7, 8, 10, 9, 3, 1, 2, 5, 6, 1, 2, 5, 7, 2, 2, 3, 1, 2, 3, 4, 5, 7, 8, 2, 1, 2, 4, 5, 4, 1, 2, 4, 7, 10, 9, 9, 10, 4, 6, 1, 2, 3, 4, 5, 6, 7, 8, 9, 9, 7, 2, 1, 2, 1, 2, 3, 4, 5, 6, 8, 9, 5, 7, 1, 2, 3, 5, 6, 7, 8, 9, 3, 5, 9, 1, 2, 3, 4, 5, 6, 7, 8, 9, 10, 1, 2, 3, 4, 5, 6, 8, 1, 2, 3, 4, 5, 7, 8, 10, 9, 3, 1, 1, 7, 9, 7, 1, 2, 3, 4, 5, 6, 7, 8, 9, 3, 1, 4, 5, 6, 7, 8, 6, 1, 1, 2, 4, 5, 6, 7, 5, 10, 1, 5, 6, 9, 1, 2, 7, 9, 1, 2, 4, 5, 6, 8, 10, 9, 1, 1, 5, 6, 5, 6, 9, 2, 6, 5, 8, 1, 2, 3, 5, 7, 10, 1, 2, 3, 5, 6, 7, 8, 10, 5, 2, 3, 4, 1, 2, 5, 8, 5, 10, 4, 1, 2, 9, 1, 3, 4, 5, 8, 1, 2, 3, 4, 5, 7, 8, 1, 2, 4, 1, 5, 5, 1, 4, 1, 1, 2, 7, 1, 1, 3, 6, 8, 1, 5, 9, 1, 2, 3, 4, 5, 6, 7, 8, 9, 1, 2, 3, 5, 6, 7, 8, 1, 2, 3, 5, 9, 1, 3, 5, 5, 10, 1, 3, 5, 8, 10, 7, 7, 3, 10, 1, 3, 6, 8, 5, 8, 8, 1, 2, 3, 4, 8, 8, 6, 1, 2, 3, 4, 5, 6, 7, 8, 9, 9, 4, 5, 9, 1, 2, 4, 5, 6, 7, 8, 3, 9, 1, 2, 3, 4, 5, 6, 7, 8, 9, 4, 1, 2, 3, 4, 5, 6, 7, 8, 9, 7, 8, 4, 1, 6, 7, 1, 1, 3, 5, 8, 1, 5, 8, 1, 5, 7, 1, 2, 3, 4, 5, 6, 7, 9, 3, 5, 9, 8, 5, 5, 5, 4, 3, 5, 8, 4, 7, 8, 1, 2, 3, 4, 5, 6, 7, 8, 10, 2, 1, 2, 3, 4, 5, 6, 7, 8, 10, 1, 2, 3, 4, 5, 7, 8, 10, 1, 2, 4, 10, 1, 9, 1, 2, 3, 4, 6, 7, 1, 2, 4, 4, 5, 8, 1, 1, 8, 7, 1, 2, 3, 4, 5, 6, 7, 8, 9, 1, 3, 5, 10, 1, 5, 7, 8, 10, 1, 2, 3, 5, 6, 7, 10, 1, 2, 3, 4, 5, 6, 7, 8, 9, 3, 5, 9, 7, 4, 1, 2, 3, 4, 5, 6, 1, 4, 5, 7, 2, 4, 6, 6, 2, 10, 2, 10, 1, 3, 5, 7, 8, 9, 1, 2, 3, 4, 5, 6, 9, 1, 2, 3, 4, 5, 7, 8, 9, 1, 2, 3, 4, 5, 6, 7, 8, 9, 10, 3, 9, 1, 2, 3, 4, 5, 6, 7, 8, 9, 10, 4, 4, 4, 4, 4, 1, 2, 3, 5, 6, 7, 8, 9, 8], \"Freq\": [0.9917037216823746, 0.05955405447032552, 0.05955405447032552, 0.8734594655647743, 0.9299187065276565, 0.9829198783615615, 0.017244208392308096, 0.9896445571820667, 0.3176029031786946, 0.5293381719644911, 0.14899889284926415, 0.0039210234960332675, 0.12218945302193866, 0.033941514728316295, 0.7399250210772952, 0.10861284713061214, 0.21116244955017935, 0.20725203381776863, 0.03519374159169656, 0.46533947215687677, 0.0273729101268751, 0.04301457305651802, 0.011731247197232187, 1.0008264311276571, 0.9823820671918427, 0.9957817868883435, 1.0018181903445382, 1.0044527606699052, 0.9581355798153125, 0.9963307460875345, 0.9960172993344775, 0.9910709388064395, 0.007853700168297038, 0.09424440201956445, 0.8874681190175653, 1.0068936014777268, 0.952142144831501, 0.9183839208522819, 0.054828890797151156, 0.027414445398575578, 0.11115390632738507, 0.17467042422874798, 0.7145608263903326, 0.16735228019158951, 0.049585860797508007, 0.1921452105903435, 0.23553283878816303, 0.32230809518380205, 0.024792930398754003, 0.9971030735282974, 0.9778463195787915, 0.9928614493393016, 0.01328625861754809, 0.05314503447019236, 0.8768930687581739, 0.02657251723509618, 0.02657251723509618, 0.9582613329545523, 0.041406353893097936, 0.9910081977040445, 0.9964026102120049, 0.9970032677113265, 0.9873360191823045, 0.968408281537178, 0.9842165198565047, 0.30293217665182415, 0.10500039589126972, 0.18224206643197388, 0.04284498912804684, 0.04224153857694759, 0.07603476943850566, 0.13698327509953004, 0.08750032990939144, 0.0042241538576947586, 0.01991386818627529, 0.9545892549442708, 0.05024153973390899, 0.9694189657526004, 0.981206611831935, 1.0049247938385037, 0.9938855219041824, 1.0001464467577554, 0.025130963443827793, 0.18219948496775148, 0.23874415271636404, 0.5089020097375128, 0.050261926887655586, 0.15725868790358352, 0.12866619919384106, 0.7148122177435614, 1.0066769989819517, 1.0059308920465981, 0.21355402806251952, 0.24406174635716518, 0.011093715743507508, 0.518631211008976, 0.00832028680763063, 0.005546857871753754, 0.9763348017820165, 0.9868997535862583, 0.994311232890642, 0.5391457983426127, 0.09210407388352967, 0.013478644958565319, 0.09435051470995723, 0.09435051470995723, 0.12580068627994298, 0.024710849090703084, 0.015725085784992873, 0.04045955528140736, 0.950799549113073, 1.0036197878161102, 0.9964186101232547, 0.988690105801059, 0.017655180460733198, 1.001488302563522, 0.9903421071502906, 0.963631072688857, 0.1718485823245398, 0.036391464492255485, 0.5600242035752651, 0.01617398421878022, 0.030326220410212906, 0.0020217480273475273, 0.04852195265634065, 0.13343536980493678, 0.09986935153331293, 0.8988241637998164, 0.05083233012090623, 0.025416165060453116, 0.9149819421763122, 0.3416794087461021, 0.06833588174922042, 0.06833588174922042, 0.02277862724974014, 0.40147330527666997, 0.09396183740517808, 0.9973503114706274, 0.9938937128235488, 0.9869445122025895, 0.1523737894449667, 0.7984386566916256, 0.04875961262238935, 0.4121207096040819, 0.07334351611598068, 0.10128390320778284, 0.09080625804835703, 0.0942988064348323, 0.010477645159425812, 0.21653799996146678, 0.9753531246616898, 0.3322772627528348, 0.40084241220976896, 0.005274242265918013, 0.1318560566479503, 0.026371211329590062, 0.10548484531836025, 0.9808569759703761, 0.9946936664918559, 0.9859817135170886, 0.9933180048027704, 0.9336540468529232, 0.12242259550295277, 0.8722609929585384, 0.9988898945130349, 0.22080698046197117, 0.4513554453560881, 0.012988645909527717, 0.3149746633060471, 0.9802626561591052, 0.991685805203751, 0.9562319190213854, 1.003153124583624, 0.2875156804330373, 0.1471010458029493, 0.2072787463587013, 0.040118467037167996, 0.060177700555751994, 0.10698257876578132, 0.1471010458029493, 0.3905806157991365, 0.1616195651582634, 0.0774427083050012, 0.11953113673163229, 0.12121467386869754, 0.030303668467174385, 0.025253057055978655, 0.020202445644782924, 0.053873188386087796, 0.0016835371370652436, 0.981455538253897, 0.9877779530510883, 0.9992173156149391, 0.9303341558574441, 0.06086298215889821, 0.008694711736985458, 0.419552218072637, 0.1038067343684875, 0.32439604490152346, 0.04541544628621328, 0.015138482095404427, 0.004325280598686979, 0.0021626402993434896, 0.06704184927964818, 0.008650561197373959, 0.006487920898030469, 0.9951017530266171, 0.22155600570805445, 0.061543334918904014, 0.32412823057289447, 0.061543334918904014, 0.024617333967561605, 0.008205777989187202, 0.27489356263777126, 0.020514444972968005, 0.8923906773931978, 0.05301330756791274, 0.00883555126131879, 0.04417775630659395, 0.9933059638283853, 0.9319948666428668, 1.0068150002589618, 0.5636468177564976, 0.06893522231554287, 0.004055013077384875, 0.03649511769646387, 0.1459804707858555, 0.0486601569286185, 0.02433007846430925, 0.028385091541694125, 0.07299023539292775, 0.008792929238714496, 0.14508333243878918, 0.25939141254207765, 0.36051009878729434, 0.14508333243878918, 0.07913636314843046, 0.04881635516966646, 0.9275107482236628, 0.9979074914464499, 0.008197402877024123, 0.9918857481199189, 0.21478188611638263, 0.009989855168203844, 0.7742137755357978, 0.3005787435079688, 0.7057066151926225, 0.15471216899070783, 0.007735608449535391, 0.8431813209993577, 0.02706131917857197, 0.9742074904285909, 0.9878107824520515, 0.12170715400096181, 0.054964521161724685, 0.6085357700048091, 0.09422489342009946, 0.03140829780669982, 0.09029885619426199, 0.8976694149637583, 0.008311753842257021, 0.05818227689579915, 0.016623507684514042, 0.016623507684514042, 0.9994841428148168, 0.9952610468500374, 0.09062226673477844, 0.08414924768229426, 0.032365095262420866, 0.6473019052484174, 0.148879438207136, 0.9961472895569369, 0.9949965085253383, 0.021650150954440454, 0.21217147935351646, 0.15588108687197127, 0.5455838040518994, 0.06495045286332136, 0.07702630180339914, 0.3029701204267033, 0.6213455012140864, 0.9971638835316711, 0.9466173484722382, 0.9809594806883, 0.057521460038103676, 0.9203433606096588, 0.019173820012701227, 0.9841389104442044, 0.3302747169403456, 0.43189770676814426, 0.018146962469249756, 0.13065812977859825, 0.010888177481549854, 0.023591051210024687, 0.05444088740774927, 0.9770699349526568, 0.9724918762031108, 0.014961413480047859, 0.014961413480047859, 0.9549534260715928, 0.1810614763305475, 0.03394902681197766, 0.045265369082636876, 0.7129295630515308, 0.03394902681197766, 0.9932449883395934, 0.9932818536786316, 0.9197570326948546, 0.07827719427190252, 0.9774772109140744, 1.0012177940783842, 0.9788865083080346, 0.9806913044799884, 0.9852616381960269, 0.3219433505855908, 0.3487719631343901, 0.008942870849599745, 0.15202880444319566, 0.16991454614239515, 0.8593585879643069, 0.10019427482991919, 0.03853625954996892, 0.10334349565426645, 0.3465046618995993, 0.48024330333453236, 0.024316116624533285, 0.04255320409293325, 0.9736013007340768, 1.001177934764505, 0.9699065721769803, 0.9095440012908622, 0.08731622412392277, 0.029516552088859217, 0.9051742640583493, 0.05903310417771843, 0.98806715702161, 0.1195364373938438, 0.8666391711053676, 0.9163315104366605, 0.015400529587170765, 0.06160211834868306, 0.17952854925963596, 0.18865711956097336, 0.13084284098583637, 0.11867141391738648, 0.06389999210936195, 0.11258570038316153, 0.006085713534224948, 0.13388569775294884, 0.06389999210936195, 0.003042856767112474, 0.40594661028069345, 0.006582918004551786, 0.06582918004551785, 0.01097153000758631, 0.0987437700682768, 0.05924626204096607, 0.05924626204096607, 0.15140711410469107, 0.14262989009862204, 0.054956556516166294, 0.20150737389260975, 0.21982622606466518, 0.5312467129896075, 0.27753065079912703, 0.7215796920777302, 0.02888714880678764, 0.8666144642036293, 0.10110502082375675, 0.9774944402350169, 0.9718352329829584, 0.012787305697144188, 1.0058455248205027, 0.053597548512392464, 0.9647558732230643, 1.0025198837165334, 0.990654119100071, 0.006077632632515773, 0.025110764112999538, 0.2008861129039963, 0.18205303981924664, 0.031388455141249424, 0.13810920262149745, 0.4017722258079926, 0.012555382056499769, 0.974324529720488, 0.9955148569621017, 0.027268215306661455, 0.9634769408353715, 0.9940747057866773, 1.0099812445347267, 0.012317945381903485, 0.9731176851703752, 0.9328691242888216, 0.0647825780756126, 0.11689789317576181, 0.1695019451048546, 0.7130771483721471, 0.241580117064167, 0.263685487253045, 0.0505265604317212, 0.12157953603882914, 0.022105370188878027, 0.028421190242843175, 0.20842206178084996, 0.06157924552616022, 0.0015789550134912875, 0.14100336551585768, 0.005875140229827404, 0.03525084137896442, 0.01762542068948221, 0.5992643034423951, 0.13512822528603027, 0.01762542068948221, 0.04700112183861923, 0.040128875598623506, 0.05350516746483134, 0.9095878469021328, 0.06061823313401149, 0.9395826135771781, 0.03036115879803443, 0.07590289699508608, 0.07590289699508608, 0.015180579399017215, 0.8045707081479124, 0.9994358808596335, 0.1779788418116187, 0.821129656539968, 0.9891750388588695, 0.025008382133916866, 0.7127388908166307, 0.021435756114785886, 0.019649443105220394, 0.21971650017655533, 0.6879504664381069, 0.07384779018262164, 0.0038867257990853497, 0.23320354794512096, 0.7457198630890085, 0.2533999534768476, 0.9822408767671196, 0.9868529850652052, 0.944248462713917, 0.9875001614919009, 0.8258850468494083, 0.027301985019815154, 0.14333542135402955, 0.2011686984677631, 0.012573043654235195, 0.07543826192541117, 0.6663713136744653, 0.037719130962705585, 1.0056634222149134, 0.1298661077896398, 0.24920253116390342, 0.5650930636251895, 0.049138527271755605, 0.0035098948051254003, 0.9924698225898552, 0.9979945041768259, 0.969209842388755, 0.017621997134340997, 0.17014813041129362, 0.8280542346682956, 0.02170090458344656, 0.9259052622270533, 0.04340180916689312, 0.007233634861148854, 0.9966608107019562, 0.9849145243176397, 0.989129722989864, 0.04644419324003069, 0.9521059614206292, 0.8594942680838994, 0.017540699348651007, 0.11693799565767339, 0.011693799565767339, 0.2203046740623728, 0.053176990290917575, 0.5279715464598245, 0.16712768377145523, 0.007596712898702511, 0.022790138696107534, 0.04907671306907246, 0.9815342613814492, 0.08647232945536068, 0.08647232945536068, 0.6506013359022375, 0.07823686950723109, 0.09059005942942548, 0.004117729974064795, 0.9911538467962028, 0.24570981622507004, 0.02664323308464615, 0.5358250209245503, 0.1065729323385846, 0.008881077694882049, 0.02664323308464615, 0.05032610693766495, 0.35119822645472576, 0.008361862534636328, 0.6438634151669973, 0.9685363487896957, 0.14357166425938273, 0.009571444283958848, 0.8040013198525432, 0.03828577713583539, 0.34401360025179667, 0.6467455684733777, 1.0011770057201932, 0.9933231967669104, 0.032628367348836576, 0.9666153827092836, 0.45722980945479025, 0.10573439343642024, 0.1543150606909917, 0.14288431545462196, 0.054296039872756344, 0.004286529463638659, 0.004286529463638659, 0.03429223570910927, 0.041436451481840365, 0.0014288431545462195, 0.027177030785676046, 0.1766507001068943, 0.10870812314270419, 0.04076554617851407, 0.06794257696419012, 0.584306161892035, 1.0006531082706382, 0.9923023198404394, 1.001880456203542, 0.9936543967052865, 0.9927202942242571, 0.02761224086683097, 0.02761224086683097, 0.09204080288943657, 0.6626937808039434, 0.18408160577887314, 0.09205732380270992, 0.9205732380270992, 0.1431203148318983, 0.8511892408423425, 0.9880830028081704, 0.19384141903017518, 0.06121307969373953, 0.10202179948956588, 0.07141525964269611, 0.5713220771415689, 0.057189626874513885, 0.9436288434294792, 0.9899035810040792, 0.05790417271014182, 0.011135417828873426, 0.9309209304938184, 0.35883618924303295, 0.046804720336047774, 0.5772582174779226, 0.07890544495248927, 0.02630181498416309, 0.3156217798099571, 0.578639929651588, 0.9629649331611955, 0.10659642716478038, 0.874090702751199, 0.9891635381401153, 0.08794071657894466, 0.8969953091052356, 0.8702832517586891, 0.13295994124091084, 0.9916171201549585, 0.9686395351012503, 0.016441280074331457, 0.9864768044598875, 1.005858517459741, 1.0049672987953742, 0.9951697826716523, 0.12070993439889602, 0.22011811566857512, 0.6603543470057253, 0.20407135811505894, 0.7952304510674123, 0.40438407751549527, 0.14587370832750743, 0.16710848865366357, 0.00923251318528528, 0.000923251318528528, 0.12740868195693686, 0.10525065031225218, 0.012002267140870864, 0.02677428823732731, 0.9919771575344523, 0.06720662536293068, 0.1717502648163784, 0.39328321508677955, 0.35843533526896365, 0.0074674028181034085, 0.007820801110604549, 0.2268032322075319, 0.7586177077286412, 0.9942391230802259, 0.9919434600658175, 0.9931397489798913, 0.4583583246197304, 0.07307161696836283, 0.04650011988895816, 0.4251439532704746, 0.9639826667392427, 0.9957679876403615, 0.002553251250359901, 0.9931407013378291, 0.985888102466389, 0.9821966213852428, 1.0008967833275915, 0.05445326625400363, 0.9438566150693962, 0.019079508780690646, 0.973054947815223, 0.07616346347767214, 0.2454156045391658, 0.05923824937152278, 0.09308867758382151, 0.533144244343705, 0.9885064402119664, 0.39541483601059696, 0.2006006972931809, 0.0173596757272945, 0.2816125173538886, 0.06558099719200144, 0.007715411434353112, 0.030861645737412447, 0.9971043538984431, 0.9477335500711808, 0.043565867153336185, 0.043565867153336185, 0.8931002766433918, 0.5508494131082168, 0.2077765330145028, 0.07006417973744862, 0.09180823551803612, 0.05073613015470417, 0.02899207437411667, 1.0002259977219699, 0.9997132103833801, 0.9899764539893525, 0.041713500901456244, 0.9594105207334936, 1.003315865703432, 0.05971522460940788, 0.9355385188807235, 0.3143656511336336, 0.6985903358525191, 0.9840999260250093, 0.17005074295676564, 0.3338033102484659, 0.018894526995196184, 0.4597668235497738, 0.018894526995196184, 0.06436115167436395, 0.6980709527757936, 0.1336731611698328, 0.04455772038994427, 0.04455772038994427, 0.009901715642209838, 0.9959627001668769, 0.9813990607363695, 1.0021078004629544, 0.9797119667476716, 0.14102875037228305, 0.008547196992259578, 0.8461725022336982, 0.07120008997836606, 0.9256011697187589, 0.26344824673369777, 0.1923590372976206, 0.0961795186488103, 0.32826487886659167, 0.05436233662758843, 0.02509030921273312, 0.010454295505305466, 0.018817731909549842, 0.00627257730318328, 0.0020908591010610936, 0.9755224233266733, 0.1655375929930024, 0.2627909288763913, 0.06621503719720097, 0.4303977417818063, 0.022761419036537833, 0.0020692199124125303, 0.0020692199124125303, 0.04966127789790073, 0.9933163014800191, 0.9770065365736275, 1.0001358230142692, 0.15221847723834622, 0.20885791062935877, 0.5805541922578786, 0.014159858347753136, 0.010619893760814852, 0.031859681282444555, 0.9972836809166821, 0.9502190396042476, 0.04376008735019561, 0.9944454091432298, 1.0006007424285437, 0.7278283137754284, 0.27293561766578567, 0.9166722359932569, 0.07494804445227886, 0.0057652341886368355, 0.25504067744468106, 0.12752033872234053, 0.045776531849045315, 0.003269752274931808, 0.20926414559563572, 0.12425058644740872, 0.0392370272991817, 0.1961851364959085, 0.9884278361017422, 0.9951673539474514, 0.9921929978710817, 0.12231936301595026, 0.0489277452063801, 0.8317716685084617, 0.97744155644079, 0.008011816036399918, 0.016023632072799835, 0.995492747873826, 0.07059097797226277, 0.917682713639416, 0.025174592275362367, 0.411185007164252, 0.44894689557729556, 0.020978826896135307, 0.041957653792270615, 0.050349184550724735, 0.9771127565383796, 0.39675894878588214, 0.1553447735987052, 0.16094278345811797, 0.06927537201023339, 0.0776723867993526, 0.025191044367357595, 0.030089302994343797, 0.030789054226770397, 0.05388084489684819, 0.9974326417853431, 0.7304906238552421, 0.264220012883811, 0.9311146191169068, 0.1553429750213855, 0.010356198334759033, 0.8077834701112045, 0.0310685950042771, 0.337339506950536, 0.6072111125109648, 0.028914814881474512, 0.019276543254316342, 0.7322058698799064, 0.0904973547042581, 0.06992977408965399, 0.020567580614604113, 0.024681096737524937, 0.020567580614604113, 0.004113516122920823, 0.03702164510628741, 0.9813190886819049, 0.9948842773847925, 0.0023165466588048493, 0.06254675978773093, 0.8941870102986718, 0.013899279952829094, 0.011582733294024245, 0.013899279952829094, 0.9855282774138194, 0.023342705544280005, 0.9726127310116668, 0.022144618023694784, 0.9743631930425705, 1.0088269767146316, 0.34257406084968683, 0.06045424603229768, 0.09672679365167629, 0.27002896561092965, 0.06851481216993736, 0.08866622751403659, 0.044333113757018296, 0.032242264550558765, 1.0074329429085003, 0.9845676452530612, 0.9025791058332124, 0.06489130826251854, 0.0294960492102357, 0.9762794215961894, 0.9812624878744625, 0.031653628641111695, 0.2802469615618213, 0.39675412535718513, 0.09761411020692651, 0.0031488422647395647, 0.2235678007965091, 0.5948690327897395, 0.05513420303904902, 0.1857152102367967, 0.034821601919399384, 0.05513420303904902, 0.06383960351889886, 0.005803600319899897, 0.9726165868460092, 0.62038736386258, 0.08734695736693365, 0.09630561966097813, 0.09630561966097813, 0.02687598688213343, 0.008958662294044477, 0.011198327867555596, 0.05151230819075574, 0.48866020796499104, 0.10280556287788062, 0.03604870386626983, 0.13885426674415047, 0.038718978226734264, 0.03604870386626983, 0.13217858084298936, 0.001335137180232216, 0.026702743604644318, 0.001335137180232216, 0.04670312196672523, 0.9496301466567463, 0.6300220117599389, 0.06434267354144058, 0.058980784079653854, 0.03217133677072029, 0.002680944730893357, 0.11796156815930771, 0.04557606042518707, 0.029490392039826927, 0.016085668385360144, 0.9665822846461737, 0.023013863920146992, 0.2706879151359955, 0.16702020295625253, 0.028796586716595265, 0.017277952029957157, 0.12670498155301918, 0.3916335793456956, 0.7573016438146186, 0.13604221146370393, 0.031743182674864256, 0.07255584611397543, 0.9770434379407079, 0.9988845265921114, 0.8164334856595636, 0.182556555799654, 0.21261427059178659, 0.34361902317864496, 0.02147618894866531, 0.37798092549650947, 0.012885713369199187, 0.025771426738398374, 0.002147618894866531, 0.0064428566845995934, 0.45090051798863356, 0.09985871778283197, 0.2734592579283706, 0.01843545559067667, 0.03610276719840848, 0.06221966261853376, 0.014594735675952365, 0.013058447710062641, 0.030725759317794452, 0.0007681439829448612, 0.2665982985916931, 0.24609073716156285, 0.020507561430130238, 0.020507561430130238, 0.430658790032735, 0.21257131175936247, 0.20319316565233178, 0.15005033771249116, 0.025008389618748527, 0.04689073053515349, 0.003126048702343566, 0.23757970137811102, 0.12191589939139907, 0.11637425162574815, 0.016624893089392592, 0.7647450821120593, 0.09974935853635555, 0.008312446544696296, 0.9793726862789116, 1.003533594702065, 0.9836109621497483, 0.08017513661200924, 0.1282802185792148, 0.7857163387976905, 0.9965440835018025, 0.28436896849736487, 0.11291120807983604, 0.48510000508374, 0.0020909482977747415, 0.03554612106217061, 0.018818534679972673, 0.006272844893324225, 0.008363793191098966, 0.04600086255104431, 0.0020909482977747415, 0.9941894330870924, 0.1420563082222997, 0.023676051370383283, 0.011838025685191642, 0.8286617979634149, 0.9889350367900153, 0.9942293257748818, 0.9593794800089578, 0.9792786807714056, 0.9961774090460885, 0.9989602246480991, 0.09117492470386637, 0.8205743223347973, 0.09117492470386637, 0.22855887484530307, 0.08570957806698866, 0.666630051632134, 0.019046572903775257, 0.9859579278398692, 0.9945386652880798, 0.07920477043462992, 0.9187753370417071, 0.030832720758969763, 0.7954841955814199, 0.02466617660717581, 0.1541636037948488, 0.9971078362425811, 0.08635846722478482, 0.949943139472633, 0.9734912028874209, 0.004345942870033129, 0.017383771480132516, 0.05185077186718596, 0.9462765865761438, 0.9856848645967994, 0.9942002564396734, 0.991624471192985, 0.009721808541107697, 0.9953429844898811, 1.0034847268754457, 0.9883006953890778, 1.0017419240737313, 0.9973812745873625, 1.0018305217935453, 1.0015980826404092, 0.9839147364320614, 0.9935875360224081, 1.0097339078121945, 0.31092198027132434, 0.05143070350352733, 0.032728629502244665, 0.25715351751763665, 0.10052364775689433, 0.119225721758177, 0.014026555500962, 0.004675518500320667, 0.112212444007696, 1.0004264152546989, 0.9294716901256589, 0.07618620410866056, 0.04668181739005042, 0.9569772564960336, 0.9965497334663065, 0.5306409035172667, 0.2636013127623571, 0.05272026255247142, 0.09741787645565371, 0.024067945947867386, 0.0068765559851049676, 0.022921853283683225, 0.0034382779925524838, 0.9900097059112976, 0.9970090242111354, 0.05985276579973734, 0.05985276579973734, 0.8678651040961914, 0.3028285215785069, 0.06002006733988426, 0.24008026935953705, 0.0736609917353125, 0.06002006733988426, 0.0845737312516551, 0.12276831955885417, 0.054563697581712964, 0.0027281848790856483, 0.3879647718947127, 0.2079148225071112, 0.03429522845478123, 0.0632318274635029, 0.05465802034980759, 0.07394908635562203, 0.12967883259464152, 0.009645533002907223, 0.023577969562662098, 0.016075888338178704, 0.0344458346257061, 0.9300375348940647, 1.0007557702968728, 1.0049807908598942, 0.10114750298602032, 0.8976840890009303, 0.9842437851801631, 0.958509493083785, 0.04792547465418925, 0.10795045629680147, 0.8905912644486121, 0.9996128257384127, 0.034908703141285226, 0.9774436879559864, 0.955197554125438, 0.9973806230880021, 0.9843434811547531, 1.004769056174277, 0.06340951906548897, 0.9511427859823347, 0.254260870184495, 0.1197959869138486, 0.4474013388823325, 0.01222408029733149, 0.04645150512985966, 0.03422742483252817, 0.04889632118932596, 0.007334448178398894, 0.031782608773061875, 0.021154580886779475, 0.10577290443389738, 0.8673378163579585, 0.34355083103095346, 0.6543825352970543, 0.9778249586856378, 0.9930748671258388, 0.11059711484807765, 0.16589567227211646, 0.7188812465125047, 0.997873332918248, 0.015910210425980148, 0.9864330464107692, 0.124418314322205, 0.05893499099472868, 0.09822498499121447, 0.06548332332747632, 0.006548332332747631, 0.06548332332747632, 0.026193329330990524, 0.1440633113204479, 0.40599660463035314, 0.7922225529568576, 0.20606945019109013, 0.26872776849658936, 0.022130522111483832, 0.4742254738175107, 0.19127094110639598, 0.0023711273690875533, 0.027663152639354788, 0.012646012635133617, 0.0015807515793917022, 0.2395177275636199, 0.1676624092945339, 0.07185531826908596, 0.5189550763878431, 0.2723791392222581, 0.004005575576797913, 0.6088474876732828, 0.07210036038236244, 0.04406133134477705, 0.9973582940150677, 0.9696680864753814, 0.025517581223036354, 0.16880565210860835, 0.6551266974691229, 0.01205754657918631, 0.16478646991554624, 0.9917014404700706, 0.34138660197360227, 0.0396961165085584, 0.547806407818106, 0.06351378641369344, 0.00793922330171168, 0.04760773775278176, 0.08161326471905445, 0.05780939584266356, 0.03400552696627269, 0.7787265675276445, 0.9977762553495195, 1.0012093277848662, 0.36681465215857084, 0.037760331839852876, 0.3794014294385218, 0.019779221439922938, 0.02157733247991593, 0.1240696617595166, 0.01798111039992994, 0.01618299935993695, 0.014384888319943953, 0.0017981110399929942, 0.0522720681146949, 0.26136034057347446, 0.11325614758183894, 0.5575687265567456, 0.00871201135244915, 0.00871201135244915, 1.003692808582152, 1.00008367318819, 0.4326136232479876, 0.09226356893914427, 0.23783497770979412, 0.129168996514802, 0.016402412255847872, 0.03690542757565771, 0.022553316851790822, 0.02665391991575279, 0.006150904595942952, 0.9660311167165397, 0.9700258917657633, 0.019479309574493057, 0.07142413510647455, 0.8830620340436853, 0.019479309574493057, 0.1811059210992824, 0.47264228189324914, 0.03975495829008638, 0.3047880135573289, 0.9965453087124301, 0.9913429960165492, 0.0077448671563792905, 0.47887350141122703, 0.23104678369975645, 0.10197036822503218, 0.1600547551886581, 0.0180706981664614, 0.0012907641547472428, 0.0090353490832307, 0.9945913368998188, 0.3316228984583453, 0.06561522589817527, 0.6011773399859843, 0.0017733844837344668, 0.9918783494675177, 0.8818650381194857, 0.04133742366185089, 0.06889570610308482, 0.006889570610308482, 0.9866275693501382, 0.9875613458716979, 0.9802681638551293, 0.9524774074908517, 0.9988842706460691, 0.9899823476007643, 0.44228819232876165, 0.1018217421188516, 0.34046645020991, 0.06682051826549636, 0.011136753044249393, 0.0015909647206070563, 0.011136753044249393, 0.006363858882428225, 0.01750061192667762, 1.0035320645101171, 0.9943399962281262, 0.9952724422859085, 0.7958264111338013, 0.20369366475448483, 0.4380117177695253, 0.10950292944238132, 0.21479420775236335, 0.11792623170717989, 0.01895243009579677, 0.004211651132399282, 0.010529127830998204, 0.08633884821418528, 0.033193378823755275, 0.962607985888903, 0.2600687001564273, 0.07528304478212369, 0.5851545753519614, 0.017109782905028112, 0.034219565810056224, 0.013687826324022488, 0.006843913162011244, 0.006843913162011244, 0.6480883747789902, 0.013362646902659592, 0.3407474960178196, 0.2439825677654624, 0.19207138313451297, 0.06575416719920263, 0.16957653646110152, 0.043259320525791206, 0.04498969334682285, 0.1003616236198356, 0.1003616236198356, 0.03806820206269626, 0.0017303728210316483, 0.41300585588158306, 0.07288338633204407, 0.009717784844272543, 0.019435569688545085, 0.1360489878198156, 0.05830670906563526, 0.28667465290604, 0.5659170864724407, 0.06247136668851618, 0.0477722215853359, 0.12861751965282742, 0.05512179413692604, 0.0073495725515901385, 0.0477722215853359, 0.08819487061908167, 0.9967454825988842, 0.9974085943172514, 0.9896092654885466, 0.02002884226027531, 0.9713988496233525, 0.010014421130137655, 0.9881134586155871, 0.1954692865239465, 0.07024677484454327, 0.4657666592953412, 0.004581311402904996, 0.13285803068424487, 0.051921529232923286, 0.061084152038733276, 0.013743934208714987, 0.003054207601936664, 0.9730690848360282, 0.008355890751342673, 0.04177945375671337, 0.24232083178893754, 0.03342356300537069, 0.6601153693560713, 0.016711781502685347, 1.0026256577530521, 0.9866525807530642, 0.22391973048172512, 0.2569001559015141, 0.32806844233369026, 0.020829742370393034, 0.13192170167915587, 0.03818786101238723, 0.942379618746703, 0.05235442326370572, 0.10879408393818282, 0.8548106595142936, 0.03108402398233795, 1.0054148649005792, 0.12369614139726955, 0.5185722850885531, 0.3568157924921237, 1.0014883925199156, 0.3204422215459357, 0.007815663940144773, 0.08597230334159252, 0.03907831970072387, 0.484571164288976, 0.03907831970072387, 0.03126265576057909, 0.9671259016592207, 0.9984188319464423, 0.8503767005435873, 0.09070684805798264, 0.05102260203261524, 0.010800978249473502, 0.9828890207020887, 0.9974032970225848, 0.999905242057938, 0.9951409610385801, 0.9909934486712032, 1.0062844197643066, 0.04251673152315157, 0.05102007782778189, 0.7653011674167284, 0.025510038913890944, 0.09353680935093346, 0.017006692609260632, 0.2739289493653087, 0.42002438902680667, 0.013696447468265436, 0.02739289493653087, 0.01826192995768725, 0.24653605442877782, 0.10321138065286208, 0.8772967355493276, 0.9981785999095, 0.9953506181344374, 0.01026134657870554, 0.9967635060038396, 0.811790842681749, 0.11661083928025123, 0.053820387360115955, 0.01794012912003865, 0.22648900914200892, 0.7644004058542802, 0.9868344476878238, 1.0019685351427583, 1.0031907753989593, 0.9975035224505386, 0.2759926504223614, 0.006272560236871849, 0.6899816260559034, 0.025090240947487397, 1.0124462558160472, 0.7331210339153003, 0.05883070025246237, 0.031678069366710505, 0.03620350784766915, 0.06788157721437965, 0.0724070156953383, 0.004525438480958644, 0.29986005129412285, 0.34269720147899757, 0.3560838109117709, 0.9792102622360614, 1.0045079807491653, 1.003504229466437, 0.9931880559505805, 0.007543200424941118, 0.9820264109991661, 0.12104073695548566, 0.5799868645783688, 0.29755847834890226, 0.9898932383652105, 0.845392579910448, 0.0968678997814055, 0.0088061727074005, 0.0440308635370025, 0.06452306790076522, 0.02150768930025507, 0.903322950610713, 0.4346840111484604, 0.024774736386699813, 0.06981971163524493, 0.096846696784372, 0.1531529158450534, 0.10360344307165377, 0.018017990099418048, 0.096846696784372, 0.002252248762427256, 0.20713575192675135, 0.13198030211262032, 0.3666119503128342, 0.1539770191313904, 0.010998358509385027, 0.10631746559072193, 0.023829776770334227, 0.07781315374985162, 0.03112526149994065, 0.7703502221235311, 0.09337578449982195, 0.023343946124955488, 0.03888920671172016, 0.2074091024625075, 0.7518579964265897, 0.9999812359197018, 0.9823949601157829, 0.24901533398497747, 0.352265594417773, 0.006073544731340913, 0.2976036918357048, 0.09717671570145461, 0.9696513046327125, 0.9944964477442694, 0.07917465624213167, 0.8709212186634484, 0.10709497088977737, 0.05354748544488869, 0.8165991530345524, 0.013386871361222172, 0.03865632785341891, 0.9277518684820538, 0.9680460643507212, 0.22385824553370232, 0.4761840136208234, 0.16562922212898207, 0.12939782978826722, 0.0038819348936480168, 0.9961031415694012, 1.0002759100452625, 0.3646295593020449, 0.12682767280071128, 0.19420487397608913, 0.019816823875111137, 0.14862617906333353, 0.01783514148760002, 0.019816823875111137, 0.037651965362711155, 0.07134056595040009, 0.9756083226010264, 0.9811279143098993, 1.0079214084934387, 1.0052731545860043, 0.27593984282275336, 0.29217159828291533, 0.3043454148780368, 0.00405793886504049, 0.020289694325202452, 0.09333259389593128, 0.010144847162601226, 0.9977736616367865, 0.9953062969711999, 0.522381094599345, 0.08291763406338809, 0.3040313248990897, 0.00276392113544627, 0.01934744794812389, 0.00552784227089254, 0.023493329651293294, 0.004145881703169405, 0.034549014193078376, 0.9936668358820394, 0.5415255720911273, 0.09615026908150669, 0.12336260938759348, 0.02176987224486944, 0.06168130469379674, 0.07710163086724593, 0.024491106275478118, 0.018141560204057865, 0.037190198418318623, 0.9995017931798663, 0.977291019940218, 0.9943408915198686, 0.364049673468866, 0.629707543297498, 0.9924956202625208, 0.9904321499592701, 0.07654051118621041, 0.05740538338965781, 0.07654051118621041, 0.7845402396586567, 0.0654443069308105, 0.29449938118864727, 0.654443069308105, 0.028831680297613953, 0.08649504089284185, 0.8937820892260325, 0.1923904868383707, 0.09450760756972597, 0.48266385294538616, 0.030377445290269058, 0.013501086795675138, 0.023626901892431492, 0.016876358494593922, 0.14513668305350774, 0.8519095110294156, 0.014439144254735857, 0.13717187041999065, 0.9581998225984238, 1.0000020514214842, 1.0016859063401802, 0.9978530537766183, 1.0015841428919374, 0.09598869400960316, 0.7199152050720238, 0.17997880126800594, 0.17436885625132395, 0.3113729575916499, 0.5106516504503058, 0.3269519739104702, 0.18717398015022005, 0.084348789338082, 0.1237115576958536, 0.04177273376743108, 0.10041522540247856, 0.09318532917350011, 0.03293619393201297, 0.01044318344185777, 0.9915231428595653, 0.4169352844584712, 0.1916943836590672, 0.05750831509772016, 0.062300674689196846, 0.02875415754886008, 0.038338876731813444, 0.17492112508889884, 0.0239617979573834, 0.0047923595914766805, 0.25440114650662565, 0.3690538875821455, 0.14516119578231057, 0.19387630894315377, 0.002952431100657164, 0.006889005901533383, 0.022143233254928733, 0.005412790351204801, 0.1560555962451257, 0.21765648949978056, 0.6242223849805028, 1.0096264247017144, 1.004417193745912, 0.9851873264623927, 0.09980430561543618, 0.22062004399201682, 0.060407869188290324, 0.5751879718363295, 0.005252858190286115, 0.0367700073320028, 0.069296083334285, 0.8882497954667441, 0.03779786363688273, 0.9875936985215622, 1.00134464193946, 0.983069724458275, 0.9951176110392816, 1.005603058603513, 0.9883717968058424, 0.9913574175563455, 0.49173133137516056, 0.161105130572791, 0.12263226357033344, 0.06251840887899351, 0.0793502881925687, 0.019236433501228774, 0.03606831281480395, 0.01562960221974838, 0.013225048032094783, 0.025588920852362033, 0.09595845319635762, 0.8572288485541281, 0.012794460426181016, 0.10313850977548361, 0.09376228161407602, 0.29066307300363564, 0.41255403910193444, 0.09376228161407602, 0.024038016229123608, 0.2403801622912361, 0.048076032458247216, 0.09615206491649443, 0.024038016229123608, 0.16826611360386526, 0.3846082596659777, 0.44223624366942826, 0.08951609766118336, 0.24717131443759588, 0.03340152897805349, 0.07481942491083983, 0.036073651296297776, 0.03874577361454205, 0.0026721223182442798, 0.03473759013717564, 0.8672814376163059, 0.12975076625755758, 0.9846813290105388, 0.983665192185647, 0.9969687094878421, 0.07854200121848423, 0.01122028588835489, 0.02244057177670978, 0.1309033353641404, 0.014960381184473187, 0.7405388686314228, 0.015162975514481687, 0.9224143437976359, 0.017690138100228636, 0.04296176395769811, 0.1350008493328094, 0.8646482969172792, 0.9915474781253548, 0.9786108597368965, 0.28302230603288686, 0.7137084239090191, 0.987140268004067, 0.9877009475895266, 0.1003577987695632, 0.17921035494564858, 0.5376310648369458, 0.007168414197825944, 0.10752621296738915, 0.07168414197825944, 0.16238680015664628, 0.0670728087603539, 0.38125596558516955, 0.07766325224883083, 0.03177133046543079, 0.028241182635938486, 0.24711034806446175, 0.5562672886121118, 0.2550963121514129, 0.010113950702038396, 0.09889196241993098, 0.0584361596117774, 0.007866406101585418, 0.007866406101585418, 0.006742633801358931, 0.29300803910378054, 0.10402652275873867, 0.12829937806911101, 0.08495499358630323, 0.14737090724154644, 0.05027948600005702, 0.06935101517249244, 0.04334438448280777, 0.07455234131042937, 0.005201326137936933, 0.0750848419369587, 0.9260463838891573, 0.31248244033737876, 0.11546271989005784, 0.19335423727620796, 0.07193510723309159, 0.03802938790029683, 0.06277139930530923, 0.09117889388143456, 0.06460414089086569, 0.03940394408946418, 0.010080078720560605, 1.0044833362309822, 0.9705992231879217, 1.0000561178715743, 0.9963741931232526, 1.0013818229877909, 0.4535742143405545, 0.001047515506560172, 0.04923322880832809, 0.08484875603137394, 0.35091769469765766, 0.03142546519680516, 0.018855279118083098, 0.008380124052481376, 0.9922350929679655], \"Term\": [\"3d\", \"abolish\", \"abolish\", \"abolish\", \"abort\", \"absolute\", \"absolute\", \"acceleration\", \"access\", \"access\", \"access\", \"access\", \"act\", \"act\", \"act\", \"act\", \"address\", \"address\", \"address\", \"address\", \"address\", \"address\", \"address\", \"adl\", \"aids\", \"algorithm\", \"allan\", \"allocation\", \"aluminum\", \"amendment\", \"amp\", \"anonymity\", \"anonymous\", \"anonymous\", \"anonymous\", \"antenna\", \"apostle\", \"apple\", \"apple\", \"apple\", \"application\", \"application\", \"application\", \"april\", \"april\", \"april\", \"april\", \"april\", \"april\", \"arab\", \"arabs\", \"argic\", \"argue\", \"argue\", \"argue\", \"argue\", \"argue\", \"argument\", \"argument\", \"armenia\", \"armenian\", \"armenians\", \"army\", \"arrogance\", \"arrogant\", \"article\", \"article\", \"article\", \"article\", \"article\", \"article\", \"article\", \"article\", \"article\", \"article\", \"assault\", \"assault\", \"assert\", \"assertion\", \"atf\", \"atheism\", \"atheist\", \"attack\", \"attack\", \"attack\", \"attack\", \"attack\", \"auto\", \"auto\", \"auto\", \"automobile\", \"automotive\", \"available\", \"available\", \"available\", \"available\", \"available\", \"available\", \"axe\", \"azerbaijan\", \"b2\", \"back\", \"back\", \"back\", \"back\", \"back\", \"back\", \"back\", \"back\", \"ban\", \"ban\", \"banks\", \"baseball\", \"basically\", \"basically\", \"batf\", \"bd\", \"behanna\", \"believe\", \"believe\", \"believe\", \"believe\", \"believe\", \"believe\", \"believe\", \"believe\", \"bible\", \"bible\", \"biblical\", \"biblical\", \"biblical\", \"big\", \"big\", \"big\", \"big\", \"big\", \"big\", \"bike\", \"binary\", \"bmw\", \"board\", \"board\", \"board\", \"book\", \"book\", \"book\", \"book\", \"book\", \"book\", \"book\", \"bosnia\", \"box\", \"box\", \"box\", \"box\", \"box\", \"box\", \"brake\", \"braves\", \"breaker\", \"buchberger\", \"bulb\", \"bus\", \"bus\", \"bush\", \"buy\", \"buy\", \"buy\", \"buy\", \"c5s\", \"cache\", \"cage\", \"calgary\", \"california\", \"california\", \"california\", \"california\", \"california\", \"california\", \"california\", \"call\", \"call\", \"call\", \"call\", \"call\", \"call\", \"call\", \"call\", \"call\", \"call\", \"cancer\", \"candida\", \"car\", \"card\", \"card\", \"card\", \"case\", \"case\", \"case\", \"case\", \"case\", \"case\", \"case\", \"case\", \"case\", \"case\", \"catholic\", \"cause\", \"cause\", \"cause\", \"cause\", \"cause\", \"cause\", \"cause\", \"cause\", \"cd\", \"cd\", \"cd\", \"cd\", \"cdc\", \"cec\", \"centaur\", \"center\", \"center\", \"center\", \"center\", \"center\", \"center\", \"center\", \"center\", \"center\", \"child\", \"child\", \"child\", \"child\", \"child\", \"child\", \"chinese\", \"chinese\", \"chip\", \"christ\", \"christ\", \"christian\", \"christian\", \"christian\", \"christianity\", \"christianity\", \"christians\", \"christians\", \"christians\", \"church\", \"church\", \"civilian\", \"claim\", \"claim\", \"claim\", \"claim\", \"claim\", \"claim\", \"class\", \"class\", \"class\", \"class\", \"class\", \"clayton\", \"client\", \"clinton\", \"clinton\", \"clinton\", \"clinton\", \"clinton\", \"clipper\", \"coach\", \"code\", \"code\", \"code\", \"code\", \"code\", \"color\", \"color\", \"color\", \"colormap\", \"coming\", \"commandment\", \"compile\", \"compile\", \"compile\", \"compound\", \"computer\", \"computer\", \"computer\", \"computer\", \"computer\", \"computer\", \"computer\", \"conceal\", \"conclusion\", \"conclusion\", \"conclusion\", \"conductor\", \"congress\", \"congress\", \"congress\", \"congress\", \"congress\", \"connector\", \"consequence\", \"constitution\", \"constitution\", \"contrib\", \"controller\", \"convex\", \"conviction\", \"cool\", \"corporation\", \"corporation\", \"corporation\", \"corporation\", \"corporation\", \"cost\", \"cost\", \"cost\", \"country\", \"country\", \"country\", \"country\", \"country\", \"covington\", \"cpu\", \"cramer\", \"crime\", \"crime\", \"criminal\", \"criminal\", \"criminal\", \"crypto\", \"dare\", \"dare\", \"date\", \"date\", \"date\", \"david\", \"david\", \"david\", \"david\", \"david\", \"david\", \"david\", \"david\", \"david\", \"david\", \"day\", \"day\", \"day\", \"day\", \"day\", \"day\", \"day\", \"day\", \"day\", \"de\", \"de\", \"de\", \"de\", \"dealer\", \"dealer\", \"definition\", \"definition\", \"definition\", \"den\", \"des\", \"des\", \"det\", \"detector\", \"detector\", \"detroit\", \"device\", \"device\", \"die\", \"die\", \"die\", \"die\", \"die\", \"die\", \"die\", \"diet\", \"digital\", \"directory\", \"directory\", \"disappointment\", \"disciple\", \"disease\", \"disease\", \"disk\", \"disk\", \"display\", \"display\", \"display\", \"distribution\", \"distribution\", \"distribution\", \"distribution\", \"distribution\", \"distribution\", \"distribution\", \"distribution\", \"distribution\", \"division\", \"division\", \"division\", \"division\", \"division\", \"division\", \"division\", \"division\", \"doctor\", \"doctor\", \"doctor\", \"doctrine\", \"doctrine\", \"dog\", \"dog\", \"dog\", \"dog\", \"dog\", \"doom\", \"dos\", \"dos\", \"drain\", \"drive\", \"drive\", \"drive\", \"drive\", \"drive\", \"driver\", \"driver\", \"driver\", \"driver\", \"drug\", \"drug\", \"duke\", \"duo\", \"durham\", \"dyer\", \"earth\", \"earth\", \"earth\", \"eat\", \"eat\", \"eat\", \"eat\", \"eat\", \"edmonton\", \"email\", \"email\", \"email\", \"email\", \"email\", \"encrypt\", \"encryption\", \"energy\", \"energy\", \"engine\", \"engine\", \"entry\", \"entry\", \"entry\", \"entry\", \"escrow\", \"espn\", \"estimate\", \"eternal\", \"eternal\", \"evidence\", \"evidence\", \"evidence\", \"evidence\", \"example\", \"example\", \"example\", \"example\", \"example\", \"example\", \"exhaust\", \"exhaust\", \"exist\", \"exist\", \"exist\", \"exist\", \"exist\", \"exist\", \"existence\", \"fact\", \"fact\", \"fact\", \"fact\", \"fact\", \"fact\", \"fact\", \"faith\", \"faith\", \"faith\", \"fallacy\", \"fan\", \"fan\", \"fan\", \"fan\", \"father\", \"father\", \"fbi\", \"fee\", \"file\", \"file\", \"find\", \"find\", \"find\", \"find\", \"find\", \"find\", \"find\", \"find\", \"find\", \"find\", \"fire\", \"fire\", \"fire\", \"fire\", \"fire\", \"fire\", \"firearm\", \"flight\", \"floppy\", \"flyers\", \"font\", \"food\", \"food\", \"food\", \"food\", \"food\", \"ford\", \"ford\", \"format\", \"format\", \"fred\", \"front\", \"front\", \"front\", \"front\", \"front\", \"ftp\", \"ftp\", \"ga\", \"game\", \"game\", \"game\", \"gary\", \"gary\", \"gary\", \"gas\", \"gas\", \"gas\", \"gas\", \"gasket\", \"gay\", \"gay\", \"gaza\", \"genocide\", \"genocide\", \"georgia\", \"georgia\", \"gerald\", \"gfci\", \"gif\", \"gif\", \"gl\", \"glutamate\", \"gm\", \"goal\", \"goal\", \"goal\", \"god\", \"god\", \"good\", \"good\", \"good\", \"good\", \"good\", \"good\", \"good\", \"good\", \"good\", \"gordon\", \"government\", \"government\", \"government\", \"government\", \"government\", \"graphic\", \"graphic\", \"graphic\", \"greece\", \"greeks\", \"gregg\", \"ground\", \"ground\", \"ground\", \"ground\", \"gt\", \"gun\", \"gun\", \"handgun\", \"hang\", \"harvey\", \"hd\", \"health\", \"health\", \"heaven\", \"heaven\", \"hell\", \"hell\", \"hell\", \"hell\", \"hell\", \"helmet\", \"help\", \"help\", \"help\", \"help\", \"help\", \"help\", \"help\", \"henry\", \"heterosexual\", \"hewlett\", \"hewlett\", \"hewlett\", \"high\", \"high\", \"high\", \"high\", \"high\", \"high\", \"hiv\", \"hockey\", \"holocaust\", \"holy\", \"holy\", \"homicide\", \"homosexual\", \"homosexual\", \"homosexuality\", \"homosexuality\", \"honda\", \"house\", \"house\", \"house\", \"house\", \"house\", \"human\", \"human\", \"human\", \"human\", \"human\", \"human\", \"icon\", \"idacom\", \"ide\", \"illness\", \"image\", \"image\", \"image\", \"imply\", \"imply\", \"include\", \"include\", \"include\", \"include\", \"include\", \"include\", \"include\", \"include\", \"include\", \"include\", \"infection\", \"information\", \"information\", \"information\", \"information\", \"information\", \"information\", \"information\", \"information\", \"int\", \"intellect\", \"intent\", \"internet\", \"internet\", \"internet\", \"internet\", \"internet\", \"internet\", \"isa\", \"israel\", \"israel\", \"israeli\", \"jesus\", \"jews\", \"jews\", \"job\", \"job\", \"job\", \"john\", \"john\", \"john\", \"john\", \"john\", \"john\", \"john\", \"john\", \"josh\", \"jpeg\", \"judas\", \"kent\", \"kent\", \"kent\", \"key\", \"key\", \"key\", \"keyboard\", \"kg\", \"kg\", \"kill\", \"kill\", \"kill\", \"kill\", \"kill\", \"kill\", \"km\", \"know\", \"know\", \"know\", \"know\", \"know\", \"know\", \"know\", \"know\", \"know\", \"kon\", \"koresh\", \"koresh\", \"kt\", \"la\", \"la\", \"la\", \"la\", \"land\", \"land\", \"land\", \"land\", \"large\", \"large\", \"large\", \"large\", \"large\", \"large\", \"large\", \"large\", \"larson\", \"launch\", \"law\", \"law\", \"law\", \"law\", \"law\", \"law\", \"leafs\", \"league\", \"league\", \"leak\", \"leak\", \"leather\", \"leave\", \"leave\", \"leave\", \"leave\", \"leave\", \"leave\", \"leave\", \"leave\", \"lebanese\", \"lebanon\", \"level\", \"level\", \"level\", \"lib\", \"liberal\", \"liberal\", \"life\", \"life\", \"life\", \"life\", \"life\", \"little\", \"little\", \"little\", \"little\", \"little\", \"little\", \"little\", \"livesey\", \"long\", \"long\", \"long\", \"long\", \"long\", \"long\", \"long\", \"long\", \"look\", \"look\", \"look\", \"look\", \"look\", \"look\", \"look\", \"look\", \"look\", \"look\", \"lord\", \"lord\", \"lot\", \"lot\", \"lot\", \"lot\", \"lot\", \"lot\", \"lot\", \"lot\", \"lot\", \"louis\", \"louis\", \"love\", \"love\", \"love\", \"love\", \"love\", \"love\", \"low\", \"low\", \"low\", \"low\", \"luke\", \"lunar\", \"mac\", \"mac\", \"mail\", \"mail\", \"mail\", \"mail\", \"mail\", \"mail\", \"mail\", \"mail\", \"make\", \"make\", \"make\", \"make\", \"make\", \"make\", \"make\", \"make\", \"make\", \"make\", \"male\", \"male\", \"male\", \"male\", \"male\", \"man\", \"man\", \"man\", \"man\", \"man\", \"man\", \"man\", \"man\", \"manager\", \"manager\", \"manager\", \"manager\", \"manager\", \"manson\", \"mars\", \"massacre\", \"matthew\", \"matthew\", \"matthew\", \"mb\", \"mean\", \"mean\", \"mean\", \"mean\", \"mean\", \"mean\", \"mean\", \"mean\", \"mean\", \"mean\", \"mechanical\", \"medical\", \"medical\", \"medical\", \"medical\", \"meg\", \"mellanby\", \"meme\", \"messiah\", \"mg\", \"mhz\", \"mile\", \"mile\", \"mile\", \"military\", \"military\", \"military\", \"military\", \"militia\", \"mission\", \"mit\", \"mit\", \"mode\", \"mode\", \"mode\", \"mode\", \"modem\", \"molecular\", \"molecular\", \"money\", \"money\", \"money\", \"monitor\", \"monitor\", \"montreal\", \"moon\", \"moral\", \"moral\", \"morality\", \"mormon\", \"motherboard\", \"motif\", \"motorcycle\", \"mph\", \"msg\", \"mueller\", \"mvp\", \"myers\", \"name\", \"name\", \"name\", \"name\", \"name\", \"name\", \"name\", \"name\", \"name\", \"nasa\", \"navy\", \"navy\", \"nazi\", \"nazi\", \"nazis\", \"need\", \"need\", \"need\", \"need\", \"need\", \"need\", \"need\", \"need\", \"needle\", \"negotiation\", \"neutral\", \"neutral\", \"neutral\", \"never\", \"never\", \"never\", \"never\", \"never\", \"never\", \"never\", \"never\", \"never\", \"new\", \"new\", \"new\", \"new\", \"new\", \"new\", \"new\", \"new\", \"new\", \"new\", \"newsletter\", \"newsletter\", \"nhl\", \"nra\", \"objective\", \"objective\", \"obo\", \"ohio\", \"ohio\", \"oil\", \"oil\", \"oilers\", \"oname\", \"oname\", \"optilink\", \"orbit\", \"orthodox\", \"ottawa\", \"outlet\", \"outlet\", \"own\", \"own\", \"own\", \"own\", \"own\", \"own\", \"own\", \"own\", \"own\", \"packard\", \"packard\", \"packard\", \"pain\", \"pain\", \"palestinian\", \"parking\", \"partner\", \"partner\", \"partner\", \"pasadena\", \"patient\", \"patient\", \"paul\", \"paul\", \"paul\", \"paul\", \"paul\", \"paul\", \"paul\", \"paul\", \"paul\", \"pc\", \"pc\", \"people\", \"people\", \"people\", \"people\", \"people\", \"people\", \"people\", \"people\", \"period\", \"period\", \"period\", \"period\", \"person\", \"person\", \"person\", \"person\", \"person\", \"perspective\", \"philadelphia\", \"philadelphia\", \"phone\", \"phone\", \"phone\", \"phone\", \"physician\", \"pick\", \"pick\", \"pick\", \"pick\", \"pick\", \"play\", \"play\", \"play\", \"play\", \"play\", \"player\", \"playoff\", \"point\", \"point\", \"point\", \"point\", \"point\", \"point\", \"point\", \"point\", \"point\", \"point\", \"policy\", \"policy\", \"policy\", \"policy\", \"policy\", \"policy\", \"pope\", \"pork\", \"post\", \"post\", \"post\", \"post\", \"post\", \"post\", \"post\", \"post\", \"post\", \"prayer\", \"premise\", \"president\", \"president\", \"president\", \"president\", \"price\", \"price\", \"price\", \"price\", \"printer\", \"privacy\", \"privacy\", \"problem\", \"problem\", \"problem\", \"problem\", \"problem\", \"problem\", \"problem\", \"processor\", \"program\", \"program\", \"program\", \"program\", \"programs\", \"project\", \"project\", \"project\", \"project\", \"promiscuous\", \"prophecy\", \"prophet\", \"proton\", \"pub\", \"puck\", \"question\", \"question\", \"question\", \"question\", \"question\", \"question\", \"question\", \"question\", \"question\", \"ra\", \"radar\", \"ram\", \"rate\", \"rate\", \"read\", \"read\", \"read\", \"read\", \"read\", \"read\", \"read\", \"read\", \"rear\", \"rear\", \"reason\", \"reason\", \"reason\", \"reason\", \"reason\", \"reason\", \"reason\", \"reason\", \"religion\", \"religion\", \"religion\", \"reply\", \"reply\", \"reply\", \"reply\", \"reply\", \"reply\", \"reply\", \"reply\", \"reply\", \"reply\", \"report\", \"report\", \"report\", \"report\", \"report\", \"report\", \"report\", \"research\", \"research\", \"research\", \"research\", \"research\", \"research\", \"research\", \"research\", \"resurrection\", \"revolver\", \"rid\", \"ride\", \"ride\", \"ride\", \"rider\", \"right\", \"right\", \"right\", \"right\", \"right\", \"right\", \"right\", \"right\", \"right\", \"rkba\", \"road\", \"road\", \"road\", \"road\", \"road\", \"road\", \"roger\", \"roll\", \"run\", \"run\", \"run\", \"run\", \"run\", \"run\", \"russia\", \"russia\", \"russian\", \"russian\", \"russian\", \"sabbath\", \"sale\", \"sale\", \"sale\", \"salvation\", \"san\", \"san\", \"san\", \"san\", \"san\", \"san\", \"san\", \"sandvik\", \"satellite\", \"school\", \"school\", \"school\", \"score\", \"score\", \"scripture\", \"scsi\", \"season\", \"seawolf\", \"seizure\", \"self\", \"self\", \"self\", \"self\", \"self\", \"self\", \"sell\", \"sell\", \"sell\", \"sell\", \"sell\", \"sell\", \"sensitivity\", \"sensitivity\", \"serdar\", \"serial\", \"serial\", \"server\", \"service\", \"service\", \"service\", \"service\", \"sexual\", \"sexual\", \"shareware\", \"shuttle\", \"simm\", \"sin\", \"site\", \"site\", \"site\", \"site\", \"skepticism\", \"small\", \"small\", \"small\", \"small\", \"small\", \"small\", \"small\", \"software\", \"software\", \"software\", \"solar\", \"soldier\", \"soviet\", \"space\", \"space\", \"spacecraft\", \"speed\", \"speed\", \"speed\", \"spencer\", \"spend\", \"spend\", \"spend\", \"spend\", \"spirit\", \"spirit\", \"spirit\", \"start\", \"start\", \"start\", \"start\", \"start\", \"start\", \"start\", \"start\", \"start\", \"state\", \"state\", \"state\", \"state\", \"state\", \"state\", \"state\", \"statement\", \"statement\", \"statement\", \"statement\", \"statement\", \"states\", \"states\", \"states\", \"stephanopoulos\", \"stockholm\", \"study\", \"study\", \"study\", \"study\", \"study\", \"sunroof\", \"sunroofs\", \"superstition\", \"superstition\", \"surprise\", \"surprise\", \"surprise\", \"surprise\", \"surrender\", \"surrender\", \"syndrome\", \"system\", \"system\", \"system\", \"system\", \"system\", \"tank\", \"team\", \"tell\", \"tell\", \"tell\", \"tell\", \"tell\", \"tell\", \"tell\", \"tell\", \"tell\", \"temple\", \"tercel\", \"territory\", \"testament\", \"thank\", \"thank\", \"thank\", \"thank\", \"thank\", \"thank\", \"thank\", \"theist\", \"theology\", \"thing\", \"thing\", \"thing\", \"thing\", \"thing\", \"thing\", \"thing\", \"thing\", \"thing\", \"tiff\", \"time\", \"time\", \"time\", \"time\", \"time\", \"time\", \"time\", \"time\", \"time\", \"tire\", \"tobacco\", \"toolkit\", \"toronto\", \"toronto\", \"toyota\", \"transport\", \"treatment\", \"treatment\", \"treatment\", \"treatment\", \"trial\", \"trial\", \"trial\", \"truck\", \"truck\", \"truck\", \"true\", \"true\", \"true\", \"true\", \"true\", \"true\", \"true\", \"true\", \"truth\", \"truth\", \"truth\", \"tue\", \"turkey\", \"turkish\", \"turks\", \"tutorial\", \"united\", \"united\", \"united\", \"univ\", \"univ\", \"univ\", \"university\", \"university\", \"university\", \"university\", \"university\", \"university\", \"university\", \"university\", \"university\", \"upgrade\", \"usa\", \"usa\", \"usa\", \"usa\", \"usa\", \"usa\", \"usa\", \"usa\", \"usa\", \"use\", \"use\", \"use\", \"use\", \"use\", \"use\", \"use\", \"use\", \"user\", \"user\", \"user\", \"uv\", \"vax\", \"verse\", \"version\", \"version\", \"version\", \"version\", \"version\", \"version\", \"video\", \"video\", \"video\", \"viewer\", \"village\", \"vitamin\", \"vms\", \"vnews\", \"waco\", \"wagon\", \"want\", \"want\", \"want\", \"want\", \"want\", \"want\", \"want\", \"want\", \"want\", \"war\", \"war\", \"war\", \"war\", \"water\", \"water\", \"water\", \"water\", \"water\", \"wave\", \"wave\", \"wave\", \"wave\", \"wave\", \"wave\", \"wave\", \"way\", \"way\", \"way\", \"way\", \"way\", \"way\", \"way\", \"way\", \"way\", \"weapon\", \"weapon\", \"weiss\", \"wheel\", \"widget\", \"win\", \"win\", \"win\", \"win\", \"win\", \"win\", \"window\", \"window\", \"window\", \"window\", \"windows\", \"windows\", \"wings\", \"winnipeg\", \"wire\", \"wire\", \"wiretap\", \"wiring\", \"woman\", \"woman\", \"woman\", \"woman\", \"woman\", \"woman\", \"word\", \"word\", \"word\", \"word\", \"word\", \"word\", \"word\", \"work\", \"work\", \"work\", \"work\", \"work\", \"work\", \"work\", \"work\", \"world\", \"world\", \"world\", \"world\", \"world\", \"world\", \"world\", \"world\", \"world\", \"world\", \"worship\", \"worship\", \"write\", \"write\", \"write\", \"write\", \"write\", \"write\", \"write\", \"write\", \"write\", \"write\", \"x11\", \"x11r4\", \"x11r5\", \"xlib\", \"xterm\", \"year\", \"year\", \"year\", \"year\", \"year\", \"year\", \"year\", \"year\", \"yeast\"]}, \"R\": 30, \"lambda.step\": 0.01, \"plot.opts\": {\"xlab\": \"PC1\", \"ylab\": \"PC2\"}, \"topic.order\": [8, 9, 1, 5, 6, 4, 7, 10, 3, 2]};\n",
       "\n",
       "function LDAvis_load_lib(url, callback){\n",
       "  var s = document.createElement('script');\n",
       "  s.src = url;\n",
       "  s.async = true;\n",
       "  s.onreadystatechange = s.onload = callback;\n",
       "  s.onerror = function(){console.warn(\"failed to load library \" + url);};\n",
       "  document.getElementsByTagName(\"head\")[0].appendChild(s);\n",
       "}\n",
       "\n",
       "if(typeof(LDAvis) !== \"undefined\"){\n",
       "   // already loaded: just create the visualization\n",
       "   !function(LDAvis){\n",
       "       new LDAvis(\"#\" + \"ldavis_el948015432955603924431456078\", ldavis_el948015432955603924431456078_data);\n",
       "   }(LDAvis);\n",
       "}else if(typeof define === \"function\" && define.amd){\n",
       "   // require.js is available: use it to load d3/LDAvis\n",
       "   require.config({paths: {d3: \"https://cdnjs.cloudflare.com/ajax/libs/d3/3.5.5/d3.min\"}});\n",
       "   require([\"d3\"], function(d3){\n",
       "      window.d3 = d3;\n",
       "      LDAvis_load_lib(\"https://cdn.rawgit.com/bmabey/pyLDAvis/files/ldavis.v1.0.0.js\", function(){\n",
       "        new LDAvis(\"#\" + \"ldavis_el948015432955603924431456078\", ldavis_el948015432955603924431456078_data);\n",
       "      });\n",
       "    });\n",
       "}else{\n",
       "    // require.js not available: dynamically load d3 & LDAvis\n",
       "    LDAvis_load_lib(\"https://cdnjs.cloudflare.com/ajax/libs/d3/3.5.5/d3.min.js\", function(){\n",
       "         LDAvis_load_lib(\"https://cdn.rawgit.com/bmabey/pyLDAvis/files/ldavis.v1.0.0.js\", function(){\n",
       "                 new LDAvis(\"#\" + \"ldavis_el948015432955603924431456078\", ldavis_el948015432955603924431456078_data);\n",
       "            })\n",
       "         });\n",
       "}\n",
       "</script>"
      ],
      "text/plain": [
       "PreparedData(topic_coordinates=               x          y  topics  cluster       Freq\n",
       "topic                                                  \n",
       "7      32.420952   8.115230       1        1  28.380256\n",
       "8       0.648955  71.707100       2        1  15.026726\n",
       "0      71.019684   9.971006       3        1  14.847012\n",
       "4       3.785981  33.185135       4        1   9.679054\n",
       "5     -42.666500  -9.222070       5        1   7.860717\n",
       "3      -3.621689 -43.526516       6        1   7.518432\n",
       "6      -3.632402  -4.171708       7        1   6.045205\n",
       "9     -36.584400  35.804413       8        1   4.686596\n",
       "2      44.391380  50.615383       9        1   4.092501\n",
       "1      40.235809 -31.591665      10        1   1.863502, topic_info=              Term        Freq        Total Category  logprob  loglift\n",
       "11137          god  617.000000   617.000000  Default  30.0000  30.0000\n",
       "9900          file  735.000000   735.000000  Default  29.0000  29.0000\n",
       "10689         game  449.000000   449.000000  Default  28.0000  28.0000\n",
       "4155           car  371.000000   371.000000  Default  27.0000  27.0000\n",
       "26659         team  364.000000   364.000000  Default  26.0000  26.0000\n",
       "...            ...         ...          ...      ...      ...      ...\n",
       "6001   corporation   19.039643   111.820915  Topic10  -5.7184   2.2123\n",
       "3434           box   20.091062   189.600695  Topic10  -5.6646   1.7381\n",
       "29925        write   21.992668  2182.522638  Topic10  -5.5742  -0.6148\n",
       "4705         child   18.429392   227.455487  Topic10  -5.7510   1.4697\n",
       "4433        center   18.178069   246.608329  Topic10  -5.7647   1.3751\n",
       "\n",
       "[693 rows x 6 columns], token_table=       Topic      Freq     Term\n",
       "term                           \n",
       "176        1  0.991704       3d\n",
       "390        1  0.059554  abolish\n",
       "390        3  0.059554  abolish\n",
       "390        5  0.873459  abolish\n",
       "394       10  0.929919    abort\n",
       "...      ...       ...      ...\n",
       "30353      6  0.350918     year\n",
       "30353      7  0.031425     year\n",
       "30353      8  0.018855     year\n",
       "30353      9  0.008380     year\n",
       "30360      8  0.992235    yeast\n",
       "\n",
       "[1628 rows x 3 columns], R=30, lambda_step=0.01, plot_opts={'xlab': 'PC1', 'ylab': 'PC2'}, topic_order=[8, 9, 1, 5, 6, 4, 7, 10, 3, 2])"
      ]
     },
     "execution_count": 51,
     "metadata": {},
     "output_type": "execute_result"
    }
   ],
   "source": [
    "pyLDAvis.enable_notebook()\n",
    "panel = pyLDAvis.sklearn.prepare(lda, X_test_vectorized, vectorizer, mds='tsne')\n",
    "panel"
   ]
  },
  {
   "cell_type": "code",
   "execution_count": null,
   "metadata": {},
   "outputs": [],
   "source": []
  }
 ],
 "metadata": {
  "kernelspec": {
   "display_name": "Python 3",
   "language": "python",
   "name": "python3"
  },
  "language_info": {
   "codemirror_mode": {
    "name": "ipython",
    "version": 3
   },
   "file_extension": ".py",
   "mimetype": "text/x-python",
   "name": "python",
   "nbconvert_exporter": "python",
   "pygments_lexer": "ipython3",
   "version": "3.7.9"
  }
 },
 "nbformat": 4,
 "nbformat_minor": 4
}
